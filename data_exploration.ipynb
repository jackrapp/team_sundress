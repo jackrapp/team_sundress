{
 "cells": [
  {
   "cell_type": "markdown",
   "metadata": {},
   "source": [
    "# Importing Data and Basic Cleaning\n",
    "* Data from:\n",
    "    >https://data.cityofchicago.org/Public-Safety/Crimes-2001-to-present/ijzp-q8t2\n",
    "* Filtered to only get data from 2014-2018\n",
    "* Examining data, spltting date column into features like month/day/day of week/year\n",
    "* Removing any rows with null values"
   ]
  },
  {
   "cell_type": "code",
   "execution_count": 1,
   "metadata": {},
   "outputs": [],
   "source": [
    "import matplotlib.pyplot as plt\n",
    "import pandas as pd\n",
    "import datetime"
   ]
  },
  {
   "cell_type": "code",
   "execution_count": 2,
   "metadata": {},
   "outputs": [],
   "source": [
    "# Import Chicago crime dataset\n",
    "file = 'data/Crimes_-_2001_to_present.csv'\n",
    "df = pd.read_csv(file)"
   ]
  },
  {
   "cell_type": "code",
   "execution_count": 3,
   "metadata": {},
   "outputs": [
    {
     "data": {
      "text/plain": [
       "array([2017, 2015, 2014, 2016, 2018])"
      ]
     },
     "execution_count": 3,
     "metadata": {},
     "output_type": "execute_result"
    }
   ],
   "source": [
    "# Double check years for data pulled from Chicago website - if it matches the filter input when downloading data\n",
    "df['Year'].unique()"
   ]
  },
  {
   "cell_type": "code",
   "execution_count": 4,
   "metadata": {},
   "outputs": [
    {
     "data": {
      "text/html": [
       "<div>\n",
       "<style scoped>\n",
       "    .dataframe tbody tr th:only-of-type {\n",
       "        vertical-align: middle;\n",
       "    }\n",
       "\n",
       "    .dataframe tbody tr th {\n",
       "        vertical-align: top;\n",
       "    }\n",
       "\n",
       "    .dataframe thead th {\n",
       "        text-align: right;\n",
       "    }\n",
       "</style>\n",
       "<table border=\"1\" class=\"dataframe\">\n",
       "  <thead>\n",
       "    <tr style=\"text-align: right;\">\n",
       "      <th></th>\n",
       "      <th>ID</th>\n",
       "      <th>Case Number</th>\n",
       "      <th>Date</th>\n",
       "      <th>Block</th>\n",
       "      <th>IUCR</th>\n",
       "      <th>Primary Type</th>\n",
       "      <th>Description</th>\n",
       "      <th>Location Description</th>\n",
       "      <th>Arrest</th>\n",
       "      <th>Domestic</th>\n",
       "      <th>...</th>\n",
       "      <th>Ward</th>\n",
       "      <th>Community Area</th>\n",
       "      <th>FBI Code</th>\n",
       "      <th>X Coordinate</th>\n",
       "      <th>Y Coordinate</th>\n",
       "      <th>Year</th>\n",
       "      <th>Updated On</th>\n",
       "      <th>Latitude</th>\n",
       "      <th>Longitude</th>\n",
       "      <th>Location</th>\n",
       "    </tr>\n",
       "  </thead>\n",
       "  <tbody>\n",
       "    <tr>\n",
       "      <th>0</th>\n",
       "      <td>11227287</td>\n",
       "      <td>JB147188</td>\n",
       "      <td>2017-10-08 03:00:00</td>\n",
       "      <td>092XX S RACINE AVE</td>\n",
       "      <td>0281</td>\n",
       "      <td>CRIM SEXUAL ASSAULT</td>\n",
       "      <td>NON-AGGRAVATED</td>\n",
       "      <td>RESIDENCE</td>\n",
       "      <td>False</td>\n",
       "      <td>False</td>\n",
       "      <td>...</td>\n",
       "      <td>21.0</td>\n",
       "      <td>73.0</td>\n",
       "      <td>02</td>\n",
       "      <td>NaN</td>\n",
       "      <td>NaN</td>\n",
       "      <td>2017</td>\n",
       "      <td>02/11/2018 03:57:41 PM</td>\n",
       "      <td>NaN</td>\n",
       "      <td>NaN</td>\n",
       "      <td>NaN</td>\n",
       "    </tr>\n",
       "    <tr>\n",
       "      <th>1</th>\n",
       "      <td>11227583</td>\n",
       "      <td>JB147595</td>\n",
       "      <td>2017-03-28 14:00:00</td>\n",
       "      <td>026XX W 79TH ST</td>\n",
       "      <td>0620</td>\n",
       "      <td>BURGLARY</td>\n",
       "      <td>UNLAWFUL ENTRY</td>\n",
       "      <td>OTHER</td>\n",
       "      <td>False</td>\n",
       "      <td>False</td>\n",
       "      <td>...</td>\n",
       "      <td>18.0</td>\n",
       "      <td>70.0</td>\n",
       "      <td>05</td>\n",
       "      <td>NaN</td>\n",
       "      <td>NaN</td>\n",
       "      <td>2017</td>\n",
       "      <td>02/11/2018 03:57:41 PM</td>\n",
       "      <td>NaN</td>\n",
       "      <td>NaN</td>\n",
       "      <td>NaN</td>\n",
       "    </tr>\n",
       "    <tr>\n",
       "      <th>2</th>\n",
       "      <td>11227293</td>\n",
       "      <td>JB147230</td>\n",
       "      <td>2017-09-09 20:17:00</td>\n",
       "      <td>060XX S EBERHART AVE</td>\n",
       "      <td>0810</td>\n",
       "      <td>THEFT</td>\n",
       "      <td>OVER $500</td>\n",
       "      <td>RESIDENCE</td>\n",
       "      <td>False</td>\n",
       "      <td>False</td>\n",
       "      <td>...</td>\n",
       "      <td>20.0</td>\n",
       "      <td>42.0</td>\n",
       "      <td>06</td>\n",
       "      <td>NaN</td>\n",
       "      <td>NaN</td>\n",
       "      <td>2017</td>\n",
       "      <td>02/11/2018 03:57:41 PM</td>\n",
       "      <td>NaN</td>\n",
       "      <td>NaN</td>\n",
       "      <td>NaN</td>\n",
       "    </tr>\n",
       "    <tr>\n",
       "      <th>3</th>\n",
       "      <td>11227634</td>\n",
       "      <td>JB147599</td>\n",
       "      <td>2017-08-26 10:00:00</td>\n",
       "      <td>001XX W RANDOLPH ST</td>\n",
       "      <td>0281</td>\n",
       "      <td>CRIM SEXUAL ASSAULT</td>\n",
       "      <td>NON-AGGRAVATED</td>\n",
       "      <td>HOTEL/MOTEL</td>\n",
       "      <td>False</td>\n",
       "      <td>False</td>\n",
       "      <td>...</td>\n",
       "      <td>42.0</td>\n",
       "      <td>32.0</td>\n",
       "      <td>02</td>\n",
       "      <td>NaN</td>\n",
       "      <td>NaN</td>\n",
       "      <td>2017</td>\n",
       "      <td>02/11/2018 03:57:41 PM</td>\n",
       "      <td>NaN</td>\n",
       "      <td>NaN</td>\n",
       "      <td>NaN</td>\n",
       "    </tr>\n",
       "    <tr>\n",
       "      <th>4</th>\n",
       "      <td>11227503</td>\n",
       "      <td>JB146383</td>\n",
       "      <td>2015-01-01 00:01:00</td>\n",
       "      <td>061XX S KILBOURN AVE</td>\n",
       "      <td>1751</td>\n",
       "      <td>OFFENSE INVOLVING CHILDREN</td>\n",
       "      <td>CRIM SEX ABUSE BY FAM MEMBER</td>\n",
       "      <td>RESIDENCE</td>\n",
       "      <td>False</td>\n",
       "      <td>True</td>\n",
       "      <td>...</td>\n",
       "      <td>13.0</td>\n",
       "      <td>65.0</td>\n",
       "      <td>17</td>\n",
       "      <td>NaN</td>\n",
       "      <td>NaN</td>\n",
       "      <td>2015</td>\n",
       "      <td>04/12/2019 04:00:15 PM</td>\n",
       "      <td>NaN</td>\n",
       "      <td>NaN</td>\n",
       "      <td>NaN</td>\n",
       "    </tr>\n",
       "  </tbody>\n",
       "</table>\n",
       "<p>5 rows × 22 columns</p>\n",
       "</div>"
      ],
      "text/plain": [
       "         ID Case Number                Date                 Block  IUCR  \\\n",
       "0  11227287    JB147188 2017-10-08 03:00:00    092XX S RACINE AVE  0281   \n",
       "1  11227583    JB147595 2017-03-28 14:00:00       026XX W 79TH ST  0620   \n",
       "2  11227293    JB147230 2017-09-09 20:17:00  060XX S EBERHART AVE  0810   \n",
       "3  11227634    JB147599 2017-08-26 10:00:00   001XX W RANDOLPH ST  0281   \n",
       "4  11227503    JB146383 2015-01-01 00:01:00  061XX S KILBOURN AVE  1751   \n",
       "\n",
       "                 Primary Type                   Description  \\\n",
       "0         CRIM SEXUAL ASSAULT                NON-AGGRAVATED   \n",
       "1                    BURGLARY                UNLAWFUL ENTRY   \n",
       "2                       THEFT                     OVER $500   \n",
       "3         CRIM SEXUAL ASSAULT                NON-AGGRAVATED   \n",
       "4  OFFENSE INVOLVING CHILDREN  CRIM SEX ABUSE BY FAM MEMBER   \n",
       "\n",
       "  Location Description  Arrest  Domestic  ...  Ward  Community Area  FBI Code  \\\n",
       "0            RESIDENCE   False     False  ...  21.0            73.0        02   \n",
       "1                OTHER   False     False  ...  18.0            70.0        05   \n",
       "2            RESIDENCE   False     False  ...  20.0            42.0        06   \n",
       "3          HOTEL/MOTEL   False     False  ...  42.0            32.0        02   \n",
       "4            RESIDENCE   False      True  ...  13.0            65.0        17   \n",
       "\n",
       "   X Coordinate Y Coordinate  Year              Updated On  Latitude  \\\n",
       "0           NaN          NaN  2017  02/11/2018 03:57:41 PM       NaN   \n",
       "1           NaN          NaN  2017  02/11/2018 03:57:41 PM       NaN   \n",
       "2           NaN          NaN  2017  02/11/2018 03:57:41 PM       NaN   \n",
       "3           NaN          NaN  2017  02/11/2018 03:57:41 PM       NaN   \n",
       "4           NaN          NaN  2015  04/12/2019 04:00:15 PM       NaN   \n",
       "\n",
       "  Longitude  Location  \n",
       "0       NaN       NaN  \n",
       "1       NaN       NaN  \n",
       "2       NaN       NaN  \n",
       "3       NaN       NaN  \n",
       "4       NaN       NaN  \n",
       "\n",
       "[5 rows x 22 columns]"
      ]
     },
     "execution_count": 4,
     "metadata": {},
     "output_type": "execute_result"
    }
   ],
   "source": [
    "# Convert column to datetime\n",
    "df['Date'] = df['Date'].apply(lambda x: datetime.datetime.strptime(x,\"%m/%d/%Y %I:%M:%S %p\"))\n",
    "df.head()"
   ]
  },
  {
   "cell_type": "code",
   "execution_count": 5,
   "metadata": {},
   "outputs": [],
   "source": [
    "# Breaking down datetime into multiple features\n",
    "df['Year'] = df['Date'].dt.year\n",
    "df['Month'] = df['Date'].dt.month\n",
    "df['Day'] = df['Date'].dt.day\n",
    "df['Weekday'] = df['Date'].dt.dayofweek\n",
    "df['HourOfDay'] = df['Date'].dt.hour\n",
    "df = df.sort_values('Date')"
   ]
  },
  {
   "cell_type": "code",
   "execution_count": 6,
   "metadata": {},
   "outputs": [
    {
     "data": {
      "text/plain": [
       "ID                      1343272\n",
       "Case Number             1343272\n",
       "Date                    1343272\n",
       "Block                   1343272\n",
       "IUCR                    1343272\n",
       "Primary Type            1343272\n",
       "Description             1343272\n",
       "Location Description    1339597\n",
       "Arrest                  1343272\n",
       "Domestic                1343272\n",
       "Beat                    1343272\n",
       "District                1343271\n",
       "Ward                    1343264\n",
       "Community Area          1343270\n",
       "FBI Code                1343272\n",
       "X Coordinate            1327324\n",
       "Y Coordinate            1327324\n",
       "Year                    1343272\n",
       "Updated On              1343272\n",
       "Latitude                1327324\n",
       "Longitude               1327324\n",
       "Location                1327324\n",
       "Month                   1343272\n",
       "Day                     1343272\n",
       "Weekday                 1343272\n",
       "HourOfDay               1343272\n",
       "dtype: int64"
      ]
     },
     "execution_count": 6,
     "metadata": {},
     "output_type": "execute_result"
    }
   ],
   "source": [
    "# Check for null values\n",
    "df.count()"
   ]
  },
  {
   "cell_type": "code",
   "execution_count": 7,
   "metadata": {},
   "outputs": [
    {
     "data": {
      "text/plain": [
       "ID                      1324815\n",
       "Case Number             1324815\n",
       "Date                    1324815\n",
       "Block                   1324815\n",
       "IUCR                    1324815\n",
       "Primary Type            1324815\n",
       "Description             1324815\n",
       "Location Description    1324815\n",
       "Arrest                  1324815\n",
       "Domestic                1324815\n",
       "Beat                    1324815\n",
       "District                1324815\n",
       "Ward                    1324815\n",
       "Community Area          1324815\n",
       "FBI Code                1324815\n",
       "X Coordinate            1324815\n",
       "Y Coordinate            1324815\n",
       "Year                    1324815\n",
       "Updated On              1324815\n",
       "Latitude                1324815\n",
       "Longitude               1324815\n",
       "Location                1324815\n",
       "Month                   1324815\n",
       "Day                     1324815\n",
       "Weekday                 1324815\n",
       "HourOfDay               1324815\n",
       "dtype: int64"
      ]
     },
     "execution_count": 7,
     "metadata": {},
     "output_type": "execute_result"
    }
   ],
   "source": [
    "# Dropping any rows with null values\n",
    "null_df = df.dropna()\n",
    "null_df.count()"
   ]
  },
  {
   "cell_type": "code",
   "execution_count": 8,
   "metadata": {},
   "outputs": [
    {
     "data": {
      "text/plain": [
       "THEFT                                306694\n",
       "BATTERY                              247338\n",
       "CRIMINAL DAMAGE                      143951\n",
       "ASSAULT                               92192\n",
       "NARCOTICS                             88042\n",
       "OTHER OFFENSE                         85343\n",
       "DECEPTIVE PRACTICE                    80367\n",
       "BURGLARY                              66571\n",
       "ROBBERY                               52929\n",
       "MOTOR VEHICLE THEFT                   52500\n",
       "CRIMINAL TRESPASS                     33901\n",
       "WEAPONS VIOLATION                     20017\n",
       "OFFENSE INVOLVING CHILDREN            10882\n",
       "PUBLIC PEACE VIOLATION                 9775\n",
       "CRIM SEXUAL ASSAULT                    7150\n",
       "INTERFERENCE WITH PUBLIC OFFICER       6025\n",
       "PROSTITUTION                           5196\n",
       "SEX OFFENSE                            4705\n",
       "HOMICIDE                               2980\n",
       "ARSON                                  2181\n",
       "LIQUOR LAW VIOLATION                   1369\n",
       "GAMBLING                               1284\n",
       "KIDNAPPING                              972\n",
       "STALKING                                845\n",
       "INTIMIDATION                            683\n",
       "CONCEALED CARRY LICENSE VIOLATION       301\n",
       "OBSCENITY                               295\n",
       "NON-CRIMINAL                            148\n",
       "PUBLIC INDECENCY                         58\n",
       "HUMAN TRAFFICKING                        48\n",
       "NON - CRIMINAL                           35\n",
       "OTHER NARCOTIC VIOLATION                 31\n",
       "NON-CRIMINAL (SUBJECT SPECIFIED)          7\n",
       "Name: Primary Type, dtype: int64"
      ]
     },
     "execution_count": 8,
     "metadata": {},
     "output_type": "execute_result"
    }
   ],
   "source": [
    "null_df['Primary Type'].value_counts()"
   ]
  },
  {
   "cell_type": "markdown",
   "metadata": {},
   "source": [
    "# Cleaning the Data in Primary Type and Description Columns\n",
    "* First look through primary types for similar types that can be combined\n",
    "* Use Description column to distingiush between simple/aggravated crimes - clean up and combine\n",
    "* IUCR codes and crime descriptions can be found here:\n",
    "    > http://gis.chicagopolice.org/CLEARMap_crime_sums/crime_types.html"
   ]
  },
  {
   "cell_type": "code",
   "execution_count": 9,
   "metadata": {},
   "outputs": [
    {
     "name": "stderr",
     "output_type": "stream",
     "text": [
      "/anaconda3/envs/bigdata/lib/python3.6/site-packages/pandas/core/indexing.py:543: SettingWithCopyWarning: \n",
      "A value is trying to be set on a copy of a slice from a DataFrame.\n",
      "Try using .loc[row_indexer,col_indexer] = value instead\n",
      "\n",
      "See the caveats in the documentation: http://pandas.pydata.org/pandas-docs/stable/indexing.html#indexing-view-versus-copy\n",
      "  self.obj[item] = s\n"
     ]
    }
   ],
   "source": [
    "# Combine similar offense types in Primary Type column\n",
    "null_df.loc[(null_df['Primary Type'] =='NON - CRIMINAL'), 'Primary Type'] = 'NON-CRIMINAL'\n",
    "null_df.loc[(null_df['Primary Type'] =='NON-CRIMINAL (SUBJECT SPECIFIED)'), 'Primary Type'] = 'NON-CRIMINAL'"
   ]
  },
  {
   "cell_type": "code",
   "execution_count": 10,
   "metadata": {},
   "outputs": [
    {
     "data": {
      "text/plain": [
       "LOST PASSPORT                                  93\n",
       "FOID - REVOCATION                              71\n",
       "NOTIFICATION OF STALKING - NO CONTACT ORDER     8\n",
       "NOTIFICATION OF CIVIL NO CONTACT ORDER          7\n",
       "CONCEALED CARRY LICENSE REVOCATION              5\n",
       "GUN OFFENDER NOTIFICATION-NO CONTACT            3\n",
       "FOUND PASSPORT                                  3\n",
       "Name: Description, dtype: int64"
      ]
     },
     "execution_count": 10,
     "metadata": {},
     "output_type": "execute_result"
    }
   ],
   "source": [
    "# Checking IUCR against chicago police to decide where to combine columns\n",
    "    # Drop non-criminal from dataframe\n",
    "iucr_df = null_df.loc[null_df['Primary Type'] == 'NON-CRIMINAL']\n",
    "iucr_df['Description'].value_counts()"
   ]
  },
  {
   "cell_type": "code",
   "execution_count": 11,
   "metadata": {},
   "outputs": [],
   "source": [
    "null_df = null_df[null_df['Primary Type'] != 'NON-CRIMINAL']"
   ]
  },
  {
   "cell_type": "code",
   "execution_count": 12,
   "metadata": {},
   "outputs": [
    {
     "data": {
      "text/plain": [
       "THEFT                                306694\n",
       "BATTERY                              247338\n",
       "CRIMINAL DAMAGE                      143951\n",
       "ASSAULT                               92192\n",
       "NARCOTICS                             88042\n",
       "OTHER OFFENSE                         85343\n",
       "DECEPTIVE PRACTICE                    80367\n",
       "BURGLARY                              66571\n",
       "ROBBERY                               52929\n",
       "MOTOR VEHICLE THEFT                   52500\n",
       "CRIMINAL TRESPASS                     33901\n",
       "WEAPONS VIOLATION                     20017\n",
       "OFFENSE INVOLVING CHILDREN            10882\n",
       "PUBLIC PEACE VIOLATION                 9775\n",
       "CRIM SEXUAL ASSAULT                    7150\n",
       "INTERFERENCE WITH PUBLIC OFFICER       6025\n",
       "PROSTITUTION                           5196\n",
       "SEX OFFENSE                            4705\n",
       "HOMICIDE                               2980\n",
       "ARSON                                  2181\n",
       "LIQUOR LAW VIOLATION                   1369\n",
       "GAMBLING                               1284\n",
       "KIDNAPPING                              972\n",
       "STALKING                                845\n",
       "INTIMIDATION                            683\n",
       "CONCEALED CARRY LICENSE VIOLATION       301\n",
       "OBSCENITY                               295\n",
       "PUBLIC INDECENCY                         58\n",
       "HUMAN TRAFFICKING                        48\n",
       "OTHER NARCOTIC VIOLATION                 31\n",
       "Name: Primary Type, dtype: int64"
      ]
     },
     "execution_count": 12,
     "metadata": {},
     "output_type": "execute_result"
    }
   ],
   "source": [
    "null_df['Primary Type'].value_counts()"
   ]
  },
  {
   "cell_type": "code",
   "execution_count": 13,
   "metadata": {},
   "outputs": [
    {
     "data": {
      "text/plain": [
       "INTOXICATING COMPOUNDS    31\n",
       "Name: Description, dtype: int64"
      ]
     },
     "execution_count": 13,
     "metadata": {},
     "output_type": "execute_result"
    }
   ],
   "source": [
    "# Checking IUCR against chicago police to decide where to combine columns\n",
    "    # Combine with narcotics\n",
    "iucr_df = null_df.loc[null_df['Primary Type'] == 'OTHER NARCOTIC VIOLATION']\n",
    "iucr_df['Description'].value_counts()"
   ]
  },
  {
   "cell_type": "code",
   "execution_count": 14,
   "metadata": {},
   "outputs": [],
   "source": [
    "null_df.loc[(null_df['Primary Type'] =='OTHER NARCOTIC VIOLATION'), 'Primary Type'] = 'NARCOTICS'"
   ]
  },
  {
   "cell_type": "code",
   "execution_count": 15,
   "metadata": {},
   "outputs": [
    {
     "data": {
      "text/plain": [
       "PROHIBITED PLACES                  119\n",
       "ARMED WHILE UNDER THE INFLUENCE     93\n",
       "OTHER                               89\n",
       "Name: Description, dtype: int64"
      ]
     },
     "execution_count": 15,
     "metadata": {},
     "output_type": "execute_result"
    }
   ],
   "source": [
    "# Checking IUCR against chicago police to decide where to combine columns\n",
    "    # Combine with weapons, change description to concealed carry violation\n",
    "iucr_df = null_df.loc[null_df['Primary Type'] == 'CONCEALED CARRY LICENSE VIOLATION']\n",
    "iucr_df['Description'].value_counts()"
   ]
  },
  {
   "cell_type": "code",
   "execution_count": 16,
   "metadata": {},
   "outputs": [],
   "source": [
    "null_df.loc[(null_df['Primary Type'] =='CONCEALED CARRY LICENSE VIOLATION'), 'Description'] = 'CONCEALED CARRY LICENSE VIOLATION'"
   ]
  },
  {
   "cell_type": "code",
   "execution_count": 17,
   "metadata": {},
   "outputs": [],
   "source": [
    "null_df.loc[(null_df['Primary Type'] =='CONCEALED CARRY LICENSE VIOLATION'), 'Primary Type'] = 'WEAPONS VIOLATION'"
   ]
  },
  {
   "cell_type": "code",
   "execution_count": 18,
   "metadata": {},
   "outputs": [
    {
     "data": {
      "text/plain": [
       "THEFT                               306694\n",
       "BATTERY                             247338\n",
       "CRIMINAL DAMAGE                     143951\n",
       "ASSAULT                              92192\n",
       "NARCOTICS                            88073\n",
       "OTHER OFFENSE                        85343\n",
       "DECEPTIVE PRACTICE                   80367\n",
       "BURGLARY                             66571\n",
       "ROBBERY                              52929\n",
       "MOTOR VEHICLE THEFT                  52500\n",
       "CRIMINAL TRESPASS                    33901\n",
       "WEAPONS VIOLATION                    20318\n",
       "OFFENSE INVOLVING CHILDREN           10882\n",
       "PUBLIC PEACE VIOLATION                9775\n",
       "CRIM SEXUAL ASSAULT                   7150\n",
       "INTERFERENCE WITH PUBLIC OFFICER      6025\n",
       "PROSTITUTION                          5196\n",
       "SEX OFFENSE                           4705\n",
       "HOMICIDE                              2980\n",
       "ARSON                                 2181\n",
       "LIQUOR LAW VIOLATION                  1369\n",
       "GAMBLING                              1284\n",
       "KIDNAPPING                             972\n",
       "STALKING                               845\n",
       "INTIMIDATION                           683\n",
       "OBSCENITY                              295\n",
       "PUBLIC INDECENCY                        58\n",
       "HUMAN TRAFFICKING                       48\n",
       "Name: Primary Type, dtype: int64"
      ]
     },
     "execution_count": 18,
     "metadata": {},
     "output_type": "execute_result"
    }
   ],
   "source": [
    "null_df['Primary Type'].value_counts()"
   ]
  },
  {
   "cell_type": "code",
   "execution_count": 19,
   "metadata": {},
   "outputs": [
    {
     "data": {
      "text/plain": [
       "1540    177\n",
       "1541     64\n",
       "1535     54\n",
       "Name: IUCR, dtype: int64"
      ]
     },
     "execution_count": 19,
     "metadata": {},
     "output_type": "execute_result"
    }
   ],
   "source": [
    "# Checking IUCR against chicago police to decide where to combine columns\n",
    "    # Combine with sex offense\n",
    "iucr_df = null_df.loc[null_df['Primary Type'] == 'OBSCENITY']\n",
    "iucr_df['IUCR'].value_counts()"
   ]
  },
  {
   "cell_type": "code",
   "execution_count": 20,
   "metadata": {},
   "outputs": [
    {
     "data": {
      "text/plain": [
       "0281    4612\n",
       "0265     944\n",
       "0266     566\n",
       "0291     354\n",
       "0261     310\n",
       "0263     186\n",
       "0264      75\n",
       "0275      55\n",
       "0271      22\n",
       "0273      15\n",
       "0274       5\n",
       "0262       5\n",
       "0272       1\n",
       "Name: IUCR, dtype: int64"
      ]
     },
     "execution_count": 20,
     "metadata": {},
     "output_type": "execute_result"
    }
   ],
   "source": [
    "# Checking IUCR against chicago police to decide where to combine columns\n",
    "    # Do not combine with sex offense\n",
    "iucr_df = null_df.loc[null_df['Primary Type'] == 'CRIM SEXUAL ASSAULT']\n",
    "iucr_df['IUCR'].value_counts()"
   ]
  },
  {
   "cell_type": "code",
   "execution_count": 21,
   "metadata": {},
   "outputs": [
    {
     "data": {
      "text/plain": [
       "1536    58\n",
       "Name: IUCR, dtype: int64"
      ]
     },
     "execution_count": 21,
     "metadata": {},
     "output_type": "execute_result"
    }
   ],
   "source": [
    "# Checking IUCR against chicago police to decide where to combine columns\n",
    "    # Combine with sex offense, set description to public indecency\n",
    "iucr_df = null_df.loc[null_df['Primary Type'] == 'PUBLIC INDECENCY']\n",
    "iucr_df['IUCR'].value_counts()"
   ]
  },
  {
   "cell_type": "code",
   "execution_count": 22,
   "metadata": {},
   "outputs": [],
   "source": [
    "# Set Public indecency to Description, then combine with Sex Offense\n",
    "null_df.loc[(null_df['Primary Type'] =='PUBLIC INDECENCY'), 'Description'] = 'PUBLIC INDECENCY'"
   ]
  },
  {
   "cell_type": "code",
   "execution_count": 23,
   "metadata": {},
   "outputs": [],
   "source": [
    "# Combine Obscenity, Public Indecency with Sex Offense\n",
    "null_df.loc[(null_df['Primary Type'] =='PUBLIC INDECENCY'), 'Primary Type'] = 'SEX OFFENSE'\n",
    "null_df.loc[(null_df['Primary Type'] =='OBSCENITY'), 'Primary Type'] = 'SEX OFFENSE'"
   ]
  },
  {
   "cell_type": "code",
   "execution_count": 24,
   "metadata": {},
   "outputs": [
    {
     "data": {
      "text/plain": [
       "THEFT                               306694\n",
       "BATTERY                             247338\n",
       "CRIMINAL DAMAGE                     143951\n",
       "ASSAULT                              92192\n",
       "NARCOTICS                            88073\n",
       "OTHER OFFENSE                        85343\n",
       "DECEPTIVE PRACTICE                   80367\n",
       "BURGLARY                             66571\n",
       "ROBBERY                              52929\n",
       "MOTOR VEHICLE THEFT                  52500\n",
       "CRIMINAL TRESPASS                    33901\n",
       "WEAPONS VIOLATION                    20318\n",
       "OFFENSE INVOLVING CHILDREN           10882\n",
       "PUBLIC PEACE VIOLATION                9775\n",
       "CRIM SEXUAL ASSAULT                   7150\n",
       "INTERFERENCE WITH PUBLIC OFFICER      6025\n",
       "PROSTITUTION                          5196\n",
       "SEX OFFENSE                           5058\n",
       "HOMICIDE                              2980\n",
       "ARSON                                 2181\n",
       "LIQUOR LAW VIOLATION                  1369\n",
       "GAMBLING                              1284\n",
       "KIDNAPPING                             972\n",
       "STALKING                               845\n",
       "INTIMIDATION                           683\n",
       "HUMAN TRAFFICKING                       48\n",
       "Name: Primary Type, dtype: int64"
      ]
     },
     "execution_count": 24,
     "metadata": {},
     "output_type": "execute_result"
    }
   ],
   "source": [
    "null_df['Primary Type'].value_counts()"
   ]
  },
  {
   "cell_type": "code",
   "execution_count": 25,
   "metadata": {},
   "outputs": [
    {
     "data": {
      "text/plain": [
       "COMMERCIAL SEX ACTS      26\n",
       "INVOLUNTARY SERVITUDE    22\n",
       "Name: Description, dtype: int64"
      ]
     },
     "execution_count": 25,
     "metadata": {},
     "output_type": "execute_result"
    }
   ],
   "source": [
    "# Checking IUCR against chicago police to decide where to combine columns\n",
    "    # From description fits best with prostitution\n",
    "iucr_df = null_df.loc[null_df['Primary Type'] == 'HUMAN TRAFFICKING']\n",
    "iucr_df['Description'].value_counts()"
   ]
  },
  {
   "cell_type": "code",
   "execution_count": 26,
   "metadata": {},
   "outputs": [],
   "source": [
    "# Set Human Trafficking description to human trafficking\n",
    "null_df.loc[(null_df['Primary Type'] =='HUMAN TRAFFICKING'), 'Description'] = 'HUMAN TRAFFICKING'"
   ]
  },
  {
   "cell_type": "code",
   "execution_count": 27,
   "metadata": {},
   "outputs": [],
   "source": [
    "# Combine Human Trafficking with Prostitution\n",
    "null_df.loc[(null_df['Primary Type'] =='HUMAN TRAFFICKING'), 'Primary Type'] = 'PROSTITUTION'"
   ]
  },
  {
   "cell_type": "code",
   "execution_count": 28,
   "metadata": {},
   "outputs": [
    {
     "data": {
      "text/plain": [
       "THEFT                               306694\n",
       "BATTERY                             247338\n",
       "CRIMINAL DAMAGE                     143951\n",
       "ASSAULT                              92192\n",
       "NARCOTICS                            88073\n",
       "OTHER OFFENSE                        85343\n",
       "DECEPTIVE PRACTICE                   80367\n",
       "BURGLARY                             66571\n",
       "ROBBERY                              52929\n",
       "MOTOR VEHICLE THEFT                  52500\n",
       "CRIMINAL TRESPASS                    33901\n",
       "WEAPONS VIOLATION                    20318\n",
       "OFFENSE INVOLVING CHILDREN           10882\n",
       "PUBLIC PEACE VIOLATION                9775\n",
       "CRIM SEXUAL ASSAULT                   7150\n",
       "INTERFERENCE WITH PUBLIC OFFICER      6025\n",
       "PROSTITUTION                          5244\n",
       "SEX OFFENSE                           5058\n",
       "HOMICIDE                              2980\n",
       "ARSON                                 2181\n",
       "LIQUOR LAW VIOLATION                  1369\n",
       "GAMBLING                              1284\n",
       "KIDNAPPING                             972\n",
       "STALKING                               845\n",
       "INTIMIDATION                           683\n",
       "Name: Primary Type, dtype: int64"
      ]
     },
     "execution_count": 28,
     "metadata": {},
     "output_type": "execute_result"
    }
   ],
   "source": [
    "null_df['Primary Type'].value_counts()"
   ]
  },
  {
   "cell_type": "code",
   "execution_count": 29,
   "metadata": {},
   "outputs": [
    {
     "data": {
      "text/plain": [
       "3731    3681\n",
       "3710    1652\n",
       "3730     380\n",
       "3760     149\n",
       "3800      76\n",
       "3750      61\n",
       "3910      14\n",
       "3920       5\n",
       "3740       3\n",
       "3751       2\n",
       "3770       1\n",
       "3720       1\n",
       "Name: IUCR, dtype: int64"
      ]
     },
     "execution_count": 29,
     "metadata": {},
     "output_type": "execute_result"
    }
   ],
   "source": [
    "# Checking IUCR against chicago police to decide where to combine columns\n",
    "    # Public Peace Violation different from Interference with Public Officer\n",
    "iucr_df = null_df.loc[null_df['Primary Type'] == 'INTERFERENCE WITH PUBLIC OFFICER']\n",
    "iucr_df['IUCR'].value_counts()"
   ]
  },
  {
   "cell_type": "code",
   "execution_count": 30,
   "metadata": {},
   "outputs": [
    {
     "data": {
      "text/plain": [
       "INTIMIDATION                                455\n",
       "EXTORTION                                   214\n",
       "EDUCATIONAL INTIMIDAITON                      4\n",
       "INTIMIDATION OF LAW ENFORCEMENT OFFICIAL      4\n",
       "COMPELLING ORG MEMBERSHIP                     4\n",
       "COMPELLING CONFESSION                         2\n",
       "Name: Description, dtype: int64"
      ]
     },
     "execution_count": 30,
     "metadata": {},
     "output_type": "execute_result"
    }
   ],
   "source": [
    "# Checking IUCR against chicago police to decide where to combine columns\n",
    "    # Leave intimidation separate unless too many features in random forest\n",
    "iucr_df = null_df.loc[null_df['Primary Type'] == 'INTIMIDATION']\n",
    "iucr_df['Description'].value_counts()"
   ]
  },
  {
   "cell_type": "code",
   "execution_count": 31,
   "metadata": {},
   "outputs": [],
   "source": [
    "# Combining similar descriptions within intimidation\n",
    "null_df.loc[(null_df['Description'] =='INTIMIDATION OF LAW ENFORCEMENT OFFICIAL'), 'Description'] = 'INTIMIDATION'\n",
    "null_df.loc[(null_df['Description'] =='EDUCATIONAL INTIMIDAITON'), 'Description'] = 'INTIMIDATION'\n",
    "null_df.loc[(null_df['Description'] =='COMPELLING ORG MEMBERSHIP'), 'Description'] = 'INTIMIDATION'\n",
    "null_df.loc[(null_df['Description'] =='COMPELLING CONFESSION'), 'Description'] = 'INTIMIDATION'"
   ]
  },
  {
   "cell_type": "code",
   "execution_count": 32,
   "metadata": {},
   "outputs": [
    {
     "data": {
      "text/plain": [
       "INTIMIDATION    469\n",
       "EXTORTION       214\n",
       "Name: Description, dtype: int64"
      ]
     },
     "execution_count": 32,
     "metadata": {},
     "output_type": "execute_result"
    }
   ],
   "source": [
    "iucr_df = null_df.loc[null_df['Primary Type'] == 'INTIMIDATION']\n",
    "iucr_df['Description'].value_counts()"
   ]
  },
  {
   "cell_type": "code",
   "execution_count": 33,
   "metadata": {},
   "outputs": [
    {
     "data": {
      "text/plain": [
       "SIMPLE                                    639\n",
       "CYBERSTALKING                             101\n",
       "VIOLATION OF STALKING NO CONTACT ORDER     93\n",
       "AGGRAVATED                                 12\n",
       "Name: Description, dtype: int64"
      ]
     },
     "execution_count": 33,
     "metadata": {},
     "output_type": "execute_result"
    }
   ],
   "source": [
    "# Checking IUCR against chicago police to decide where to combine columns\n",
    "    # Leave stalking separate unless too many features in random forest\n",
    "iucr_df = null_df.loc[null_df['Primary Type'] == 'STALKING']\n",
    "iucr_df['Description'].value_counts()"
   ]
  },
  {
   "cell_type": "code",
   "execution_count": 34,
   "metadata": {},
   "outputs": [
    {
     "data": {
      "text/plain": [
       "CHILD ABDUCTION/STRANGER         383\n",
       "UNLAWFUL INTERFERE/VISITATION    273\n",
       "UNLAWFUL RESTRAINT               169\n",
       "KIDNAPPING                        89\n",
       "AGGRAVATED                        45\n",
       "FORCIBLE DETENTION                13\n",
       "Name: Description, dtype: int64"
      ]
     },
     "execution_count": 34,
     "metadata": {},
     "output_type": "execute_result"
    }
   ],
   "source": [
    "# Checking IUCR against chicago police to decide where to combine columns\n",
    "    # Leave kidnapping separate unless too many features in random forest\n",
    "iucr_df = null_df.loc[null_df['Primary Type'] == 'KIDNAPPING']\n",
    "iucr_df['Description'].value_counts()"
   ]
  },
  {
   "cell_type": "code",
   "execution_count": 35,
   "metadata": {},
   "outputs": [
    {
     "data": {
      "text/plain": [
       "GAME/DICE                1200\n",
       "GAME/AMUSEMENT DEVICE      36\n",
       "OTHER                      33\n",
       "GAME/CARDS                 15\n",
       "Name: Description, dtype: int64"
      ]
     },
     "execution_count": 35,
     "metadata": {},
     "output_type": "execute_result"
    }
   ],
   "source": [
    "# Checking IUCR against chicago police to decide where to combine columns\n",
    "    # Leave gambling separate unless too many features in random forest\n",
    "iucr_df = null_df.loc[null_df['Primary Type'] == 'GAMBLING']\n",
    "iucr_df['Description'].value_counts()"
   ]
  },
  {
   "cell_type": "code",
   "execution_count": 36,
   "metadata": {},
   "outputs": [
    {
     "data": {
      "text/plain": [
       "LIQUOR LICENSE VIOLATION         649\n",
       "SELL/GIVE/DEL LIQUOR TO MINOR    311\n",
       "ILLEGAL POSSESSION BY MINOR      268\n",
       "ILLEGAL CONSUMPTION BY MINOR     137\n",
       "MINOR MISREPRESENT AGE             4\n",
       "Name: Description, dtype: int64"
      ]
     },
     "execution_count": 36,
     "metadata": {},
     "output_type": "execute_result"
    }
   ],
   "source": [
    "# Checking IUCR against chicago police to decide where to combine columns\n",
    "    # Combine minor posession/consumption and age misrepresent\n",
    "iucr_df = null_df.loc[null_df['Primary Type'] == 'LIQUOR LAW VIOLATION']\n",
    "iucr_df['Description'].value_counts()"
   ]
  },
  {
   "cell_type": "code",
   "execution_count": 37,
   "metadata": {},
   "outputs": [],
   "source": [
    "# Combining similar minor descriptions within liquor laws\n",
    "null_df.loc[(null_df['Description'] =='ILLEGAL POSSESSION BY MINOR'), 'Description'] = 'ILLEGAL POSSESSION/CONSUMPTION BY MINOR'\n",
    "null_df.loc[(null_df['Description'] =='ILLEGAL CONSUMPTION BY MINOR'), 'Description'] = 'ILLEGAL POSSESSION/CONSUMPTION BY MINOR'\n",
    "null_df.loc[(null_df['Description'] =='MINOR MISREPRESENT AGE'), 'Description'] = 'ILLEGAL POSSESSION/CONSUMPTION BY MINOR'"
   ]
  },
  {
   "cell_type": "code",
   "execution_count": 38,
   "metadata": {},
   "outputs": [
    {
     "data": {
      "text/plain": [
       "LIQUOR LICENSE VIOLATION                   649\n",
       "ILLEGAL POSSESSION/CONSUMPTION BY MINOR    409\n",
       "SELL/GIVE/DEL LIQUOR TO MINOR              311\n",
       "Name: Description, dtype: int64"
      ]
     },
     "execution_count": 38,
     "metadata": {},
     "output_type": "execute_result"
    }
   ],
   "source": [
    "# Checking IUCR against chicago police to decide where to combine columns\n",
    "    # Combine minor posession/consumption and age misrepresent\n",
    "iucr_df = null_df.loc[null_df['Primary Type'] == 'LIQUOR LAW VIOLATION']\n",
    "iucr_df['Description'].value_counts()"
   ]
  },
  {
   "cell_type": "code",
   "execution_count": 39,
   "metadata": {},
   "outputs": [
    {
     "data": {
      "text/plain": [
       "BY FIRE                          1565\n",
       "AGGRAVATED                        315\n",
       "ATTEMPT ARSON                     270\n",
       "BY EXPLOSIVE                       16\n",
       "POS: EXPLOSIVE/INCENDIARY DEV      14\n",
       "POS: CHEMICAL/DRY-ICE DEVICE        1\n",
       "Name: Description, dtype: int64"
      ]
     },
     "execution_count": 39,
     "metadata": {},
     "output_type": "execute_result"
    }
   ],
   "source": [
    "# Checking IUCR against chicago police to decide where to combine columns\n",
    "    # Combine possesion descriptions\n",
    "iucr_df = null_df.loc[null_df['Primary Type'] == 'ARSON']\n",
    "iucr_df['Description'].value_counts()"
   ]
  },
  {
   "cell_type": "code",
   "execution_count": 40,
   "metadata": {},
   "outputs": [],
   "source": [
    "# Combining similar device posession in arson\n",
    "null_df.loc[(null_df['Description'] =='POS: EXPLOSIVE/INCENDIARY DEV'), 'Description'] = 'POSSESION OF EXPLOSIVE DEVICE'\n",
    "null_df.loc[(null_df['Description'] =='POS: CHEMICAL/DRY-ICE DEVICE'), 'Description'] = 'POSSESION OF EXPLOSIVE DEVICE'"
   ]
  },
  {
   "cell_type": "code",
   "execution_count": 41,
   "metadata": {},
   "outputs": [
    {
     "data": {
      "text/plain": [
       "BY FIRE                          1565\n",
       "AGGRAVATED                        315\n",
       "ATTEMPT ARSON                     270\n",
       "BY EXPLOSIVE                       16\n",
       "POSSESION OF EXPLOSIVE DEVICE      15\n",
       "Name: Description, dtype: int64"
      ]
     },
     "execution_count": 41,
     "metadata": {},
     "output_type": "execute_result"
    }
   ],
   "source": [
    "# Checking IUCR against chicago police to decide where to combine columns\n",
    "    # Double-check\n",
    "iucr_df = null_df.loc[null_df['Primary Type'] == 'ARSON']\n",
    "iucr_df['Description'].value_counts()"
   ]
  },
  {
   "cell_type": "code",
   "execution_count": 42,
   "metadata": {},
   "outputs": [
    {
     "data": {
      "text/plain": [
       "FIRST DEGREE MURDER         2952\n",
       "RECKLESS HOMICIDE             27\n",
       "INVOLUNTARY MANSLAUGHTER       1\n",
       "Name: Description, dtype: int64"
      ]
     },
     "execution_count": 42,
     "metadata": {},
     "output_type": "execute_result"
    }
   ],
   "source": [
    "# Checking IUCR against chicago police to decide where to combine columns\n",
    "    # Combine possesion descriptions\n",
    "iucr_df = null_df.loc[null_df['Primary Type'] == 'HOMICIDE']\n",
    "iucr_df['Description'].value_counts()"
   ]
  },
  {
   "cell_type": "code",
   "execution_count": 43,
   "metadata": {},
   "outputs": [
    {
     "data": {
      "text/plain": [
       "CRIMINAL SEXUAL ABUSE                                 1924\n",
       "PUBLIC INDECENCY                                      1119\n",
       "AGG CRIMINAL SEXUAL ABUSE                              902\n",
       "OTHER                                                  236\n",
       "SEXUAL EXPLOITATION OF A CHILD                         199\n",
       "OBSCENE MATTER                                         177\n",
       "ATT CRIM SEXUAL ABUSE                                  152\n",
       "INDECENT SOLICITATION/CHILD                            126\n",
       "SALE/DIST OBSCENE MAT TO MINOR                          64\n",
       "OBSCENITY                                               54\n",
       "ATT AGG CRIMINAL SEXUAL ABUSE                           36\n",
       "INDECENT SOLICITATION/ADULT                             23\n",
       "CRIMINAL TRANSMISSION OF HIV                            21\n",
       "SEX RELATION IN FAMILY                                  15\n",
       "NON-CONSENSUAL DISSEMINATION PRIVATE SEXUAL IMAGES       7\n",
       "BIGAMY                                                   2\n",
       "FORNICATION                                              1\n",
       "Name: Description, dtype: int64"
      ]
     },
     "execution_count": 43,
     "metadata": {},
     "output_type": "execute_result"
    }
   ],
   "source": [
    "# Checking IUCR against chicago police to decide where to combine columns\n",
    "    # New Primary Type - sexual abuse\n",
    "    # Combine possesion descriptions\n",
    "iucr_df = null_df.loc[null_df['Primary Type'] == 'SEX OFFENSE']\n",
    "iucr_df['Description'].value_counts()"
   ]
  },
  {
   "cell_type": "code",
   "execution_count": 44,
   "metadata": {},
   "outputs": [],
   "source": [
    "# Split anything with sexual abuse or exploitation into sexual abuse primary type\n",
    "null_df.loc[(null_df['Description'] =='CRIMINAL SEXUAL ABUSE'), 'Primary Type'] = 'CRIM SEXUAL ABUSE'\n",
    "null_df.loc[(null_df['Description'] =='AGG CRIMINAL SEXUAL ABUSE'), 'Primary Type'] = 'CRIM SEXUAL ABUSE'\n",
    "null_df.loc[(null_df['Description'] =='SEXUAL EXPLOITATION OF A CHILD'), 'Primary Type'] = 'CRIM SEXUAL ABUSE'\n",
    "null_df.loc[(null_df['Description'] =='ATT CRIM SEXUAL ABUSE'), 'Primary Type'] = 'CRIM SEXUAL ABUSE'\n",
    "null_df.loc[(null_df['Description'] =='ATT AGG CRIMINAL SEXUAL ABUSE'), 'Primary Type'] = 'CRIM SEXUAL ABUSE'"
   ]
  },
  {
   "cell_type": "code",
   "execution_count": 45,
   "metadata": {},
   "outputs": [],
   "source": [
    "# Move solicitation to prostitution\n",
    "null_df.loc[(null_df['Description'] =='INDECENT SOLICITATION/CHILD'), 'Primary Type'] = 'PROSTITUTION'\n",
    "null_df.loc[(null_df['Description'] =='INDECENT SOLICITATION/ADULT'), 'Primary Type'] = 'PROSTITUTION'"
   ]
  },
  {
   "cell_type": "code",
   "execution_count": 46,
   "metadata": {},
   "outputs": [],
   "source": [
    "# Combine obscenity and obscene matter\n",
    "# Combine fornication, bigamy and non-consenual dissemination imgs with other\n",
    "null_df.loc[(null_df['Description'] =='OBSCENE MATTER'), 'Description'] = 'OBSCENITY'\n",
    "null_df.loc[(null_df['Description'] =='BIGAMY'), 'Description'] = 'OTHER'\n",
    "null_df.loc[(null_df['Description'] =='FORNICATION'), 'Description'] = 'OTHER'\n",
    "null_df.loc[(null_df['Description'] =='NON-CONSENSUAL DISSEMINATION PRIVATE SEXUAL IMAGES'), 'Description'] = 'OTHER'"
   ]
  },
  {
   "cell_type": "code",
   "execution_count": 47,
   "metadata": {},
   "outputs": [
    {
     "data": {
      "text/plain": [
       "PUBLIC INDECENCY                  1119\n",
       "OTHER                              246\n",
       "OBSCENITY                          231\n",
       "SALE/DIST OBSCENE MAT TO MINOR      64\n",
       "CRIMINAL TRANSMISSION OF HIV        21\n",
       "SEX RELATION IN FAMILY              15\n",
       "Name: Description, dtype: int64"
      ]
     },
     "execution_count": 47,
     "metadata": {},
     "output_type": "execute_result"
    }
   ],
   "source": [
    "# Checking IUCR against chicago police to decide where to combine columns\n",
    "    # Double-check\n",
    "iucr_df = null_df.loc[null_df['Primary Type'] == 'SEX OFFENSE']\n",
    "iucr_df['Description'].value_counts()"
   ]
  },
  {
   "cell_type": "code",
   "execution_count": 48,
   "metadata": {},
   "outputs": [
    {
     "data": {
      "text/plain": [
       "SOLICIT ON PUBLIC WAY            3944\n",
       "SOLICIT FOR BUSINESS              537\n",
       "CALL OPERATION                    314\n",
       "SOLICIT FOR PROSTITUTE            263\n",
       "INDECENT SOLICITATION/CHILD       126\n",
       "OTHER PROSTITUTION OFFENSE         76\n",
       "HUMAN TRAFFICKING                  48\n",
       "SOLICIT OFF PUBLIC WAY             27\n",
       "INDECENT SOLICITATION/ADULT        23\n",
       "PATRONIZING A PROSTITUTE           17\n",
       "PIMPING                             4\n",
       "PATRONIZE JUVENILE PROSTITUTE       4\n",
       "KEEP PLACE OF PROSTITUTION          4\n",
       "PANDERING                           4\n",
       "CAB OPERATION                       1\n",
       "IN TAVERN                           1\n",
       "Name: Description, dtype: int64"
      ]
     },
     "execution_count": 48,
     "metadata": {},
     "output_type": "execute_result"
    }
   ],
   "source": [
    "# Checking IUCR against chicago police to decide where to combine columns\n",
    "    # Combine pimping, call operation, pandering, keep place of prostitution, cab operation\n",
    "    # Combine solicit on public way, indecent solicitation adult, solicit off public way\n",
    "    # Combine in tavern with other prostitution offense\n",
    "    # Combine indecent solicitation child, patronize juvenile prostitute\n",
    "iucr_df = null_df.loc[null_df['Primary Type'] == 'PROSTITUTION']\n",
    "iucr_df['Description'].value_counts()"
   ]
  },
  {
   "cell_type": "code",
   "execution_count": 49,
   "metadata": {},
   "outputs": [],
   "source": [
    "# Combining prostitution decriptions - solicitation\n",
    "null_df.loc[(null_df['Description'] =='SOLICIT ON PUBLIC WAY'), 'Description'] = 'SOLICITATION'\n",
    "null_df.loc[(null_df['Description'] =='INDECENT SOLICITATION/ADULT'), 'Description'] = 'SOLICITATION'\n",
    "null_df.loc[(null_df['Description'] =='SOLICIT OFF PUBLIC WAY'), 'Description'] = 'SOLICITATION'"
   ]
  },
  {
   "cell_type": "code",
   "execution_count": 50,
   "metadata": {},
   "outputs": [],
   "source": [
    "# Combining prostitution decriptions - pimping/pandering\n",
    "null_df.loc[(null_df['Description'] =='CALL OPERATION'), 'Description'] = 'PROSTITUTION OPERATION'\n",
    "null_df.loc[(null_df['Description'] =='PIMPING'), 'Description'] = 'PROSTITUTION OPERATION'\n",
    "null_df.loc[(null_df['Description'] =='CAB OPERATION'), 'Description'] = 'PROSTITUTION OPERATION'\n",
    "null_df.loc[(null_df['Description'] =='PANDERING'), 'Description'] = 'PROSTITUTION OPERATION'\n",
    "null_df.loc[(null_df['Description'] =='KEEP PLACE OF PROSTITUTION'), 'Description'] = 'PROSTITUTION OPERATION'"
   ]
  },
  {
   "cell_type": "code",
   "execution_count": 51,
   "metadata": {},
   "outputs": [],
   "source": [
    "# Combining prostitution decriptions - juvenile (substitute predatory for consistency with assault/abuse)\n",
    "null_df.loc[(null_df['Description'] =='INDECENT SOLICITATION/CHILD'), 'Description'] = 'PREDATORY'\n",
    "null_df.loc[(null_df['Description'] =='PATRONIZE JUVENILE PROSTITUTE'), 'Description'] = 'PREDATORY'"
   ]
  },
  {
   "cell_type": "code",
   "execution_count": 52,
   "metadata": {},
   "outputs": [],
   "source": [
    "# Combining prostitution decriptions - other\n",
    "null_df.loc[(null_df['Description'] =='IN TAVERN'), 'Description'] = 'OTHER PROSTITUTION OFFENSE'"
   ]
  },
  {
   "cell_type": "code",
   "execution_count": 53,
   "metadata": {},
   "outputs": [
    {
     "data": {
      "text/plain": [
       "SOLICITATION                  3994\n",
       "SOLICIT FOR BUSINESS           537\n",
       "PROSTITUTION OPERATION         327\n",
       "SOLICIT FOR PROSTITUTE         263\n",
       "PREDATORY                      130\n",
       "OTHER PROSTITUTION OFFENSE      77\n",
       "HUMAN TRAFFICKING               48\n",
       "PATRONIZING A PROSTITUTE        17\n",
       "Name: Description, dtype: int64"
      ]
     },
     "execution_count": 53,
     "metadata": {},
     "output_type": "execute_result"
    }
   ],
   "source": [
    "# Checking IUCR against chicago police to decide where to combine columns\n",
    "    # Double-check\n",
    "iucr_df = null_df.loc[null_df['Primary Type'] == 'PROSTITUTION']\n",
    "iucr_df['Description'].value_counts()"
   ]
  },
  {
   "cell_type": "code",
   "execution_count": 54,
   "metadata": {},
   "outputs": [
    {
     "data": {
      "text/plain": [
       "OBSTRUCTING IDENTIFICATION        3681\n",
       "RESIST/OBSTRUCT/DISARM OFFICER    1652\n",
       "OBSTRUCTING JUSTICE                380\n",
       "OBSTRUCTING SERVICE                149\n",
       "INTERFERENCE JUDICIAL PROCESS       76\n",
       "ESCAPE                              61\n",
       "BRIBERY                             14\n",
       "OFFICIAL MISCONDUCT                  5\n",
       "CONCEALING/AIDING A FUGITIVE         3\n",
       "AIDING ARRESTEE ESCAPE               2\n",
       "CONTRABAND IN PRISON                 1\n",
       "REFUSING TO AID AN OFFICER           1\n",
       "Name: Description, dtype: int64"
      ]
     },
     "execution_count": 54,
     "metadata": {},
     "output_type": "execute_result"
    }
   ],
   "source": [
    "# Checking IUCR against chicago police to decide where to combine columns\n",
    "    # Combine concealing/aiding fugitive, aiding arrestee escape\n",
    "    # Combine obstructing service, interference judicial\n",
    "    # Combine contraband, refusing to aid, official misconduct\n",
    "iucr_df = null_df.loc[null_df['Primary Type'] == 'INTERFERENCE WITH PUBLIC OFFICER']\n",
    "iucr_df['Description'].value_counts()"
   ]
  },
  {
   "cell_type": "code",
   "execution_count": 55,
   "metadata": {},
   "outputs": [],
   "source": [
    "# Combining officer interference decriptions - aiding/abeting\n",
    "null_df.loc[(null_df['Description'] =='AIDING ARRESTEE ESCAPE'), 'Description'] = 'AIDING ARRESTEE/FUGITIVE'\n",
    "null_df.loc[(null_df['Description'] =='CONCEALING/AIDING A FUGITIVE'), 'Description'] = 'AIDING ARRESTEE/FUGITIVE'"
   ]
  },
  {
   "cell_type": "code",
   "execution_count": 56,
   "metadata": {},
   "outputs": [],
   "source": [
    "# Combining officer interference decriptions - judicial interference\n",
    "# Add other category for small values\n",
    "null_df.loc[(null_df['Description'] =='INTERFERENCE JUDICIAL PROCESS'), 'Description'] = 'OBSTRUCTING SERVICE'\n",
    "null_df.loc[(null_df['Description'] =='CONTRABAND IN PRISON'), 'Description'] = 'OTHER INTERFERENCE'\n",
    "null_df.loc[(null_df['Description'] =='OFFICIAL MISCONDUCT'), 'Description'] = 'OTHER INTERFERENCE'\n",
    "null_df.loc[(null_df['Description'] =='REFUSING TO AID AN OFFICER'), 'Description'] = 'OTHER INTERFERENCE'"
   ]
  },
  {
   "cell_type": "code",
   "execution_count": 57,
   "metadata": {},
   "outputs": [
    {
     "data": {
      "text/plain": [
       "OBSTRUCTING IDENTIFICATION        3681\n",
       "RESIST/OBSTRUCT/DISARM OFFICER    1652\n",
       "OBSTRUCTING JUSTICE                380\n",
       "OBSTRUCTING SERVICE                225\n",
       "ESCAPE                              61\n",
       "BRIBERY                             14\n",
       "OTHER INTERFERENCE                   7\n",
       "AIDING ARRESTEE/FUGITIVE             5\n",
       "Name: Description, dtype: int64"
      ]
     },
     "execution_count": 57,
     "metadata": {},
     "output_type": "execute_result"
    }
   ],
   "source": [
    "# Double-check\n",
    "iucr_df = null_df.loc[null_df['Primary Type'] == 'INTERFERENCE WITH PUBLIC OFFICER']\n",
    "iucr_df['Description'].value_counts()"
   ]
  },
  {
   "cell_type": "code",
   "execution_count": 58,
   "metadata": {},
   "outputs": [
    {
     "data": {
      "text/plain": [
       "NON-AGGRAVATED                    4612\n",
       "AGGRAVATED: OTHER                  944\n",
       "PREDATORY                          566\n",
       "ATTEMPT NON-AGGRAVATED             354\n",
       "AGGRAVATED: HANDGUN                310\n",
       "AGGRAVATED: KNIFE/CUT INSTR        186\n",
       "AGGRAVATED: OTHER DANG WEAPON       75\n",
       "ATTEMPT AGG: OTHER                  55\n",
       "ATTEMPT AGG: HANDGUN                22\n",
       "ATTEMPT AGG: KNIFE/CUT INSTR        15\n",
       "ATTEMPT AGG: OTHER DANG WEAPON       5\n",
       "AGGRAVATED: OTHER FIREARM            5\n",
       "ATTEMPT AGG: OTHER FIREARM           1\n",
       "Name: Description, dtype: int64"
      ]
     },
     "execution_count": 58,
     "metadata": {},
     "output_type": "execute_result"
    }
   ],
   "source": [
    "# Checking IUCR against chicago police to decide where to combine columns\n",
    "    # New column to df: weapon\n",
    "    # Split agg and attempt and put weapon in weapon column\n",
    "iucr_df = null_df.loc[null_df['Primary Type'] == 'CRIM SEXUAL ASSAULT']\n",
    "iucr_df['Description'].value_counts()"
   ]
  },
  {
   "cell_type": "code",
   "execution_count": 59,
   "metadata": {},
   "outputs": [
    {
     "data": {
      "text/plain": [
       "Index(['ID', 'Case Number', 'Date', 'Block', 'IUCR', 'Primary Type',\n",
       "       'Description', 'Location Description', 'Arrest', 'Domestic', 'Beat',\n",
       "       'District', 'Ward', 'Community Area', 'FBI Code', 'X Coordinate',\n",
       "       'Y Coordinate', 'Year', 'Updated On', 'Latitude', 'Longitude',\n",
       "       'Location', 'Month', 'Day', 'Weekday', 'HourOfDay', 'Weapon'],\n",
       "      dtype='object')"
      ]
     },
     "execution_count": 59,
     "metadata": {},
     "output_type": "execute_result"
    }
   ],
   "source": [
    "# Add weapon column\n",
    "null_df['Weapon'] = 'NONE'\n",
    "null_df.keys()\n",
    "# null_df['Weapon'].value_counts()"
   ]
  },
  {
   "cell_type": "code",
   "execution_count": 60,
   "metadata": {},
   "outputs": [],
   "source": [
    "# Split assault columns so weapon in weapon column, description in description column\n",
    "null_df.loc[null_df['Primary Type'] == 'CRIM SEXUAL ASSAULT', 'Weapon'] = null_df.loc[null_df['Primary Type'] == 'CRIM SEXUAL ASSAULT', 'Description'].str.split(':', 1).str[1]\n"
   ]
  },
  {
   "cell_type": "code",
   "execution_count": 61,
   "metadata": {},
   "outputs": [],
   "source": [
    "null_df.loc[null_df['Primary Type'] == 'CRIM SEXUAL ASSAULT', 'Description'] = null_df.loc[null_df['Primary Type'] == 'CRIM SEXUAL ASSAULT', 'Description'].str.split(':', 1).str[0]"
   ]
  },
  {
   "cell_type": "code",
   "execution_count": 62,
   "metadata": {},
   "outputs": [
    {
     "data": {
      "text/plain": [
       "NON-AGGRAVATED            4612\n",
       "AGGRAVATED                1520\n",
       "PREDATORY                  566\n",
       "ATTEMPT NON-AGGRAVATED     354\n",
       "ATTEMPT AGG                 98\n",
       "Name: Description, dtype: int64"
      ]
     },
     "execution_count": 62,
     "metadata": {},
     "output_type": "execute_result"
    }
   ],
   "source": [
    "iucr_df = null_df.loc[null_df['Primary Type'] == 'CRIM SEXUAL ASSAULT']\n",
    "iucr_df['Description'].value_counts()"
   ]
  },
  {
   "cell_type": "code",
   "execution_count": 63,
   "metadata": {},
   "outputs": [
    {
     "data": {
      "text/plain": [
       "ID                      1324625\n",
       "Case Number             1324625\n",
       "Date                    1324625\n",
       "Block                   1324625\n",
       "IUCR                    1324625\n",
       "Primary Type            1324625\n",
       "Description             1324625\n",
       "Location Description    1324625\n",
       "Arrest                  1324625\n",
       "Domestic                1324625\n",
       "Beat                    1324625\n",
       "District                1324625\n",
       "Ward                    1324625\n",
       "Community Area          1324625\n",
       "FBI Code                1324625\n",
       "X Coordinate            1324625\n",
       "Y Coordinate            1324625\n",
       "Year                    1324625\n",
       "Updated On              1324625\n",
       "Latitude                1324625\n",
       "Longitude               1324625\n",
       "Location                1324625\n",
       "Month                   1324625\n",
       "Day                     1324625\n",
       "Weekday                 1324625\n",
       "HourOfDay               1324625\n",
       "Weapon                  1324625\n",
       "dtype: int64"
      ]
     },
     "execution_count": 63,
     "metadata": {},
     "output_type": "execute_result"
    }
   ],
   "source": [
    "null_df.count()\n",
    "# Will have to fillna every time split column\n",
    "null_df = null_df.fillna('NONE')\n",
    "null_df.count()"
   ]
  },
  {
   "cell_type": "code",
   "execution_count": 64,
   "metadata": {},
   "outputs": [
    {
     "data": {
      "text/plain": [
       "CRIMINAL SEXUAL ABUSE             1924\n",
       "AGG CRIMINAL SEXUAL ABUSE          902\n",
       "SEXUAL EXPLOITATION OF A CHILD     199\n",
       "ATT CRIM SEXUAL ABUSE              152\n",
       "ATT AGG CRIMINAL SEXUAL ABUSE       36\n",
       "Name: Description, dtype: int64"
      ]
     },
     "execution_count": 64,
     "metadata": {},
     "output_type": "execute_result"
    }
   ],
   "source": [
    "# Checking IUCR against chicago police to decide where to combine columns\n",
    "    # Fix descriptions to match style from assault\n",
    "iucr_df = null_df.loc[null_df['Primary Type'] == 'CRIM SEXUAL ABUSE']\n",
    "iucr_df['Description'].value_counts()"
   ]
  },
  {
   "cell_type": "code",
   "execution_count": 65,
   "metadata": {},
   "outputs": [],
   "source": [
    "null_df.loc[(null_df['Description'] =='CRIMINAL SEXUAL ABUSE'), 'Description'] = 'NON-AGGRAVATED'\n",
    "null_df.loc[(null_df['Description'] =='AGG CRIMINAL SEXUAL ABUSE'), 'Description'] = 'AGGRAVATED'\n",
    "null_df.loc[(null_df['Description'] =='ATT CRIM SEXUAL ABUSE'), 'Description'] = 'ATTEMPT NON-AGGRAVATED'\n",
    "null_df.loc[(null_df['Description'] =='ATT AGG CRIMINAL SEXUAL ABUSE'), 'Description'] = 'ATTEMPT AGG'\n",
    "null_df.loc[(null_df['Description'] =='SEXUAL EXPLOITATION OF A CHILD'), 'Description'] = 'PREDATORY'"
   ]
  },
  {
   "cell_type": "code",
   "execution_count": 66,
   "metadata": {
    "scrolled": true
   },
   "outputs": [
    {
     "data": {
      "text/plain": [
       "NON-AGGRAVATED            1924\n",
       "AGGRAVATED                 902\n",
       "PREDATORY                  199\n",
       "ATTEMPT NON-AGGRAVATED     152\n",
       "ATTEMPT AGG                 36\n",
       "Name: Description, dtype: int64"
      ]
     },
     "execution_count": 66,
     "metadata": {},
     "output_type": "execute_result"
    }
   ],
   "source": [
    "# Double-check\n",
    "iucr_df = null_df.loc[null_df['Primary Type'] == 'CRIM SEXUAL ABUSE']\n",
    "iucr_df['Description'].value_counts()"
   ]
  },
  {
   "cell_type": "code",
   "execution_count": 67,
   "metadata": {},
   "outputs": [
    {
     "data": {
      "text/plain": [
       "RECKLESS CONDUCT                7157\n",
       "BOMB THREAT                      677\n",
       "OTHER VIOLATION                  533\n",
       "ARSON THREAT                     474\n",
       "FALSE POLICE REPORT              419\n",
       "PEEPING TOM                      214\n",
       "MOB ACTION                       128\n",
       "FALSE FIRE ALARM                  95\n",
       "PUBLIC DEMONSTRATION              61\n",
       "INTERFERE W/ EMERGENCY EQUIP       9\n",
       "SELL/ADVERTISE FIREWORKS           6\n",
       "ARMED VIOLENCE                     2\n",
       "Name: Description, dtype: int64"
      ]
     },
     "execution_count": 67,
     "metadata": {},
     "output_type": "execute_result"
    }
   ],
   "source": [
    "# Checking IUCR against chicago police to decide where to combine columns\n",
    "    # Move interfere em equip and sell/ad fireworks to other\n",
    "    # Combine mob and armed violence\n",
    "iucr_df = null_df.loc[null_df['Primary Type'] == 'PUBLIC PEACE VIOLATION']\n",
    "iucr_df['Description'].value_counts()"
   ]
  },
  {
   "cell_type": "code",
   "execution_count": 68,
   "metadata": {},
   "outputs": [],
   "source": [
    "null_df.loc[(null_df['Description'] =='INTERFERE W/ EMERGENCY EQUIP'), 'Description'] = 'OTHER VIOLATION'\n",
    "null_df.loc[(null_df['Description'] =='SELL/ADVERTISE FIREWORKS'), 'Description'] = 'OTHER VIOLATION'\n",
    "null_df.loc[(null_df['Description'] =='ARMED VIOLENCE'), 'Description'] = 'MOB ACTION'"
   ]
  },
  {
   "cell_type": "code",
   "execution_count": 69,
   "metadata": {},
   "outputs": [
    {
     "data": {
      "text/plain": [
       "RECKLESS CONDUCT        7157\n",
       "BOMB THREAT              677\n",
       "OTHER VIOLATION          548\n",
       "ARSON THREAT             474\n",
       "FALSE POLICE REPORT      419\n",
       "PEEPING TOM              214\n",
       "MOB ACTION               130\n",
       "FALSE FIRE ALARM          95\n",
       "PUBLIC DEMONSTRATION      61\n",
       "Name: Description, dtype: int64"
      ]
     },
     "execution_count": 69,
     "metadata": {},
     "output_type": "execute_result"
    }
   ],
   "source": [
    "# Double-check\n",
    "iucr_df = null_df.loc[null_df['Primary Type'] == 'PUBLIC PEACE VIOLATION']\n",
    "iucr_df['Description'].value_counts()"
   ]
  },
  {
   "cell_type": "code",
   "execution_count": 70,
   "metadata": {},
   "outputs": [
    {
     "data": {
      "text/plain": [
       "CHILD ABUSE                             3406\n",
       "OTHER OFFENSE                           2518\n",
       "ENDANGERING LIFE/HEALTH CHILD           1537\n",
       "AGG CRIM SEX ABUSE FAM MEMBER            807\n",
       "CHILD ABDUCTION                          547\n",
       "CHILD PORNOGRAPHY                        539\n",
       "CRIM SEX ABUSE BY FAM MEMBER             497\n",
       "AGG SEX ASSLT OF CHILD FAM MBR           415\n",
       "SEX ASSLT OF CHILD BY FAM MBR            254\n",
       "CHILD ABANDONMENT                        185\n",
       "CONTRIBUTE DELINQUENCY OF A CHILD         68\n",
       "CONTRIBUTE CRIM DELINQUENCY JUVENILE      47\n",
       "HARBOR RUNAWAY                            30\n",
       "POS: PORNOGRAPHIC PRINT                   27\n",
       "SALE TOBACCO PRODUCTS TO MINOR             5\n",
       "Name: Description, dtype: int64"
      ]
     },
     "execution_count": 70,
     "metadata": {},
     "output_type": "execute_result"
    }
   ],
   "source": [
    "# Checking IUCR against chicago police to decide where to combine columns\n",
    "    # Move abuse to sex abuse\n",
    "    # Move assault to sex assault\n",
    "    # Combine pornography\n",
    "    # Move tobacco to other offense\n",
    "    # Move child abduction to kidnapping\n",
    "iucr_df = null_df.loc[null_df['Primary Type'] == 'OFFENSE INVOLVING CHILDREN']\n",
    "iucr_df['Description'].value_counts()"
   ]
  },
  {
   "cell_type": "code",
   "execution_count": 71,
   "metadata": {
    "scrolled": true
   },
   "outputs": [],
   "source": [
    "null_df.loc[(null_df['Description'] =='AGG CRIM SEX ABUSE FAM MEMBER'), 'Primary Type'] = 'CRIM SEXUAL ABUSE'\n",
    "null_df.loc[(null_df['Description'] =='CRIM SEX ABUSE BY FAM MEMBER'), 'Primary Type'] = 'CRIM SEXUAL ABUSE'\n",
    "null_df.loc[(null_df['Description'] =='AGG SEX ASSLT OF CHILD FAM MBR'), 'Primary Type'] = 'CRIM SEXUAL ASSAULT'\n",
    "null_df.loc[(null_df['Description'] =='SEX ASSLT OF CHILD BY FAM MBR'), 'Primary Type'] = 'CRIM SEXUAL ASSAULT'\n",
    "null_df.loc[(null_df['Description'] =='CONTRIBUTE CRIM DELINQUENCY JUVENILE'), 'Description'] = 'CONTRIBUTE DELINQUENCY OF A CHILD'\n",
    "null_df.loc[(null_df['Description'] =='POS: PORNOGRAPHIC PRINT'), 'Description'] = 'CHILD PORNOGRAPHY'\n",
    "null_df.loc[(null_df['Description'] =='SALE TOBACCO PRODUCTS TO MINOR'), 'Description'] = 'OTHER OFFENSE'"
   ]
  },
  {
   "cell_type": "code",
   "execution_count": 72,
   "metadata": {},
   "outputs": [],
   "source": [
    "# Move child abduction from kidnapping to this primary type\n",
    "null_df.loc[(null_df['Description'] =='CHILD ABDUCTION/STRANGER'), 'Primary Type'] = 'OFFENSE INVOLVING CHILDREN'\n",
    "null_df.loc[(null_df['Description'] =='CHILD ABDUCTION/STRANGER'), 'Description'] = 'CHILD ABDUCTION'"
   ]
  },
  {
   "cell_type": "code",
   "execution_count": 73,
   "metadata": {},
   "outputs": [
    {
     "data": {
      "text/plain": [
       "CHILD ABUSE                          3406\n",
       "OTHER OFFENSE                        2523\n",
       "ENDANGERING LIFE/HEALTH CHILD        1537\n",
       "CHILD ABDUCTION                       930\n",
       "CHILD PORNOGRAPHY                     566\n",
       "CHILD ABANDONMENT                     185\n",
       "CONTRIBUTE DELINQUENCY OF A CHILD     115\n",
       "HARBOR RUNAWAY                         30\n",
       "Name: Description, dtype: int64"
      ]
     },
     "execution_count": 73,
     "metadata": {},
     "output_type": "execute_result"
    }
   ],
   "source": [
    "# Double-check\n",
    "iucr_df = null_df.loc[null_df['Primary Type'] == 'OFFENSE INVOLVING CHILDREN']\n",
    "iucr_df['Description'].value_counts()"
   ]
  },
  {
   "cell_type": "code",
   "execution_count": 74,
   "metadata": {},
   "outputs": [
    {
     "data": {
      "text/plain": [
       "NON-AGGRAVATED                   1924\n",
       "AGGRAVATED                        902\n",
       "AGG CRIM SEX ABUSE FAM MEMBER     807\n",
       "CRIM SEX ABUSE BY FAM MEMBER      497\n",
       "PREDATORY                         199\n",
       "ATTEMPT NON-AGGRAVATED            152\n",
       "ATTEMPT AGG                        36\n",
       "Name: Description, dtype: int64"
      ]
     },
     "execution_count": 74,
     "metadata": {},
     "output_type": "execute_result"
    }
   ],
   "source": [
    "# Check and fix abuse\n",
    "iucr_df = null_df.loc[null_df['Primary Type'] == 'CRIM SEXUAL ABUSE']\n",
    "iucr_df['Description'].value_counts()"
   ]
  },
  {
   "cell_type": "code",
   "execution_count": 75,
   "metadata": {},
   "outputs": [],
   "source": [
    "# Chicago defines abuse of minor as predatory\n",
    "null_df.loc[(null_df['Description'] =='AGG CRIM SEX ABUSE FAM MEMBER'), 'Description'] = 'PREDATORY'\n",
    "null_df.loc[(null_df['Description'] =='CRIM SEX ABUSE BY FAM MEMBER'), 'Description'] = 'PREDATORY'"
   ]
  },
  {
   "cell_type": "code",
   "execution_count": 76,
   "metadata": {},
   "outputs": [
    {
     "data": {
      "text/plain": [
       "NON-AGGRAVATED            1924\n",
       "PREDATORY                 1503\n",
       "AGGRAVATED                 902\n",
       "ATTEMPT NON-AGGRAVATED     152\n",
       "ATTEMPT AGG                 36\n",
       "Name: Description, dtype: int64"
      ]
     },
     "execution_count": 76,
     "metadata": {},
     "output_type": "execute_result"
    }
   ],
   "source": [
    "# Double-check\n",
    "iucr_df = null_df.loc[null_df['Primary Type'] == 'CRIM SEXUAL ABUSE']\n",
    "iucr_df['Description'].value_counts()"
   ]
  },
  {
   "cell_type": "code",
   "execution_count": 77,
   "metadata": {},
   "outputs": [
    {
     "data": {
      "text/plain": [
       "NON-AGGRAVATED                    4612\n",
       "AGGRAVATED                        1520\n",
       "PREDATORY                          566\n",
       "AGG SEX ASSLT OF CHILD FAM MBR     415\n",
       "ATTEMPT NON-AGGRAVATED             354\n",
       "SEX ASSLT OF CHILD BY FAM MBR      254\n",
       "ATTEMPT AGG                         98\n",
       "Name: Description, dtype: int64"
      ]
     },
     "execution_count": 77,
     "metadata": {},
     "output_type": "execute_result"
    }
   ],
   "source": [
    "# Check and fix assault\n",
    "iucr_df = null_df.loc[null_df['Primary Type'] == 'CRIM SEXUAL ASSAULT']\n",
    "iucr_df['Description'].value_counts()"
   ]
  },
  {
   "cell_type": "code",
   "execution_count": 78,
   "metadata": {},
   "outputs": [],
   "source": [
    "# Chicago defines abuse of minor as predatory\n",
    "null_df.loc[(null_df['Description'] =='AGG SEX ASSLT OF CHILD FAM MBR'), 'Description'] = 'PREDATORY'\n",
    "null_df.loc[(null_df['Description'] =='SEX ASSLT OF CHILD BY FAM MBR'), 'Description'] = 'PREDATORY'"
   ]
  },
  {
   "cell_type": "code",
   "execution_count": 79,
   "metadata": {},
   "outputs": [
    {
     "data": {
      "text/plain": [
       "NON-AGGRAVATED            4612\n",
       "AGGRAVATED                1520\n",
       "PREDATORY                 1235\n",
       "ATTEMPT NON-AGGRAVATED     354\n",
       "ATTEMPT AGG                 98\n",
       "Name: Description, dtype: int64"
      ]
     },
     "execution_count": 79,
     "metadata": {},
     "output_type": "execute_result"
    }
   ],
   "source": [
    "# Double-check\n",
    "iucr_df = null_df.loc[null_df['Primary Type'] == 'CRIM SEXUAL ASSAULT']\n",
    "iucr_df['Description'].value_counts()"
   ]
  },
  {
   "cell_type": "code",
   "execution_count": 80,
   "metadata": {},
   "outputs": [
    {
     "data": {
      "text/plain": [
       "UNLAWFUL POSS OF HANDGUN                       14361\n",
       "UNLAWFUL USE HANDGUN                            1477\n",
       "RECKLESS FIREARM DISCHARGE                      1422\n",
       "UNLAWFUL USE OTHER DANG WEAPON                   924\n",
       "UNLAWFUL POSS OTHER FIREARM                      497\n",
       "UNLAWFUL POSS AMMUNITION                         479\n",
       "POSS FIREARM/AMMO:NO FOID CARD                   354\n",
       "CONCEALED CARRY LICENSE VIOLATION                301\n",
       "UNLAWFUL USE OTHER FIREARM                       240\n",
       "UNLAWFUL USE/SALE AIR RIFLE                      208\n",
       "UNLAWFUL SALE HANDGUN                             28\n",
       "DEFACE IDENT MARKS OF FIREARM                     14\n",
       "UNLAWFUL SALE/DELIVERY OF FIREARM AT SCHOOL        7\n",
       "UNLAWFUL SALE OTHER FIREARM                        5\n",
       "USE OF METAL PIERCING BULLETS                      1\n",
       "Name: Description, dtype: int64"
      ]
     },
     "execution_count": 80,
     "metadata": {},
     "output_type": "execute_result"
    }
   ],
   "source": [
    "# Checking IUCR against chicago police to decide where to combine columns\n",
    "    # Break unlawful possesion, sale into descript, weapon\n",
    "iucr_df = null_df.loc[null_df['Primary Type'] == 'WEAPONS VIOLATION']\n",
    "iucr_df['Description'].value_counts()"
   ]
  },
  {
   "cell_type": "code",
   "execution_count": 81,
   "metadata": {},
   "outputs": [],
   "source": [
    "# Fix weapons\n",
    "null_df.loc[(null_df['Description'] =='UNLAWFUL POSS OF HANDGUN'), 'Weapon'] = 'HANDGUN'\n",
    "null_df.loc[(null_df['Description'] =='UNLAWFUL USE HANDGUN'), 'Weapon'] = 'HANDGUN'\n",
    "null_df.loc[(null_df['Description'] =='UNLAWFUL USE HANDGUN'), 'Weapon'] = 'FIREARM'\n",
    "null_df.loc[(null_df['Description'] =='UNLAWFUL USE OTHER DANG WEAPON'), 'Weapon'] = 'OTHER DANG WEAPON'\n",
    "null_df.loc[(null_df['Description'] =='UNLAWFUL POSS OTHER FIREARM'), 'Weapon'] = 'OTHER FIREARM'\n",
    "null_df.loc[(null_df['Description'] =='UNLAWFUL USE OTHER FIREARM'), 'Weapon'] = 'OTHER FIREARM'\n",
    "null_df.loc[(null_df['Description'] =='UNLAWFUL USE/SALE AIR RIFLE'), 'Weapon'] = 'AIR RIFLE'\n",
    "null_df.loc[(null_df['Description'] =='UNLAWFUL SALE HANDGUN'), 'Weapon'] = 'OTHER FIREARM'\n",
    "null_df.loc[(null_df['Description'] =='DEFACE IDENT MARKS OF FIREARM'), 'Weapon'] = 'FIREARM'\n",
    "null_df.loc[(null_df['Description'] =='UNLAWFUL SALE/DELIVERY OF FIREARM AT SCHOOL'), 'Weapon'] = 'FIREARM'\n",
    "null_df.loc[(null_df['Description'] =='UNLAWFUL SALE OTHER FIREARM'), 'Weapon'] = 'OTHER FIREARM'"
   ]
  },
  {
   "cell_type": "code",
   "execution_count": 82,
   "metadata": {},
   "outputs": [],
   "source": [
    "# Fix descriptions\n",
    "null_df.loc[(null_df['Description'] =='UNLAWFUL POSS OF HANDGUN'), 'Description'] = 'UNLAWFUL POSSESION'\n",
    "null_df.loc[(null_df['Description'] =='UNLAWFUL USE HANDGUN'), 'Description'] = 'UNLAWFUL USE'\n",
    "null_df.loc[(null_df['Description'] =='UNLAWFUL USE HANDGUN'), 'Description'] = 'UNLAWFUL USE'\n",
    "null_df.loc[(null_df['Description'] =='UNLAWFUL USE OTHER DANG WEAPON'), 'Description'] = 'UNLAWFUL USE'\n",
    "null_df.loc[(null_df['Description'] =='UNLAWFUL POSS OTHER FIREARM'), 'Description'] = 'UNLAWFUL POSSESION'\n",
    "null_df.loc[(null_df['Description'] =='UNLAWFUL USE OTHER FIREARM'), 'Description'] = 'UNLAWFUL USE'\n",
    "null_df.loc[(null_df['Description'] =='UNLAWFUL USE/SALE AIR RIFLE'), 'Description'] = 'UNLAWFUL USE/SALE'\n",
    "null_df.loc[(null_df['Description'] =='UNLAWFUL SALE HANDGUN'), 'Description'] = 'UNLAWFUL SALE'\n",
    "null_df.loc[(null_df['Description'] =='UNLAWFUL SALE OTHER FIREARM'), 'Description'] = 'UNLAWFUL SALE'"
   ]
  },
  {
   "cell_type": "code",
   "execution_count": 83,
   "metadata": {},
   "outputs": [],
   "source": [
    "# Combine similar\n",
    "null_df.loc[(null_df['Description'] =='POSS FIREARM/AMMO:NO FOID CARD'), 'Description'] = 'CONCEALED CARRY LICENSE VIOLATION'\n",
    "null_df.loc[(null_df['Description'] =='USE OF METAL PIERCING BULLETS'), 'Description'] = 'UNLAWFUL POSS AMMUNITION'\n",
    "null_df.loc[(null_df['Description'] =='UNLAWFUL SALE/DELIVERY OF FIREARM AT SCHOOL'), 'Description'] = 'UNLAWFUL SALE'"
   ]
  },
  {
   "cell_type": "code",
   "execution_count": 84,
   "metadata": {},
   "outputs": [
    {
     "data": {
      "text/plain": [
       "UNLAWFUL POSSESION                   14858\n",
       "UNLAWFUL USE                          2641\n",
       "RECKLESS FIREARM DISCHARGE            1422\n",
       "CONCEALED CARRY LICENSE VIOLATION      655\n",
       "UNLAWFUL POSS AMMUNITION               480\n",
       "UNLAWFUL USE/SALE                      208\n",
       "UNLAWFUL SALE                           40\n",
       "DEFACE IDENT MARKS OF FIREARM           14\n",
       "Name: Description, dtype: int64"
      ]
     },
     "execution_count": 84,
     "metadata": {},
     "output_type": "execute_result"
    }
   ],
   "source": [
    "# Double-check\n",
    "iucr_df = null_df.loc[null_df['Primary Type'] == 'WEAPONS VIOLATION']\n",
    "iucr_df['Description'].value_counts()"
   ]
  },
  {
   "cell_type": "code",
   "execution_count": 85,
   "metadata": {},
   "outputs": [
    {
     "data": {
      "text/plain": [
       "ID                      1324625\n",
       "Case Number             1324625\n",
       "Date                    1324625\n",
       "Block                   1324625\n",
       "IUCR                    1324625\n",
       "Primary Type            1324625\n",
       "Description             1324625\n",
       "Location Description    1324625\n",
       "Arrest                  1324625\n",
       "Domestic                1324625\n",
       "Beat                    1324625\n",
       "District                1324625\n",
       "Ward                    1324625\n",
       "Community Area          1324625\n",
       "FBI Code                1324625\n",
       "X Coordinate            1324625\n",
       "Y Coordinate            1324625\n",
       "Year                    1324625\n",
       "Updated On              1324625\n",
       "Latitude                1324625\n",
       "Longitude               1324625\n",
       "Location                1324625\n",
       "Month                   1324625\n",
       "Day                     1324625\n",
       "Weekday                 1324625\n",
       "HourOfDay               1324625\n",
       "Weapon                  1324625\n",
       "dtype: int64"
      ]
     },
     "execution_count": 85,
     "metadata": {},
     "output_type": "execute_result"
    }
   ],
   "source": [
    "null_df.count()\n",
    "# Fillna values in weapon column\n",
    "null_df = null_df.fillna('NONE')\n",
    "null_df.count()"
   ]
  },
  {
   "cell_type": "code",
   "execution_count": 86,
   "metadata": {
    "scrolled": true
   },
   "outputs": [
    {
     "data": {
      "text/plain": [
       "NONE                 1305246\n",
       "HANDGUN                14693\n",
       "FIREARM                 1498\n",
       "OTHER DANG WEAPON       1004\n",
       "OTHER                    999\n",
       "OTHER FIREARM            776\n",
       "AIR RIFLE                208\n",
       "KNIFE/CUT INSTR          201\n",
       "Name: Weapon, dtype: int64"
      ]
     },
     "execution_count": 86,
     "metadata": {},
     "output_type": "execute_result"
    }
   ],
   "source": [
    "null_df['Weapon'].value_counts()\n",
    "# Strip spaces from column\n",
    "null_df['Weapon'] = null_df['Weapon'].map(lambda x: x.strip())\n",
    "null_df['Weapon'].value_counts()"
   ]
  },
  {
   "cell_type": "code",
   "execution_count": 87,
   "metadata": {},
   "outputs": [
    {
     "data": {
      "text/plain": [
       "AUTOMOBILE                                     44745\n",
       "THEFT/RECOVERY: AUTOMOBILE                      3222\n",
       "ATT: AUTOMOBILE                                 2181\n",
       "TRUCK, BUS, MOTOR HOME                          1096\n",
       "CYCLE, SCOOTER, BIKE W-VIN                       994\n",
       "THEFT/RECOVERY: TRUCK,BUS,MHOME                  142\n",
       "CYCLE, SCOOTER, BIKE NO VIN                       39\n",
       "THEFT/RECOVERY: CYCLE, SCOOTER, BIKE W-VIN        33\n",
       "ATT: TRUCK, BUS, MOTOR HOME                       27\n",
       "ATTEMPT: CYCLE, SCOOTER, BIKE W-VIN               20\n",
       "THEFT/RECOVERY: CYCLE, SCOOTER, BIKE NO VIN        1\n",
       "Name: Description, dtype: int64"
      ]
     },
     "execution_count": 87,
     "metadata": {},
     "output_type": "execute_result"
    }
   ],
   "source": [
    "# Checking IUCR against chicago police to decide where to combine columns\n",
    "    # Combine VIN/NO VIN\n",
    "iucr_df = null_df.loc[null_df['Primary Type'] == 'MOTOR VEHICLE THEFT']\n",
    "iucr_df['Description'].value_counts()"
   ]
  },
  {
   "cell_type": "code",
   "execution_count": 88,
   "metadata": {},
   "outputs": [],
   "source": [
    "# Combine VIN/ NO VIN\n",
    "null_df.loc[(null_df['Description'] =='CYCLE, SCOOTER, BIKE W-VIN'), 'Description'] = 'CYCLE, SCOOTER, BIKE'\n",
    "null_df.loc[(null_df['Description'] =='CYCLE, SCOOTER, BIKE NO VIN'), 'Description'] = 'CYCLE, SCOOTER, BIKE'\n",
    "null_df.loc[(null_df['Description'] =='THEFT/RECOVERY: CYCLE, SCOOTER, BIKE W-VIN'), 'Description'] = 'THEFT/RECOVERY: CYCLE, SCOOTER, BIKE'\n",
    "null_df.loc[(null_df['Description'] =='THEFT/RECOVERY: CYCLE, SCOOTER, BIKE NO VIN'), 'Description'] = 'THEFT/RECOVERY: CYCLE, SCOOTER, BIKE'\n",
    "null_df.loc[(null_df['Description'] =='ATTEMPT: CYCLE, SCOOTER, BIKE W-VIN'), 'Description'] = 'ATTEMPT: CYCLE, SCOOTER, BIKE'"
   ]
  },
  {
   "cell_type": "code",
   "execution_count": 89,
   "metadata": {},
   "outputs": [
    {
     "data": {
      "text/plain": [
       "AUTOMOBILE                              44745\n",
       "THEFT/RECOVERY: AUTOMOBILE               3222\n",
       "ATT: AUTOMOBILE                          2181\n",
       "TRUCK, BUS, MOTOR HOME                   1096\n",
       "CYCLE, SCOOTER, BIKE                     1033\n",
       "THEFT/RECOVERY: TRUCK,BUS,MHOME           142\n",
       "THEFT/RECOVERY: CYCLE, SCOOTER, BIKE       34\n",
       "ATT: TRUCK, BUS, MOTOR HOME                27\n",
       "ATTEMPT: CYCLE, SCOOTER, BIKE              20\n",
       "Name: Description, dtype: int64"
      ]
     },
     "execution_count": 89,
     "metadata": {},
     "output_type": "execute_result"
    }
   ],
   "source": [
    "# Double-check\n",
    "iucr_df = null_df.loc[null_df['Primary Type'] == 'MOTOR VEHICLE THEFT']\n",
    "iucr_df['Description'].value_counts()"
   ]
  },
  {
   "cell_type": "code",
   "execution_count": 90,
   "metadata": {},
   "outputs": [
    {
     "data": {
      "text/plain": [
       "ARMED: HANDGUN                    20001\n",
       "STRONGARM - NO WEAPON             17329\n",
       "AGGRAVATED                         3102\n",
       "ARMED: OTHER DANGEROUS WEAPON      2315\n",
       "ARMED:KNIFE/CUTTING INSTRUMENT     2255\n",
       "AGGRAVATED VEHICULAR HIJACKING     1802\n",
       "ATTEMPT: STRONGARM-NO WEAPON       1799\n",
       "ATTEMPT: ARMED-HANDGUN             1746\n",
       "VEHICULAR HIJACKING                1205\n",
       "ATTEMPT: ARMED-KNIFE/CUT INSTR      445\n",
       "ATTEMPT: AGGRAVATED                 328\n",
       "ATTEMPT: ARMED-OTHER DANG WEAP      304\n",
       "ARMED: OTHER FIREARM                245\n",
       "ATTEMPT: ARMED-OTHER FIREARM         53\n",
       "Name: Description, dtype: int64"
      ]
     },
     "execution_count": 90,
     "metadata": {},
     "output_type": "execute_result"
    }
   ],
   "source": [
    "# Checking IUCR against chicago police to decide where to combine columns\n",
    "    # Srongarm == non-aggravated\n",
    "    # Armed == aggravated w/weapon vs aggravated w/no weapon\n",
    "iucr_df = null_df.loc[null_df['Primary Type'] == 'ROBBERY']\n",
    "iucr_df['Description'].value_counts()"
   ]
  },
  {
   "cell_type": "code",
   "execution_count": 91,
   "metadata": {},
   "outputs": [],
   "source": [
    "# split to add weapon\n",
    "null_df.loc[null_df['Primary Type'] == 'ROBBERY', 'Weapon'] = null_df.loc[null_df['Primary Type'] == 'ROBBERY', 'Description'].str.split(':', 1).str[1]"
   ]
  },
  {
   "cell_type": "code",
   "execution_count": 92,
   "metadata": {},
   "outputs": [],
   "source": [
    "# Fix columns with split but no weapon\n",
    "null_df.loc[(null_df['Description'] =='ATTEMPT: STRONGARM-NO WEAPON'), 'Description'] = 'ATTEMPT NON-AGGRAVATED'\n",
    "null_df.loc[(null_df['Description'] =='ATTEMPT: ARMED-HANDGUN'), 'Description'] = 'ATTEMPT AGG'\n",
    "null_df.loc[(null_df['Description'] =='ATTEMPT: ARMED-KNIFE/CUT INSTR'), 'Description'] = 'ATTEMPT AGG'\n",
    "null_df.loc[(null_df['Description'] =='ATTEMPT: AGGRAVATED'), 'Description'] = 'ATTEMPT AGG'\n",
    "null_df.loc[(null_df['Description'] =='ATTEMPT: ARMED-OTHER DANG WEAP'), 'Description'] = 'ATTEMPT AGG'\n",
    "null_df.loc[(null_df['Description'] =='ATTEMPT: ARMED-OTHER FIREARM'), 'Description'] = 'ATTEMPT AGG'"
   ]
  },
  {
   "cell_type": "code",
   "execution_count": 93,
   "metadata": {},
   "outputs": [],
   "source": [
    "# Description with no weapon\n",
    "null_df.loc[null_df['Primary Type'] == 'ROBBERY', 'Description'] = null_df.loc[null_df['Primary Type'] == 'ROBBERY', 'Description'].str.split(':', 1).str[0]"
   ]
  },
  {
   "cell_type": "code",
   "execution_count": 94,
   "metadata": {},
   "outputs": [],
   "source": [
    "# Fix armed to be aggravated\n",
    "null_df.loc[(null_df['Description'] =='ARMED'), 'Description'] = 'AGGRAVATED'\n",
    "null_df.loc[(null_df['Description'] =='STRONGARM - NO WEAPON'), 'Description'] = 'NON-AGGRAVATED'"
   ]
  },
  {
   "cell_type": "code",
   "execution_count": 95,
   "metadata": {},
   "outputs": [
    {
     "data": {
      "text/plain": [
       "AGGRAVATED                        27918\n",
       "NON-AGGRAVATED                    17329\n",
       "ATTEMPT AGG                        2876\n",
       "AGGRAVATED VEHICULAR HIJACKING     1802\n",
       "ATTEMPT NON-AGGRAVATED             1799\n",
       "VEHICULAR HIJACKING                1205\n",
       "Name: Description, dtype: int64"
      ]
     },
     "execution_count": 95,
     "metadata": {},
     "output_type": "execute_result"
    }
   ],
   "source": [
    "# Double-check\n",
    "iucr_df = null_df.loc[null_df['Primary Type'] == 'ROBBERY']\n",
    "iucr_df['Description'].value_counts()"
   ]
  },
  {
   "cell_type": "code",
   "execution_count": 96,
   "metadata": {},
   "outputs": [
    {
     "data": {
      "text/plain": [
       " HANDGUN                    20001\n",
       " OTHER DANGEROUS WEAPON      2315\n",
       "KNIFE/CUTTING INSTRUMENT     2255\n",
       " STRONGARM-NO WEAPON         1799\n",
       " ARMED-HANDGUN               1746\n",
       " ARMED-KNIFE/CUT INSTR        445\n",
       " AGGRAVATED                   328\n",
       " ARMED-OTHER DANG WEAP        304\n",
       " OTHER FIREARM                245\n",
       " ARMED-OTHER FIREARM           53\n",
       "Name: Weapon, dtype: int64"
      ]
     },
     "execution_count": 96,
     "metadata": {},
     "output_type": "execute_result"
    }
   ],
   "source": [
    "# Check weapon column\n",
    "iucr_df = null_df.loc[null_df['Primary Type'] == 'ROBBERY']\n",
    "iucr_df['Weapon'].value_counts()"
   ]
  },
  {
   "cell_type": "code",
   "execution_count": 97,
   "metadata": {},
   "outputs": [
    {
     "data": {
      "text/plain": [
       "ID                      1324625\n",
       "Case Number             1324625\n",
       "Date                    1324625\n",
       "Block                   1324625\n",
       "IUCR                    1324625\n",
       "Primary Type            1324625\n",
       "Description             1324625\n",
       "Location Description    1324625\n",
       "Arrest                  1324625\n",
       "Domestic                1324625\n",
       "Beat                    1324625\n",
       "District                1324625\n",
       "Ward                    1324625\n",
       "Community Area          1324625\n",
       "FBI Code                1324625\n",
       "X Coordinate            1324625\n",
       "Y Coordinate            1324625\n",
       "Year                    1324625\n",
       "Updated On              1324625\n",
       "Latitude                1324625\n",
       "Longitude               1324625\n",
       "Location                1324625\n",
       "Month                   1324625\n",
       "Day                     1324625\n",
       "Weekday                 1324625\n",
       "HourOfDay               1324625\n",
       "Weapon                  1324625\n",
       "dtype: int64"
      ]
     },
     "execution_count": 97,
     "metadata": {},
     "output_type": "execute_result"
    }
   ],
   "source": [
    "# Strip spaces and fillna\n",
    "null_df = null_df.fillna('NONE')\n",
    "null_df.count()"
   ]
  },
  {
   "cell_type": "code",
   "execution_count": 98,
   "metadata": {},
   "outputs": [],
   "source": [
    "null_df['Weapon'] = null_df['Weapon'].map(lambda x: x.strip())"
   ]
  },
  {
   "cell_type": "code",
   "execution_count": 99,
   "metadata": {},
   "outputs": [
    {
     "data": {
      "text/plain": [
       "NONE                        23438\n",
       "HANDGUN                     20001\n",
       "OTHER DANGEROUS WEAPON       2315\n",
       "KNIFE/CUTTING INSTRUMENT     2255\n",
       "STRONGARM-NO WEAPON          1799\n",
       "ARMED-HANDGUN                1746\n",
       "ARMED-KNIFE/CUT INSTR         445\n",
       "AGGRAVATED                    328\n",
       "ARMED-OTHER DANG WEAP         304\n",
       "OTHER FIREARM                 245\n",
       "ARMED-OTHER FIREARM            53\n",
       "Name: Weapon, dtype: int64"
      ]
     },
     "execution_count": 99,
     "metadata": {},
     "output_type": "execute_result"
    }
   ],
   "source": [
    "iucr_df = null_df.loc[null_df['Primary Type'] == 'ROBBERY']\n",
    "iucr_df['Weapon'].value_counts()"
   ]
  },
  {
   "cell_type": "code",
   "execution_count": 100,
   "metadata": {},
   "outputs": [],
   "source": [
    "# Fix weapon columns\n",
    "null_df.loc[(null_df['Weapon'] =='STRONGARM-NO WEAPON'), 'Weapon'] = 'NONE'\n",
    "null_df.loc[(null_df['Weapon'] =='ARMED-HANDGUN'), 'Weapon'] = 'HANDGUN'\n",
    "null_df.loc[(null_df['Weapon'] =='ARMED-KNIFE/CUT INSTR'), 'Weapon'] = 'KNIFE/CUTTING INSTRUMENT'\n",
    "null_df.loc[(null_df['Weapon'] =='AGGRAVATED'), 'Weapon'] = 'NONE'\n",
    "null_df.loc[(null_df['Weapon'] =='ARMED-OTHER DANG WEAP'), 'Weapon'] = 'OTHER DANGEROUS WEAPON'\n",
    "null_df.loc[(null_df['Weapon'] =='ARMED-OTHER FIREARM'), 'Weapon'] = 'OTHER FIREARM'"
   ]
  },
  {
   "cell_type": "code",
   "execution_count": 101,
   "metadata": {},
   "outputs": [
    {
     "data": {
      "text/plain": [
       "NONE                        25565\n",
       "HANDGUN                     21747\n",
       "KNIFE/CUTTING INSTRUMENT     2700\n",
       "OTHER DANGEROUS WEAPON       2619\n",
       "OTHER FIREARM                 298\n",
       "Name: Weapon, dtype: int64"
      ]
     },
     "execution_count": 101,
     "metadata": {},
     "output_type": "execute_result"
    }
   ],
   "source": [
    "# Double-check\n",
    "iucr_df = null_df.loc[null_df['Primary Type'] == 'ROBBERY']\n",
    "iucr_df['Weapon'].value_counts()"
   ]
  },
  {
   "cell_type": "code",
   "execution_count": 102,
   "metadata": {},
   "outputs": [
    {
     "data": {
      "text/plain": [
       "CREDIT CARD FRAUD                          17799\n",
       "FINANCIAL IDENTITY THEFT OVER $ 300        17645\n",
       "FRAUD OR CONFIDENCE GAME                    8474\n",
       "ILLEGAL USE CASH CARD                       7088\n",
       "FINANCIAL IDENTITY THEFT $300 AND UNDER     6235\n",
       "THEFT OF LABOR/SERVICES                     4688\n",
       "COUNTERFEITING DOCUMENT                     3528\n",
       "ATTEMPT - FINANCIAL IDENTITY THEFT          2714\n",
       "FORGERY                                     2300\n",
       "COUNTERFEIT CHECK                           2265\n",
       "BOGUS CHECK                                 1983\n",
       "THEFT BY LESSEE,MOTOR VEH                   1375\n",
       "THEFT OF LOST/MISLAID PROP                  1345\n",
       "COMPUTER FRAUD                               539\n",
       "AGGRAVATED FINANCIAL IDENTITY THEFT          526\n",
       "FINAN EXPLOIT-ELDERLY/DISABLED               312\n",
       "STOLEN PROP: BUY/RECEIVE/POS.                305\n",
       "DECEPTIVE COLLECTION PRACTICES               243\n",
       "UNAUTHORIZED VIDEOTAPING                     197\n",
       "EMBEZZLEMENT                                 168\n",
       "ILLEGAL POSSESSION CASH CARD                 156\n",
       "IMPERSONATION                                118\n",
       "UNLAWFUL USE OF RECORDED SOUND               116\n",
       "UNLAWFUL USE OF A COMPUTER                    79\n",
       "PAY TV SERVICE OFFENSES                       57\n",
       "THEFT BY LESSEE,NON-VEH                       50\n",
       "UNIDENTIFIABLE RECORDING SOUND                19\n",
       "INSURANCE FRAUD                               18\n",
       "AGGRAVATED COMPUTER TAMPERING                 13\n",
       "LIBRARY THEFT                                  8\n",
       "ALTER COINS                                    3\n",
       "POSS. KEYS OR DEV.TO COIN MACH                 1\n",
       "Name: Description, dtype: int64"
      ]
     },
     "execution_count": 102,
     "metadata": {},
     "output_type": "execute_result"
    }
   ],
   "source": [
    "# Checking IUCR against chicago police to decide where to combine columns\n",
    "    # combine counterfeit and bogus check\n",
    "    # combine cash card\n",
    "    # move identity theft to theft primary type\n",
    "iucr_df = null_df.loc[null_df['Primary Type'] == 'DECEPTIVE PRACTICE']\n",
    "iucr_df['Description'].value_counts()"
   ]
  },
  {
   "cell_type": "code",
   "execution_count": 103,
   "metadata": {},
   "outputs": [],
   "source": [
    "# Combine similar rows\n",
    "null_df.loc[(null_df['Description'] =='ILLEGAL POSSESSION CASH CARD'), 'Description'] = 'ILLEGAL USE CASH CARD'\n",
    "null_df.loc[(null_df['Description'] =='BOGUS CHECK'), 'Description'] = 'COUNTERFEIT CHECK'\n",
    "null_df.loc[(null_df['Description'] =='AGGRAVATED COMPUTER TAMPERING'), 'Description'] = 'COMPUTER FRAUD'"
   ]
  },
  {
   "cell_type": "code",
   "execution_count": 104,
   "metadata": {},
   "outputs": [],
   "source": [
    "# Move to theft\n",
    "null_df.loc[(null_df['Description'] =='FINANCIAL IDENTITY THEFT OVER $ 300'), 'Primary Type'] = 'THEFT'\n",
    "null_df.loc[(null_df['Description'] =='FINANCIAL IDENTITY THEFT $300 AND UNDER'), 'Primary Type'] = 'THEFT'\n",
    "null_df.loc[(null_df['Description'] =='ATTEMPT - FINANCIAL IDENTITY THEFT'), 'Primary Type'] = 'THEFT'\n",
    "null_df.loc[(null_df['Description'] =='AGGRAVATED FINANCIAL IDENTITY THEFT'), 'Primary Type'] = 'THEFT'\n",
    "null_df.loc[(null_df['Description'] =='THEFT OF LABOR/SERVICES'), 'Primary Type'] = 'THEFT'\n",
    "null_df.loc[(null_df['Description'] =='THEFT OF LOST/MISLAID PROP'), 'Primary Type'] = 'THEFT'\n",
    "null_df.loc[(null_df['Description'] =='LIBRARY THEFT'), 'Primary Type'] = 'THEFT'\n",
    "null_df.loc[(null_df['Description'] =='THEFT BY LESSEE,NON-VEH'), 'Primary Type'] = 'THEFT'"
   ]
  },
  {
   "cell_type": "code",
   "execution_count": 105,
   "metadata": {},
   "outputs": [],
   "source": [
    "# Move to Motor Vehicle Theft\n",
    "null_df.loc[(null_df['Description'] =='THEFT BY LESSEE,MOTOR VEH'), 'Primary Type'] = 'MOTOR VEHICLE THEFT'"
   ]
  },
  {
   "cell_type": "code",
   "execution_count": null,
   "metadata": {},
   "outputs": [],
   "source": []
  },
  {
   "cell_type": "code",
   "execution_count": 106,
   "metadata": {},
   "outputs": [
    {
     "data": {
      "text/plain": [
       "TELEPHONE THREAT                                      20473\n",
       "HARASSMENT BY TELEPHONE                               14171\n",
       "HARASSMENT BY ELECTRONIC MEANS                        12119\n",
       "VIOLATE ORDER OF PROTECTION                            7693\n",
       "OTHER VEHICLE OFFENSE                                  6489\n",
       "PAROLE VIOLATION                                       4814\n",
       "FALSE/STOLEN/ALTERED TRP                               3591\n",
       "LICENSE VIOLATION                                      2770\n",
       "VEHICLE TITLE/REG OFFENSE                              2495\n",
       "OTHER CRIME AGAINST PERSON                             1791\n",
       "OTHER WEAPONS VIOLATION                                1449\n",
       "OTHER CRIME INVOLVING PROPERTY                         1226\n",
       "SEX OFFENDER: FAIL TO REGISTER                         1156\n",
       "GUN OFFENDER: ANNUAL REGISTRATION                      1077\n",
       "SEX OFFENDER: FAIL REG NEW ADD                          872\n",
       "ANIMAL ABUSE/NEGLECT                                    713\n",
       "GUN OFFENDER: DUTY TO REGISTER                          632\n",
       "VIOLATION OF CIVIL NO CONTACT ORDER                     298\n",
       "PROBATION VIOLATION                                     292\n",
       "VIOLENT OFFENDER: ANNUAL REGISTRATION                   180\n",
       "GUN OFFENDER: DUTY TO REPORT CHANGE OF INFORMATION      167\n",
       "OBSCENE TELEPHONE CALLS                                 141\n",
       "VIO BAIL BOND: DOM VIOLENCE                             118\n",
       "TAMPER WITH MOTOR VEHICLE                                95\n",
       "VIOLENT OFFENDER: DUTY TO REGISTER                       83\n",
       "POSSESSION OF BURGLARY TOOLS                             79\n",
       "SEX OFFENDER: PROHIBITED ZONE                            52\n",
       "BOARD PLANE WITH WEAPON                                  51\n",
       "VIOLATION GPS MONITORING DEVICE                          50\n",
       "ABUSE/NEGLECT: CARE FACILITY                             41\n",
       "VIOLENT OFFENDER: FAIL TO REGISTER NEW ADDRESS           40\n",
       "OTHER ARSON/EXPLOSIVE INCIDENT                           31\n",
       "EAVESDROPPING                                            23\n",
       "HAZARDOUS MATERIALS VIOLATION                            14\n",
       "ARSONIST: ANNUAL REGISTRATION                            13\n",
       "VIOLATION OF SMOKING BAN                                 11\n",
       "MONEY LAUNDERING                                          7\n",
       "INTERFERE W/ HIGHER EDUCATION                             7\n",
       "VIOLATION OF SUMMARY CLOSURE                              5\n",
       "ARSONIST: DUTY TO REGISTER                                4\n",
       "UNLAWFUL USE OF BODY ARMOR                                4\n",
       "ARSONIST: FAIL TO REGISTER NEW ADDRESS                    3\n",
       "ANIMAL FIGHTING                                           3\n",
       "Name: Description, dtype: int64"
      ]
     },
     "execution_count": 106,
     "metadata": {},
     "output_type": "execute_result"
    }
   ],
   "source": [
    "# Checking IUCR against chicago police to decide where to combine columns\n",
    "    # combine animal abuse\n",
    "    # move miscellaneous other violations to correct primary types\n",
    "    # \n",
    "iucr_df = null_df.loc[null_df['Primary Type'] == 'OTHER OFFENSE']\n",
    "iucr_df['Description'].value_counts()"
   ]
  },
  {
   "cell_type": "code",
   "execution_count": 107,
   "metadata": {},
   "outputs": [],
   "source": [
    "# Combine registration violations\n",
    "null_df.loc[(null_df['Description'] =='ARSONIST: FAIL TO REGISTER NEW ADDRESS'), 'Description'] = 'ARSON REGISTRATION VIOLATION'\n",
    "null_df.loc[(null_df['Description'] =='ARSONIST: DUTY TO REGISTER'), 'Description'] = 'ARSON REGISTRATION'\n",
    "null_df.loc[(null_df['Description'] =='ARSONIST: ANNUAL REGISTRATION'), 'Description'] = 'ARSON REGISTRATION'\n",
    "null_df.loc[(null_df['Description'] =='VIOLENT OFFENDER: FAIL TO REGISTER NEW ADDRESS'), 'Description'] = 'VIOLENT REGISTRATION VIOLATION'\n",
    "null_df.loc[(null_df['Description'] =='VIOLENT OFFENDER: DUTY TO REGISTER'), 'Description'] = 'VIOLENT REGISTRATION'\n",
    "null_df.loc[(null_df['Description'] =='VIOLENT OFFENDER: ANNUAL REGISTRATION'), 'Description'] = 'VIOLENT REGISTRATION'\n",
    "null_df.loc[(null_df['Description'] =='GUN OFFENDER: DUTY TO REPORT CHANGE OF INFORMATION'), 'Description'] = 'GUN REGISTRATION'\n",
    "null_df.loc[(null_df['Description'] =='GUN OFFENDER: DUTY TO REGISTER'), 'Description'] = 'GUN REGISTRATION'\n",
    "null_df.loc[(null_df['Description'] =='GUN OFFENDER: ANNUAL REGISTRATION'), 'Description'] = 'GUN REGISTRATION'\n",
    "null_df.loc[(null_df['Description'] =='SEX OFFENDER: FAIL TO REGISTER'), 'Description'] = 'SEX REGISTRATION VIOLATION'\n",
    "null_df.loc[(null_df['Description'] =='SEX OFFENDER: FAIL REG NEW ADD'), 'Description'] = 'SEX REGISTRATION VIOLATION'"
   ]
  },
  {
   "cell_type": "code",
   "execution_count": 108,
   "metadata": {},
   "outputs": [],
   "source": [
    "# move to other primary types\n",
    "null_df.loc[(null_df['Description'] =='BOARD PLANE WITH WEAPON'), 'Primary Type'] = 'WEAPONS VIOLATION'\n",
    "null_df.loc[(null_df['Description'] =='OTHER WEAPONS VIOLATION'), 'Primary Type'] = 'WEAPONS VIOLATION'\n",
    "null_df.loc[(null_df['Description'] =='OTHER ARSON/EXPLOSIVE INCIDENT'), 'Primary Type'] = 'ARSON'\n",
    "null_df.loc[(null_df['Description'] =='ARSON REGISTRATION VIOLATION'), 'Primary Type'] = 'ARSON'\n",
    "null_df.loc[(null_df['Description'] =='POSSESSION OF BURGLARY TOOLS'), 'Primary Type'] = 'BURGLARY'\n",
    "null_df.loc[(null_df['Description'] =='OBSCENE TELEPHONE CALLS'), 'Primary Type'] = 'SEX OFFENSE'\n",
    "null_df.loc[(null_df['Description'] =='EAVESDROPPING'), 'Primary Type'] = 'PUBLIC PEACE VIOLATION'\n"
   ]
  },
  {
   "cell_type": "code",
   "execution_count": 109,
   "metadata": {},
   "outputs": [],
   "source": [
    "# Combine animal abuse, order of protection\n",
    "null_df.loc[(null_df['Description'] =='ANIMAL FIGHTING'), 'Description'] = 'ANIMAL ABUSE/NEGLECT'\n",
    "null_df.loc[(null_df['Description'] =='VIOLATION OF CIVIL NO CONTACT ORDER'), 'Description'] = 'VIOLATE ORDER OF PROTECTION'\n",
    "null_df.loc[(null_df['Description'] =='VIOLATION GPS MONITORING DEVICE'), 'Description'] = 'PAROLE VIOLATION'\n",
    "null_df.loc[(null_df['Description'] =='VIOLATION OF SUMMARY CLOSURE'), 'Description'] = 'PAROLE VIOLATION'"
   ]
  },
  {
   "cell_type": "code",
   "execution_count": 110,
   "metadata": {},
   "outputs": [
    {
     "data": {
      "text/plain": [
       "POSS: CANNABIS 30GMS OR LESS                           29254\n",
       "POSS: HEROIN(WHITE)                                    14797\n",
       "POSS: CRACK                                             7541\n",
       "MANU/DELIVER: HEROIN (WHITE)                            6057\n",
       "FOUND SUSPECT NARCOTICS                                 4057\n",
       "POSS: CANNABIS MORE THAN 30GMS                          3633\n",
       "POSS: COCAINE                                           3239\n",
       "MANU/DEL:CANNABIS 10GM OR LESS                          3087\n",
       "MANU/DEL:CANNABIS OVER 10 GMS                           2776\n",
       "MANU/DELIVER:CRACK                                      2271\n",
       "SOLICIT NARCOTICS ON PUBLICWAY                          2084\n",
       "POSS: SYNTHETIC DRUGS                                   1608\n",
       "POSSESSION OF DRUG EQUIPMENT                            1210\n",
       "POSS: PCP                                               1118\n",
       "POSS: BARBITUATES                                        780\n",
       "POSS: HALLUCINOGENS                                      658\n",
       "POSS: HEROIN(BRN/TAN)                                    655\n",
       "FORFEIT PROPERTY                                         534\n",
       "ALTER/FORGE PRESCRIPTION                                 357\n",
       "MANU/DELIVER:COCAINE                                     292\n",
       "ATTEMPT POSSESSION NARCOTICS                             283\n",
       "POSS: METHAMPHETAMINES                                   272\n",
       "MANU/DELIVER:SYNTHETIC DRUGS                             217\n",
       "MANU/DELIVER:PCP                                         208\n",
       "POSS: AMPHETAMINES                                       167\n",
       "MANU/DELIVER: HEROIN(BRN/TAN)                            135\n",
       "CRIMINAL DRUG CONSPIRACY                                 123\n",
       "MANU/DELIVER: HALLUCINOGEN                               108\n",
       "POSSESSION: SYNTHETIC MARIJUANA                           99\n",
       "MANU/DELIVER:BARBITUATES                                  79\n",
       "POS: HYPODERMIC NEEDLE                                    78\n",
       "POSS: HEROIN(BLACK TAR)                                   49\n",
       "CANNABIS PLANT                                            39\n",
       "MANU/DELIVER: METHAMPHETAMINES                            37\n",
       "INTOXICATING COMPOUNDS                                    31\n",
       "SALE/DEL DRUG PARAPHERNALIA                               22\n",
       "MANU/POSS. W/INTENT TO DELIVER: SYNTHETIC MARIJUANA       20\n",
       "POSS: LOOK-ALIKE DRUGS                                    17\n",
       "ATTEMPT POSSESSION CANNABIS                               17\n",
       "CONT SUBS:FAIL TO MAINT RECORD                            14\n",
       "MANU/DELIVER:AMPHETAMINES                                 13\n",
       "DELIVER CANNABIS TO PERSON <18                            12\n",
       "MANU/DELIVER:LOOK-ALIKE DRUG                               9\n",
       "DEL CONT SUBS TO PERSON <18                                9\n",
       "MANU/DELIVER:HEROIN(BLACK TAR)                             5\n",
       "FAIL REGISTER LIC:CONT SUBS                                1\n",
       "SALE/DEL HYPODERMIC NEEDLE                                 1\n",
       "Name: Description, dtype: int64"
      ]
     },
     "execution_count": 110,
     "metadata": {},
     "output_type": "execute_result"
    }
   ],
   "source": [
    "# Checking IUCR against chicago police to decide where to combine columns\n",
    "    # split into narcoit posession vs manu/del primary type\n",
    "    # combine man/del by type\n",
    "    # \n",
    "iucr_df = null_df.loc[null_df['Primary Type'] == 'NARCOTICS']\n",
    "iucr_df['Description'].value_counts()"
   ]
  },
  {
   "cell_type": "code",
   "execution_count": 111,
   "metadata": {},
   "outputs": [],
   "source": [
    "# split off possesion and manu/del to own categories\n",
    "    # use weapon column to help filter\n",
    "null_df.loc[null_df['Primary Type'] == 'NARCOTICS', 'Weapon'] = null_df.loc[null_df['Primary Type'] == 'NARCOTICS', 'Description'].str.split(':', 1).str[0]"
   ]
  },
  {
   "cell_type": "code",
   "execution_count": 112,
   "metadata": {},
   "outputs": [],
   "source": [
    "null_df.loc[(null_df['Weapon'] =='POSS'), 'Primary Type'] = 'NARCOTICS POSSESION'\n",
    "null_df.loc[(null_df['Weapon'] =='POSSESSION'), 'Primary Type'] = 'NARCOTICS POSSESION'\n",
    "null_df.loc[(null_df['Weapon'] =='POS'), 'Primary Type'] = 'NARCOTICS POSSESION'\n",
    "null_df.loc[(null_df['Weapon'] =='MANU/DEL'), 'Primary Type'] = 'NARCOTICS MANU/DEL'\n",
    "null_df.loc[(null_df['Weapon'] =='MANU/DELIVER'), 'Primary Type'] = 'NARCOTICS MANU/DEL'\n",
    "null_df.loc[(null_df['Weapon'] =='MANU/POSS. W/INTENT TO DELIVER'), 'Primary Type'] = 'NARCOTICS MANU/DEL'"
   ]
  },
  {
   "cell_type": "code",
   "execution_count": 113,
   "metadata": {},
   "outputs": [
    {
     "data": {
      "text/plain": [
       "FOUND SUSPECT NARCOTICS           4057\n",
       "SOLICIT NARCOTICS ON PUBLICWAY    2084\n",
       "POSSESSION OF DRUG EQUIPMENT      1210\n",
       "FORFEIT PROPERTY                   534\n",
       "ALTER/FORGE PRESCRIPTION           357\n",
       "ATTEMPT POSSESSION NARCOTICS       283\n",
       "CRIMINAL DRUG CONSPIRACY           123\n",
       "CANNABIS PLANT                      39\n",
       "INTOXICATING COMPOUNDS              31\n",
       "SALE/DEL DRUG PARAPHERNALIA         22\n",
       "ATTEMPT POSSESSION CANNABIS         17\n",
       "CONT SUBS:FAIL TO MAINT RECORD      14\n",
       "DELIVER CANNABIS TO PERSON <18      12\n",
       "DEL CONT SUBS TO PERSON <18          9\n",
       "FAIL REGISTER LIC:CONT SUBS          1\n",
       "SALE/DEL HYPODERMIC NEEDLE           1\n",
       "Name: Description, dtype: int64"
      ]
     },
     "execution_count": 113,
     "metadata": {},
     "output_type": "execute_result"
    }
   ],
   "source": [
    "# Check other narcotics crimes\n",
    "iucr_df = null_df.loc[null_df['Primary Type'] == 'NARCOTICS']\n",
    "iucr_df['Description'].value_counts()"
   ]
  },
  {
   "cell_type": "code",
   "execution_count": 114,
   "metadata": {},
   "outputs": [],
   "source": [
    "# combine needles, controlled substance, under 18\n",
    "null_df.loc[(null_df['Description'] =='SALE/DEL HYPODERMIC NEEDLE'), 'Description'] = 'SALE/DEL DRUG PARAPHERNALIA'\n",
    "null_df.loc[(null_df['Description'] =='FAIL REGISTER LIC:CONT SUBS'), 'Description'] = 'CONT SUBS VIOLATION'\n",
    "null_df.loc[(null_df['Description'] =='CONT SUBS:FAIL TO MAINT RECORD'), 'Description'] = 'CONT SUBS VIOLATION'\n",
    "null_df.loc[(null_df['Description'] =='DELIVER CANNABIS TO PERSON <18'), 'Description'] = 'DEL CONT SUBS TO PERSON <18'\n",
    "\n",
    "# fix weapons\n",
    "null_df.loc[(null_df['Primary Type'] == 'NARCOTICS'), 'Weapon'] = 'NONE'\n",
    "null_df.loc[(null_df['Primary Type'] == 'NARCOTICS POSSESION'), 'Weapon'] = 'NONE'\n",
    "null_df.loc[(null_df['Primary Type'] == 'NARCOTICS MANU/DEL'), 'Weapon'] = 'NONE'"
   ]
  },
  {
   "cell_type": "code",
   "execution_count": 115,
   "metadata": {},
   "outputs": [
    {
     "data": {
      "text/plain": [
       "NONE                        1277882\n",
       "HANDGUN                       36440\n",
       "KNIFE/CUTTING INSTRUMENT       2700\n",
       "OTHER DANGEROUS WEAPON         2619\n",
       "FIREARM                        1498\n",
       "OTHER FIREARM                  1074\n",
       "OTHER DANG WEAPON              1004\n",
       "OTHER                           999\n",
       "AIR RIFLE                       208\n",
       "KNIFE/CUT INSTR                 201\n",
       "Name: Weapon, dtype: int64"
      ]
     },
     "execution_count": 115,
     "metadata": {},
     "output_type": "execute_result"
    }
   ],
   "source": [
    "# Double-check no weird weapons\n",
    "null_df['Weapon'].value_counts()"
   ]
  },
  {
   "cell_type": "code",
   "execution_count": 154,
   "metadata": {},
   "outputs": [
    {
     "data": {
      "text/plain": [
       "MANU/DELIVER: HEROIN (WHITE)                           6057\n",
       "MANU/DEL:CANNABIS 10GM OR LESS                         3087\n",
       "MANU/DEL:CANNABIS OVER 10 GMS                          2776\n",
       "MANU/DELIVER:CRACK                                     2271\n",
       "MANU/DELIVER:COCAINE                                    292\n",
       "MANU/DELIVER:SYNTHETIC DRUGS                            217\n",
       "MANU/DELIVER:PCP                                        208\n",
       "MANU/DELIVER: HEROIN(BRN/TAN)                           135\n",
       "MANU/DELIVER: HALLUCINOGEN                              108\n",
       "MANU/DELIVER:BARBITUATES                                 79\n",
       "MANU/DELIVER: METHAMPHETAMINES                           37\n",
       "MANU/POSS. W/INTENT TO DELIVER: SYNTHETIC MARIJUANA      20\n",
       "MANU/DELIVER:AMPHETAMINES                                13\n",
       "MANU/DELIVER:LOOK-ALIKE DRUG                              9\n",
       "MANU/DELIVER:HEROIN(BLACK TAR)                            5\n",
       "Name: Description, dtype: int64"
      ]
     },
     "execution_count": 154,
     "metadata": {},
     "output_type": "execute_result"
    }
   ],
   "source": [
    "# split narcotics to clean out manu/del\n",
    "    # split out weapon\n",
    "iucr_df = null_df.loc[null_df['Primary Type'] == 'NARCOTICS MANU/DEL']\n",
    "iucr_df['Description'].value_counts()"
   ]
  },
  {
   "cell_type": "code",
   "execution_count": 158,
   "metadata": {},
   "outputs": [],
   "source": [
    "null_df.loc[null_df['Primary Type'] == 'NARCOTICS MANU/DEL', 'Description'] = null_df.loc[null_df['Primary Type'] == 'NARCOTICS MANU/DEL', 'Description'].str.split(':', 1).str[1]"
   ]
  },
  {
   "cell_type": "code",
   "execution_count": 159,
   "metadata": {
    "scrolled": true
   },
   "outputs": [
    {
     "data": {
      "text/plain": [
       " HEROIN (WHITE)          6057\n",
       "CANNABIS 10GM OR LESS    3087\n",
       "CANNABIS OVER 10 GMS     2776\n",
       "CRACK                    2271\n",
       "COCAINE                   292\n",
       "SYNTHETIC DRUGS           217\n",
       "PCP                       208\n",
       " HEROIN(BRN/TAN)          135\n",
       " HALLUCINOGEN             108\n",
       "BARBITUATES                79\n",
       " METHAMPHETAMINES          37\n",
       " SYNTHETIC MARIJUANA       20\n",
       "AMPHETAMINES               13\n",
       "LOOK-ALIKE DRUG             9\n",
       "HEROIN(BLACK TAR)           5\n",
       "Name: Description, dtype: int64"
      ]
     },
     "execution_count": 159,
     "metadata": {},
     "output_type": "execute_result"
    }
   ],
   "source": [
    "iucr_df = null_df.loc[null_df['Primary Type'] == 'NARCOTICS MANU/DEL']\n",
    "iucr_df['Description'].value_counts()"
   ]
  },
  {
   "cell_type": "code",
   "execution_count": 163,
   "metadata": {},
   "outputs": [],
   "source": [
    "null_df.loc[null_df['Primary Type'] == 'NARCOTICS POSSESION', 'Description'] = null_df.loc[null_df['Primary Type'] == 'NARCOTICS POSSESION', 'Description'].str.split(':', 1).str[1]"
   ]
  },
  {
   "cell_type": "code",
   "execution_count": 164,
   "metadata": {},
   "outputs": [
    {
     "data": {
      "text/plain": [
       " CANNABIS 30GMS OR LESS      29254\n",
       " HEROIN(WHITE)               14797\n",
       " CRACK                        7541\n",
       " CANNABIS MORE THAN 30GMS     3633\n",
       " COCAINE                      3239\n",
       " SYNTHETIC DRUGS              1608\n",
       " PCP                          1118\n",
       " BARBITUATES                   780\n",
       " HALLUCINOGENS                 658\n",
       " HEROIN(BRN/TAN)               655\n",
       " METHAMPHETAMINES              272\n",
       " AMPHETAMINES                  167\n",
       " SYNTHETIC MARIJUANA            99\n",
       " HYPODERMIC NEEDLE              78\n",
       " HEROIN(BLACK TAR)              49\n",
       " LOOK-ALIKE DRUGS               17\n",
       "Name: Description, dtype: int64"
      ]
     },
     "execution_count": 164,
     "metadata": {},
     "output_type": "execute_result"
    }
   ],
   "source": [
    "iucr_df = null_df.loc[null_df['Primary Type'] == 'NARCOTICS POSSESION']\n",
    "iucr_df['Description'].value_counts()"
   ]
  },
  {
   "cell_type": "code",
   "execution_count": 173,
   "metadata": {},
   "outputs": [],
   "source": [
    "# clean new columns by stripping spaces\n",
    "null_df['Description'] = null_df['Description'].map(lambda x: x.strip())"
   ]
  },
  {
   "cell_type": "code",
   "execution_count": 116,
   "metadata": {},
   "outputs": [
    {
     "data": {
      "text/plain": [
       "SIMPLE                            61169\n",
       "AGGRAVATED: HANDGUN               12564\n",
       "AGGRAVATED:KNIFE/CUTTING INSTR     6869\n",
       "AGGRAVATED: OTHER DANG WEAPON      5134\n",
       "PRO EMP HANDS NO/MIN INJURY        3112\n",
       "AGG PO HANDS NO/MIN INJURY         1624\n",
       "AGGRAVATED: OTHER FIREARM           451\n",
       "AGGRAVATED PO: OTHER DANG WEAP      285\n",
       "AGG PRO.EMP: OTHER DANG WEAPON      248\n",
       "AGGRAVATED PO: HANDGUN              245\n",
       "AGG PRO.EMP:KNIFE/CUTTING INST      175\n",
       "AGGRAVATED PO:KNIFE/CUT INSTR       152\n",
       "AGG PRO.EMP: HANDGUN                139\n",
       "AGG PRO.EMP: OTHER FIREARM           13\n",
       "AGGRAVATED PO: OTHER FIREARM         12\n",
       "Name: Description, dtype: int64"
      ]
     },
     "execution_count": 116,
     "metadata": {},
     "output_type": "execute_result"
    }
   ],
   "source": [
    "# Checking IUCR against chicago police to decide where to combine columns\n",
    "    # split out weapon\n",
    "iucr_df = null_df.loc[null_df['Primary Type'] == 'ASSAULT']\n",
    "iucr_df['Description'].value_counts()"
   ]
  },
  {
   "cell_type": "code",
   "execution_count": 117,
   "metadata": {},
   "outputs": [],
   "source": [
    "# split to add weapon\n",
    "null_df.loc[null_df['Primary Type'] == 'ASSAULT', 'Weapon'] = null_df.loc[null_df['Primary Type'] == 'ASSAULT', 'Description'].str.split(':', 1).str[1]"
   ]
  },
  {
   "cell_type": "code",
   "execution_count": 118,
   "metadata": {},
   "outputs": [
    {
     "data": {
      "text/plain": [
       " HANDGUN               12948\n",
       "KNIFE/CUTTING INSTR     6869\n",
       " OTHER DANG WEAPON      5382\n",
       " OTHER FIREARM           476\n",
       " OTHER DANG WEAP         285\n",
       "KNIFE/CUTTING INST       175\n",
       "KNIFE/CUT INSTR          152\n",
       "Name: Weapon, dtype: int64"
      ]
     },
     "execution_count": 118,
     "metadata": {},
     "output_type": "execute_result"
    }
   ],
   "source": [
    "iucr_df = null_df.loc[null_df['Primary Type'] == 'ASSAULT']\n",
    "iucr_df['Weapon'].value_counts()"
   ]
  },
  {
   "cell_type": "code",
   "execution_count": 119,
   "metadata": {},
   "outputs": [
    {
     "data": {
      "text/plain": [
       "ID                      1324625\n",
       "Case Number             1324625\n",
       "Date                    1324625\n",
       "Block                   1324625\n",
       "IUCR                    1324625\n",
       "Primary Type            1324625\n",
       "Description             1324625\n",
       "Location Description    1324625\n",
       "Arrest                  1324625\n",
       "Domestic                1324625\n",
       "Beat                    1324625\n",
       "District                1324625\n",
       "Ward                    1324625\n",
       "Community Area          1324625\n",
       "FBI Code                1324625\n",
       "X Coordinate            1324625\n",
       "Y Coordinate            1324625\n",
       "Year                    1324625\n",
       "Updated On              1324625\n",
       "Latitude                1324625\n",
       "Longitude               1324625\n",
       "Location                1324625\n",
       "Month                   1324625\n",
       "Day                     1324625\n",
       "Weekday                 1324625\n",
       "HourOfDay               1324625\n",
       "Weapon                  1324625\n",
       "dtype: int64"
      ]
     },
     "execution_count": 119,
     "metadata": {},
     "output_type": "execute_result"
    }
   ],
   "source": [
    "null_df.count()\n",
    "# Will have to fillna every time split column\n",
    "null_df = null_df.fillna('NONE')\n",
    "null_df.count()"
   ]
  },
  {
   "cell_type": "code",
   "execution_count": 120,
   "metadata": {},
   "outputs": [],
   "source": [
    "# Description with no weapon\n",
    "null_df.loc[null_df['Primary Type'] == 'ASSAULT', 'Description'] = null_df.loc[null_df['Primary Type'] == 'ASSAULT', 'Description'].str.split(':', 1).str[0]"
   ]
  },
  {
   "cell_type": "code",
   "execution_count": 121,
   "metadata": {},
   "outputs": [
    {
     "data": {
      "text/plain": [
       "SIMPLE                         61169\n",
       "AGGRAVATED                     25018\n",
       "PRO EMP HANDS NO/MIN INJURY     3112\n",
       "AGG PO HANDS NO/MIN INJURY      1624\n",
       "AGGRAVATED PO                    694\n",
       "AGG PRO.EMP                      575\n",
       "Name: Description, dtype: int64"
      ]
     },
     "execution_count": 121,
     "metadata": {},
     "output_type": "execute_result"
    }
   ],
   "source": [
    "iucr_df = null_df.loc[null_df['Primary Type'] == 'ASSAULT']\n",
    "iucr_df['Description'].value_counts()"
   ]
  },
  {
   "cell_type": "code",
   "execution_count": 122,
   "metadata": {},
   "outputs": [],
   "source": [
    "# pro emp == protected employee\n",
    "# po = police officer\n",
    "null_df.loc[(null_df['Description'] == 'PRO EMP HANDS NO/MIN INJURY'), 'Description'] = 'SIMPLE PRO EMP'\n",
    "null_df.loc[(null_df['Description'] == 'AGG PO HANDS NO/MIN INJURY'), 'Description'] = 'AGGRAVATED PO'\n"
   ]
  },
  {
   "cell_type": "code",
   "execution_count": 123,
   "metadata": {
    "scrolled": true
   },
   "outputs": [
    {
     "data": {
      "text/plain": [
       "TO VEHICLE                     68072\n",
       "TO PROPERTY                    67128\n",
       "CRIMINAL DEFACEMENT             5201\n",
       "TO CITY OF CHICAGO PROPERTY     2709\n",
       "TO STATE SUP PROP                720\n",
       "INSTITUTIONAL VANDALISM           84\n",
       "TO FIRE FIGHT.APP.EQUIP           24\n",
       "LIBRARY VANDALISM                 13\n",
       "Name: Description, dtype: int64"
      ]
     },
     "execution_count": 123,
     "metadata": {},
     "output_type": "execute_result"
    }
   ],
   "source": [
    "# Checking IUCR against chicago police to decide where to combine columns\n",
    "    # combine library and institutional\n",
    "iucr_df = null_df.loc[null_df['Primary Type'] == 'CRIMINAL DAMAGE']\n",
    "iucr_df['Description'].value_counts()"
   ]
  },
  {
   "cell_type": "code",
   "execution_count": 124,
   "metadata": {},
   "outputs": [],
   "source": [
    "null_df.loc[(null_df['Description'] == 'LIBRARY VANDALISM'), 'Description'] = 'INSTITUTIONAL VANDALISM'"
   ]
  },
  {
   "cell_type": "code",
   "execution_count": 125,
   "metadata": {},
   "outputs": [
    {
     "data": {
      "text/plain": [
       "TO VEHICLE                     68072\n",
       "TO PROPERTY                    67128\n",
       "CRIMINAL DEFACEMENT             5201\n",
       "TO CITY OF CHICAGO PROPERTY     2709\n",
       "TO STATE SUP PROP                720\n",
       "INSTITUTIONAL VANDALISM           97\n",
       "TO FIRE FIGHT.APP.EQUIP           24\n",
       "Name: Description, dtype: int64"
      ]
     },
     "execution_count": 125,
     "metadata": {},
     "output_type": "execute_result"
    }
   ],
   "source": [
    "# Double-check\n",
    "iucr_df = null_df.loc[null_df['Primary Type'] == 'CRIMINAL DAMAGE']\n",
    "iucr_df['Description'].value_counts()"
   ]
  },
  {
   "cell_type": "code",
   "execution_count": 126,
   "metadata": {},
   "outputs": [
    {
     "data": {
      "text/plain": [
       "DOMESTIC BATTERY SIMPLE                                        121901\n",
       "SIMPLE                                                          80498\n",
       "AGGRAVATED: HANDGUN                                              9979\n",
       "AGGRAVATED: OTHER DANG WEAPON                                    9404\n",
       "AGGRAVATED DOMESTIC BATTERY: OTHER DANG WEAPON                   5286\n",
       "AGGRAVATED:KNIFE/CUTTING INSTR                                   4417\n",
       "SIMPLE PRO EMP                                                   3658\n",
       "AGGRAVATED DOMESTIC BATTERY: KNIFE/CUTTING INST                  3571\n",
       "AGGRAVATED PO                                                    3230\n",
       "AGGRAVATED DOMESTIC BATTERY: HANDS/FIST/FEET SERIOUS INJURY      1586\n",
       "AGGRAVATED OF A SENIOR CITIZEN                                    843\n",
       "AGG: HANDS/FIST/FEET NO/MINOR INJURY                              796\n",
       "AGG: HANDS/FIST/FEET SERIOUS INJURY                               788\n",
       "AGG PRO.EMP: OTHER DANG WEAPON                                    312\n",
       "AGGRAVATED PO: OTHER DANG WEAP                                    299\n",
       "AGGRAVATED OF A CHILD                                             256\n",
       "AGG PRO EMP HANDS SERIOUS INJ                                     138\n",
       "AGG PO HANDS ETC SERIOUS INJ                                      105\n",
       "AGGRAVATED: OTHER FIREARM                                          80\n",
       "AGGRAVATED DOMESTIC BATTERY: HANDGUN                               51\n",
       "AGGRAVATED PO: KNIFE/CUT INSTR                                     39\n",
       "AGG PRO.EMP:KNIFE/CUTTING INST                                     38\n",
       "OF UNBORN CHILD                                                    29\n",
       "AGGRAVATED PO: HANDGUN                                             16\n",
       "AGGRAVATED OF A UNBORN CHILD                                       14\n",
       "AGGRAVATED PO: OTHER FIREARM                                        1\n",
       "AGGRAVATED DOMESTIC BATTERY: OTHER FIREARM                          1\n",
       "AGG PRO.EMP: OTHER FIREARM                                          1\n",
       "AGG PRO.EMP: HANDGUN                                                1\n",
       "Name: Description, dtype: int64"
      ]
     },
     "execution_count": 126,
     "metadata": {},
     "output_type": "execute_result"
    }
   ],
   "source": [
    "iucr_df = null_df.loc[null_df['Primary Type'] == 'BATTERY']\n",
    "iucr_df['Description'].value_counts()"
   ]
  },
  {
   "cell_type": "code",
   "execution_count": 127,
   "metadata": {},
   "outputs": [],
   "source": [
    "# split to add weapon\n",
    "null_df.loc[null_df['Primary Type'] == 'BATTERY', 'Weapon'] = null_df.loc[null_df['Primary Type'] == 'BATTERY', 'Description'].str.split(':', 1).str[1]"
   ]
  },
  {
   "cell_type": "code",
   "execution_count": 128,
   "metadata": {},
   "outputs": [
    {
     "data": {
      "text/plain": [
       " OTHER DANG WEAPON                  15002\n",
       " HANDGUN                            10047\n",
       "KNIFE/CUTTING INSTR                  4417\n",
       " KNIFE/CUTTING INST                  3571\n",
       " HANDS/FIST/FEET SERIOUS INJURY      2374\n",
       " HANDS/FIST/FEET NO/MINOR INJURY      796\n",
       " OTHER DANG WEAP                      299\n",
       " OTHER FIREARM                         83\n",
       " KNIFE/CUT INSTR                       39\n",
       "KNIFE/CUTTING INST                     38\n",
       "Name: Weapon, dtype: int64"
      ]
     },
     "execution_count": 128,
     "metadata": {},
     "output_type": "execute_result"
    }
   ],
   "source": [
    "iucr_df = null_df.loc[null_df['Primary Type'] == 'BATTERY']\n",
    "iucr_df['Weapon'].value_counts()"
   ]
  },
  {
   "cell_type": "code",
   "execution_count": 129,
   "metadata": {},
   "outputs": [
    {
     "data": {
      "text/plain": [
       "ID                      1324625\n",
       "Case Number             1324625\n",
       "Date                    1324625\n",
       "Block                   1324625\n",
       "IUCR                    1324625\n",
       "Primary Type            1324625\n",
       "Description             1324625\n",
       "Location Description    1324625\n",
       "Arrest                  1324625\n",
       "Domestic                1324625\n",
       "Beat                    1324625\n",
       "District                1324625\n",
       "Ward                    1324625\n",
       "Community Area          1324625\n",
       "FBI Code                1324625\n",
       "X Coordinate            1324625\n",
       "Y Coordinate            1324625\n",
       "Year                    1324625\n",
       "Updated On              1324625\n",
       "Latitude                1324625\n",
       "Longitude               1324625\n",
       "Location                1324625\n",
       "Month                   1324625\n",
       "Day                     1324625\n",
       "Weekday                 1324625\n",
       "HourOfDay               1324625\n",
       "Weapon                  1324625\n",
       "dtype: int64"
      ]
     },
     "execution_count": 129,
     "metadata": {},
     "output_type": "execute_result"
    }
   ],
   "source": [
    "null_df.count()\n",
    "# Will have to fillna every time split column\n",
    "null_df = null_df.fillna('NONE')\n",
    "null_df.count()"
   ]
  },
  {
   "cell_type": "code",
   "execution_count": 130,
   "metadata": {},
   "outputs": [],
   "source": [
    "# Description with no weapon\n",
    "null_df.loc[null_df['Primary Type'] == 'BATTERY', 'Description'] = null_df.loc[null_df['Primary Type'] == 'BATTERY', 'Description'].str.split(':', 1).str[0]\n"
   ]
  },
  {
   "cell_type": "code",
   "execution_count": 131,
   "metadata": {},
   "outputs": [
    {
     "data": {
      "text/plain": [
       "DOMESTIC BATTERY SIMPLE           121901\n",
       "SIMPLE                             80498\n",
       "AGGRAVATED                         23880\n",
       "AGGRAVATED DOMESTIC BATTERY        10495\n",
       "SIMPLE PRO EMP                      3658\n",
       "AGGRAVATED PO                       3585\n",
       "AGG                                 1584\n",
       "AGGRAVATED OF A SENIOR CITIZEN       843\n",
       "AGG PRO.EMP                          352\n",
       "AGGRAVATED OF A CHILD                256\n",
       "AGG PRO EMP HANDS SERIOUS INJ        138\n",
       "AGG PO HANDS ETC SERIOUS INJ         105\n",
       "OF UNBORN CHILD                       29\n",
       "AGGRAVATED OF A UNBORN CHILD          14\n",
       "Name: Description, dtype: int64"
      ]
     },
     "execution_count": 131,
     "metadata": {},
     "output_type": "execute_result"
    }
   ],
   "source": [
    "# check descriptions\n",
    "iucr_df = null_df.loc[null_df['Primary Type'] == 'BATTERY']\n",
    "iucr_df['Description'].value_counts()"
   ]
  },
  {
   "cell_type": "code",
   "execution_count": 132,
   "metadata": {},
   "outputs": [],
   "source": [
    "# combine unborn child\n",
    "null_df.loc[(null_df['Description'] == 'AGGRAVATED OF A UNBORN CHILD'), 'Description'] = 'OF UNBORN CHILD'\n",
    "\n",
    "#set po, pro emp hands to weapon and fix desc\n",
    "null_df.loc[(null_df['Description'] == 'AGG PO HANDS ETC SERIOUS INJ'), 'Weapon'] = 'HANDS/FIST/FEET SERIOUS INJURY'\n",
    "null_df.loc[(null_df['Description'] == 'AGG PRO EMP HANDS SERIOUS INJ'), 'Weapon'] = 'HANDS/FIST/FEET SERIOUS INJURY'"
   ]
  },
  {
   "cell_type": "code",
   "execution_count": 133,
   "metadata": {},
   "outputs": [],
   "source": [
    "null_df.loc[(null_df['Description'] == 'AGG PO HANDS ETC SERIOUS INJ'), 'Description'] = 'AGGRAVATED PO'\n",
    "null_df.loc[(null_df['Description'] == 'AGG PRO EMP HANDS SERIOUS INJ'), 'Description'] = 'AGG PRO.EMP'"
   ]
  },
  {
   "cell_type": "code",
   "execution_count": 134,
   "metadata": {},
   "outputs": [
    {
     "data": {
      "text/plain": [
       "Series([], Name: Weapon, dtype: int64)"
      ]
     },
     "execution_count": 134,
     "metadata": {},
     "output_type": "execute_result"
    }
   ],
   "source": [
    "iucr_df = null_df.loc[null_df['Description'] == 'AGG PRO EMP HANDS SERIOUS INJ']\n",
    "iucr_df['Weapon'].value_counts()"
   ]
  },
  {
   "cell_type": "code",
   "execution_count": 135,
   "metadata": {},
   "outputs": [
    {
     "data": {
      "text/plain": [
       "$500 AND UNDER                             125978\n",
       "OVER $500                                   72578\n",
       "RETAIL THEFT                                46483\n",
       "FROM BUILDING                               45649\n",
       "FINANCIAL IDENTITY THEFT OVER $ 300         17645\n",
       "POCKET-PICKING                               9867\n",
       "FINANCIAL IDENTITY THEFT $300 AND UNDER      6235\n",
       "THEFT OF LABOR/SERVICES                      4688\n",
       "PURSE-SNATCHING                              3233\n",
       "ATTEMPT - FINANCIAL IDENTITY THEFT           2714\n",
       "ATTEMPT THEFT                                1995\n",
       "THEFT OF LOST/MISLAID PROP                   1345\n",
       "AGGRAVATED FINANCIAL IDENTITY THEFT           526\n",
       "FINANCIAL ID THEFT: OVER $300                 412\n",
       "DELIVERY CONTAINER THEFT                      194\n",
       "FINANCIAL ID THEFT:$300 &UNDER                131\n",
       "FROM COIN-OP MACHINE/DEVICE                   109\n",
       "ATTEMPT FINANCIAL IDENTITY THEFT               51\n",
       "THEFT BY LESSEE,NON-VEH                        50\n",
       "AGG: FINANCIAL ID THEFT                        13\n",
       "LIBRARY THEFT                                   8\n",
       "THEFT RETAIL                                    1\n",
       "Name: Description, dtype: int64"
      ]
     },
     "execution_count": 135,
     "metadata": {},
     "output_type": "execute_result"
    }
   ],
   "source": [
    "# Checking IUCR against chicago police to decide where to combine columns\n",
    "    # combine retail\n",
    "    # combine identity theft\n",
    "iucr_df = null_df.loc[null_df['Primary Type'] == 'THEFT']\n",
    "iucr_df['Description'].value_counts()"
   ]
  },
  {
   "cell_type": "code",
   "execution_count": 136,
   "metadata": {},
   "outputs": [],
   "source": [
    "# combine identity theft\n",
    "null_df.loc[(null_df['Description'] == 'FINANCIAL ID THEFT: OVER $300'), 'Description'] = 'FINANCIAL IDENTITY THEFT OVER $ 300'\n",
    "null_df.loc[(null_df['Description'] == 'FINANCIAL ID THEFT:$300 &UNDER'), 'Description'] = 'FINANCIAL IDENTITY THEFT $300 AND UNDER'\n",
    "null_df.loc[(null_df['Description'] == 'ATTEMPT - FINANCIAL IDENTITY THEFT'), 'Description'] = 'ATTEMPT FINANCIAL IDENTITY THEFT'\n",
    "null_df.loc[(null_df['Description'] == 'AGG: FINANCIAL ID THEFT'), 'Description'] = 'AGGRAVATED FINANCIAL IDENTITY THEFT'\n",
    "null_df.loc[(null_df['Description'] == 'THEFT RETAIL'), 'Description'] = 'RETAIL THEFT'\n"
   ]
  },
  {
   "cell_type": "markdown",
   "metadata": {},
   "source": [
    "## Go through columns one at a time to clean/combine/remove small values"
   ]
  },
  {
   "cell_type": "code",
   "execution_count": 183,
   "metadata": {},
   "outputs": [
    {
     "data": {
      "text/plain": [
       "Index(['ID', 'Case Number', 'Date', 'Block', 'IUCR', 'Primary Type',\n",
       "       'Description', 'Location Description', 'Arrest', 'Domestic', 'Beat',\n",
       "       'District', 'Ward', 'Community Area', 'FBI Code', 'X Coordinate',\n",
       "       'Y Coordinate', 'Year', 'Updated On', 'Latitude', 'Longitude',\n",
       "       'Location', 'Month', 'Day', 'Weekday', 'HourOfDay', 'Weapon'],\n",
       "      dtype='object')"
      ]
     },
     "execution_count": 183,
     "metadata": {},
     "output_type": "execute_result"
    }
   ],
   "source": [
    "null_df.keys()"
   ]
  },
  {
   "cell_type": "code",
   "execution_count": 273,
   "metadata": {},
   "outputs": [
    {
     "data": {
      "text/plain": [
       "STREET                                 302862\n",
       "RESIDENCE                              216637\n",
       "APARTMENT                              170095\n",
       "SIDEWALK                               123573\n",
       "OTHER                                   53674\n",
       "PARKING LOT/GARAGE(NON.RESID.)          38726\n",
       "SMALL RETAIL STORE                      30791\n",
       "RESTAURANT                              29570\n",
       "ALLEY                                   27067\n",
       "RESIDENTIAL YARD (FRONT/BACK)           26923\n",
       "VEHICLE NON-COMMERCIAL                  23438\n",
       "RESIDENCE PORCH/HALLWAY                 23278\n",
       "RESIDENCE-GARAGE                        22456\n",
       "DEPARTMENT STORE                        21457\n",
       "SCHOOL, PUBLIC, BUILDING                19871\n",
       "GAS STATION                             16448\n",
       "GROCERY FOOD STORE                      16015\n",
       "PARK PROPERTY                           10403\n",
       "BAR OR TAVERN                            9419\n",
       "CONVENIENCE STORE                        8128\n",
       "CTA TRAIN                                7437\n",
       "COMMERCIAL / BUSINESS OFFICE             7341\n",
       "HOTEL/MOTEL                              6665\n",
       "HOSPITAL BUILDING/GROUNDS                5515\n",
       "DRUG STORE                               5478\n",
       "SCHOOL, PUBLIC, GROUNDS                  5469\n",
       "BANK/CREDIT UNION                        4981\n",
       "CTA BUS                                  4853\n",
       "VACANT LOT/LAND                          4802\n",
       "CTA PLATFORM                             4193\n",
       "                                        ...  \n",
       "COIN OPERATED MACHINE                     147\n",
       "BOWLING ALLEY                             145\n",
       "VEHICLE - DELIVERY TRUCK                  124\n",
       "CTA TRACKS - RIGHT OF WAY                 114\n",
       "BRIDGE                                    113\n",
       "PORCH                                      96\n",
       "CEMETARY                                   79\n",
       "AIRPORT TRANSPORTATION SYSTEM (ATS)        45\n",
       "PARKING LOT                                43\n",
       "FOREST PRESERVE                            42\n",
       "NEWSSTAND                                  29\n",
       "HALLWAY                                    16\n",
       "GARAGE                                     14\n",
       "RETAIL STORE                               13\n",
       "GANGWAY                                    11\n",
       "DRIVEWAY                                    9\n",
       "STAIRWELL                                   6\n",
       "CHA GROUNDS                                 3\n",
       "VESTIBULE                                   3\n",
       "FARM                                        2\n",
       "LIQUOR STORE                                2\n",
       "RIVER BANK                                  2\n",
       "GARAGE/AUTO REPAIR                          2\n",
       "CTA PROPERTY                                2\n",
       "WOODED AREA                                 2\n",
       "YMCA                                        1\n",
       "LAGOON                                      1\n",
       "CHA HALLWAY                                 1\n",
       "CLEANERS/LAUNDROMAT                         1\n",
       "ROOMING HOUSE                               1\n",
       "Name: Location Description, Length: 115, dtype: int64"
      ]
     },
     "execution_count": 273,
     "metadata": {},
     "output_type": "execute_result"
    }
   ],
   "source": [
    "null_df['Location Description'].value_counts()"
   ]
  },
  {
   "cell_type": "code",
   "execution_count": 272,
   "metadata": {},
   "outputs": [],
   "source": [
    "# Combine similar locations\n",
    "null_df.loc[(null_df['Location Description'] == 'CTA \"L\" TRAIN'), 'Location Description'] = 'CTA TRAIN'\n",
    "null_df.loc[(null_df['Location Description'] == 'CTA \"L\" PLATFORM'), 'Location Description'] = 'CTA PLATFORM'\n",
    "null_df.loc[(null_df['Location Description'] == 'CHURCH'), 'Location Description'] = 'CHURCH/SYNAGOGUE/PLACE OF WORSHIP'\n",
    "null_df.loc[(null_df['Location Description'] == 'SCHOOL YARD'), 'Location Description'] = 'SCHOOL, PUBLIC, GROUNDS'\n",
    "null_df.loc[(null_df['Location Description'] == 'VEHICLE - OTHER RIDE SHARE SERVICE (E.G., UBER, LYFT)'), 'Location Description'] = 'VEHICLE - OTHER RIDE SERVICE'\n",
    "null_df.loc[(null_df['Location Description'] == 'HOSPITAL'), 'Location Description'] = 'HOSPITAL BUILDING/GROUNDS'\n",
    "null_df.loc[(null_df['Location Description'] == 'CLUB'), 'Location Description'] = 'BAR OR TAVERN'\n",
    "null_df.loc[(null_df['Location Description'] == 'TAVERN'), 'Location Description'] = 'BAR OR TAVERN'\n",
    "null_df.loc[(null_df['Location Description'] == 'HOUSE'), 'Location Description'] = 'RESIDENCE'\n",
    "null_df.loc[(null_df['Location Description'] == 'RAILROAD PROPERTY'), 'Location Description'] = 'OTHER RAILROAD PROP / TRAIN DEPOT'\n",
    "null_df.loc[(null_df['Location Description'] == 'DELIVERY TRUCK'), 'Location Description'] = 'VEHICLE - DELIVERY TRUCK'\n",
    "null_df.loc[(null_df['Location Description'] == 'VEHICLE-COMMERCIAL - ENTERTAINMENT/PARTY BUS'), 'Location Description'] = 'VEHICLE-COMMERCIAL'\n",
    "null_df.loc[(null_df['Location Description'] == 'VEHICLE-COMMERCIAL - TROLLEY BUS'), 'Location Description'] = 'VEHICLE-COMMERCIAL'\n",
    "null_df.loc[(null_df['Location Description'] == 'HOTEL'), 'Location Description'] = 'HOTEL/MOTEL'\n",
    "null_df.loc[(null_df['Location Description'] == 'GAS STATION DRIVE/PROP.'), 'Location Description'] = 'GAS STATION'\n",
    "null_df.loc[(null_df['Location Description'] == 'CHA PARKING LOT'), 'Location Description'] = 'CHA PARKING LOT/GROUNDS'\n",
    "null_df.loc[(null_df['Location Description'] == 'NURSING HOME'), 'Location Description'] = 'NURSING HOME/RETIREMENT HOME'\n",
    "null_df.loc[(null_df['Location Description'] == 'GOVERNMENT BUILDING'), 'Location Description'] = 'GOVERNMENT BUILDING/PROPERTY'\n",
    "null_df.loc[(null_df['Location Description'] == 'OFFICE'), 'Location Description'] = 'COMMERCIAL / BUSINESS OFFICE'\n",
    "null_df.loc[(null_df['Location Description'] == 'VACANT LOT'), 'Location Description'] = 'VACANT LOT/LAND'\n",
    "null_df.loc[(null_df['Location Description'] == 'POOLROOM'), 'Location Description'] = 'POOL ROOM'\n",
    "null_df.loc[(null_df['Location Description'] == 'BANK'), 'Location Description'] = 'BANK/CREDIT UNION'\n",
    "null_df.loc[(null_df['Location Description'] == 'CREDIT UNION'), 'Location Description'] = 'BANK/CREDIT UNION'\n",
    "null_df.loc[(null_df['Location Description'] == 'SAVINGS AND LOAN'), 'Location Description'] = 'BANK/CREDIT UNION'\n",
    "null_df.loc[(null_df['Location Description'] == 'BARBER SHOP/BEAUTY SALON'), 'Location Description'] = 'BARBERSHOP'\n",
    "null_df.loc[(null_df['Location Description'] == 'HIGHWAY/EXPRESSWAY'), 'Location Description'] = 'EXPRESSWAY EMBANKMENT'\n",
    "\n",
    "\n"
   ]
  },
  {
   "cell_type": "code",
   "execution_count": 216,
   "metadata": {},
   "outputs": [],
   "source": [
    "# Combine airport areas\n",
    "null_df.loc[(null_df['Location Description'] == 'AIRPORT TERMINAL UPPER LEVEL - SECURE AREA'), 'Location Description'] = 'AIRPORT: SECURE AREA'\n",
    "null_df.loc[(null_df['Location Description'] == 'AIRPORT TERMINAL LOWER LEVEL - SECURE AREA'), 'Location Description'] = 'AIRPORT: SECURE AREA'\n",
    "null_df.loc[(null_df['Location Description'] == 'AIRPORT BUILDING NON-TERMINAL - SECURE AREA'), 'Location Description'] = 'AIRPORT: SECURE AREA'\n",
    "null_df.loc[(null_df['Location Description'] == 'AIRPORT EXTERIOR - SECURE AREA'), 'Location Description'] = 'AIRPORT: SECURE AREA'\n",
    "\n",
    "null_df.loc[(null_df['Location Description'] == 'AIRPORT TERMINAL LOWER LEVEL - NON-SECURE AREA'), 'Location Description'] = 'AIRPORT: NON-SECURE AREA'\n",
    "null_df.loc[(null_df['Location Description'] == 'AIRPORT BUILDING NON-TERMINAL - NON-SECURE AREA'), 'Location Description'] = 'AIRPORT: NON-SECURE AREA'\n",
    "null_df.loc[(null_df['Location Description'] == 'AIRPORT TERMINAL MEZZANINE - NON-SECURE AREA'), 'Location Description'] = 'AIRPORT: NON-SECURE AREA'\n",
    "null_df.loc[(null_df['Location Description'] == 'AIRPORT TERMINAL UPPER LEVEL - NON-SECURE AREA'), 'Location Description'] = 'AIRPORT: NON-SECURE AREA'"
   ]
  },
  {
   "cell_type": "code",
   "execution_count": 277,
   "metadata": {},
   "outputs": [],
   "source": [
    "# drop locations lower than 20 frequencies\n",
    "test = null_df\n",
    "\n",
    "locations = test['Location Description'].value_counts()\n",
    "\n",
    "loc_df = test[test.isin(locations.index[locations >= 20]).values]\n",
    "# s = df['a'].value_counts()\n",
    "# df[df.isin(s.index[s >= 2]).values]\n"
   ]
  },
  {
   "cell_type": "code",
   "execution_count": 282,
   "metadata": {},
   "outputs": [
    {
     "data": {
      "text/plain": [
       "STREET                                 302908\n",
       "RESIDENCE                              216977\n",
       "APARTMENT                              170390\n",
       "SIDEWALK                               123652\n",
       "OTHER                                   53743\n",
       "PARKING LOT/GARAGE(NON.RESID.)          38736\n",
       "SMALL RETAIL STORE                      30795\n",
       "RESTAURANT                              29577\n",
       "ALLEY                                   27146\n",
       "RESIDENTIAL YARD (FRONT/BACK)           26940\n",
       "VEHICLE NON-COMMERCIAL                  23472\n",
       "RESIDENCE PORCH/HALLWAY                 23297\n",
       "RESIDENCE-GARAGE                        22466\n",
       "DEPARTMENT STORE                        21459\n",
       "SCHOOL, PUBLIC, BUILDING                19907\n",
       "GAS STATION                             16450\n",
       "GROCERY FOOD STORE                      16017\n",
       "PARK PROPERTY                           10424\n",
       "BAR OR TAVERN                            9429\n",
       "CONVENIENCE STORE                        8128\n",
       "CTA TRAIN                                7447\n",
       "COMMERCIAL / BUSINESS OFFICE             7345\n",
       "HOTEL/MOTEL                              6692\n",
       "HOSPITAL BUILDING/GROUNDS                5539\n",
       "SCHOOL, PUBLIC, GROUNDS                  5480\n",
       "DRUG STORE                               5478\n",
       "BANK/CREDIT UNION                        4981\n",
       "CTA BUS                                  4855\n",
       "VACANT LOT/LAND                          4808\n",
       "CTA PLATFORM                             4196\n",
       "                                        ...  \n",
       "MOVIE HOUSE/THEATER                       523\n",
       "CLEANING STORE                            460\n",
       "AIRPORT PARKING LOT                       413\n",
       "JAIL / LOCK-UP FACILITY                   400\n",
       "AIRCRAFT                                  398\n",
       "AIRPORT EXTERIOR - NON-SECURE AREA        398\n",
       "APPLIANCE STORE                           381\n",
       "LAKEFRONT/WATERFRONT/RIVERBANK            335\n",
       "AIRPORT/AIRCRAFT                          303\n",
       "AUTO                                      296\n",
       "POOL ROOM                                 277\n",
       "ANIMAL HOSPITAL                           267\n",
       "PAWN SHOP                                 249\n",
       "AUTO / BOAT / RV DEALERSHIP               236\n",
       "COLLEGE/UNIVERSITY RESIDENCE HALL         227\n",
       "EXPRESSWAY EMBANKMENT                     209\n",
       "FIRE STATION                              195\n",
       "FEDERAL BUILDING                          191\n",
       "BOAT/WATERCRAFT                           165\n",
       "COIN OPERATED MACHINE                     147\n",
       "BOWLING ALLEY                             145\n",
       "VEHICLE - DELIVERY TRUCK                  124\n",
       "BRIDGE                                    114\n",
       "CTA TRACKS - RIGHT OF WAY                 114\n",
       "PORCH                                      96\n",
       "CEMETARY                                   79\n",
       "AIRPORT TRANSPORTATION SYSTEM (ATS)        45\n",
       "PARKING LOT                                43\n",
       "FOREST PRESERVE                            42\n",
       "NEWSSTAND                                  29\n",
       "Name: Location Description, Length: 96, dtype: int64"
      ]
     },
     "execution_count": 282,
     "metadata": {},
     "output_type": "execute_result"
    }
   ],
   "source": [
    "loc_df['Location Description'].value_counts()"
   ]
  },
  {
   "cell_type": "code",
   "execution_count": 284,
   "metadata": {},
   "outputs": [
    {
     "data": {
      "text/plain": [
       "Index(['ID', 'Case Number', 'Date', 'Block', 'IUCR', 'Primary Type',\n",
       "       'Description', 'Location Description', 'Arrest', 'Domestic', 'Beat',\n",
       "       'District', 'Ward', 'Community Area', 'FBI Code', 'X Coordinate',\n",
       "       'Y Coordinate', 'Year', 'Updated On', 'Latitude', 'Longitude',\n",
       "       'Location', 'Month', 'Day', 'Weekday', 'HourOfDay', 'Weapon'],\n",
       "      dtype='object')"
      ]
     },
     "execution_count": 284,
     "metadata": {},
     "output_type": "execute_result"
    }
   ],
   "source": [
    "# Moved this column to keep track of what Description to cover next\n",
    "loc_df.keys()"
   ]
  },
  {
   "cell_type": "code",
   "execution_count": 288,
   "metadata": {},
   "outputs": [
    {
     "data": {
      "text/plain": [
       "NONE                                1214865\n",
       "HANDGUN                               36440\n",
       " HANDGUN                              22995\n",
       " OTHER DANG WEAPON                    20384\n",
       "KNIFE/CUTTING INSTR                   11286\n",
       " KNIFE/CUTTING INST                    3571\n",
       "KNIFE/CUTTING INSTRUMENT               2700\n",
       "OTHER DANGEROUS WEAPON                 2619\n",
       " HANDS/FIST/FEET SERIOUS INJURY        2374\n",
       "OTHER                                  1998\n",
       "FIREARM                                1498\n",
       "OTHER FIREARM                          1074\n",
       "OTHER DANG WEAPON                      1004\n",
       " HANDS/FIST/FEET NO/MINOR INJURY        796\n",
       " OTHER DANG WEAP                        584\n",
       " OTHER FIREARM                          559\n",
       "KNIFE/CUT INSTR                         353\n",
       "HANDS/FIST/FEET SERIOUS INJURY          243\n",
       "KNIFE/CUTTING INST                      213\n",
       "AIR RIFLE                               208\n",
       " KNIFE/CUT INSTR                         39\n",
       "Name: Weapon, dtype: int64"
      ]
     },
     "execution_count": 288,
     "metadata": {},
     "output_type": "execute_result"
    }
   ],
   "source": [
    "loc_df['Weapon'].value_counts()"
   ]
  },
  {
   "cell_type": "code",
   "execution_count": 289,
   "metadata": {},
   "outputs": [
    {
     "name": "stderr",
     "output_type": "stream",
     "text": [
      "/anaconda3/envs/bigdata/lib/python3.6/site-packages/ipykernel_launcher.py:1: SettingWithCopyWarning: \n",
      "A value is trying to be set on a copy of a slice from a DataFrame.\n",
      "Try using .loc[row_indexer,col_indexer] = value instead\n",
      "\n",
      "See the caveats in the documentation: http://pandas.pydata.org/pandas-docs/stable/indexing.html#indexing-view-versus-copy\n",
      "  \"\"\"Entry point for launching an IPython kernel.\n"
     ]
    }
   ],
   "source": [
    "loc_df['Weapon'] = loc_df['Weapon'].map(lambda x: x.strip())"
   ]
  },
  {
   "cell_type": "code",
   "execution_count": 290,
   "metadata": {},
   "outputs": [
    {
     "data": {
      "text/plain": [
       "NONE                               1214865\n",
       "HANDGUN                              59435\n",
       "OTHER DANG WEAPON                    21388\n",
       "KNIFE/CUTTING INSTR                  11286\n",
       "KNIFE/CUTTING INST                    3784\n",
       "KNIFE/CUTTING INSTRUMENT              2700\n",
       "OTHER DANGEROUS WEAPON                2619\n",
       "HANDS/FIST/FEET SERIOUS INJURY        2617\n",
       "OTHER                                 1998\n",
       "OTHER FIREARM                         1633\n",
       "FIREARM                               1498\n",
       "HANDS/FIST/FEET NO/MINOR INJURY        796\n",
       "OTHER DANG WEAP                        584\n",
       "KNIFE/CUT INSTR                        392\n",
       "AIR RIFLE                              208\n",
       "Name: Weapon, dtype: int64"
      ]
     },
     "execution_count": 290,
     "metadata": {},
     "output_type": "execute_result"
    }
   ],
   "source": [
    "loc_df['Weapon'].value_counts()"
   ]
  },
  {
   "cell_type": "code",
   "execution_count": 293,
   "metadata": {},
   "outputs": [],
   "source": [
    "# combine similar weapons\n",
    "loc_df.loc[(loc_df['Weapon'] == 'KNIFE/CUTTING INSTR'), 'Weapon'] = 'KNIFE/CUTTING INSTRUMENT'\n",
    "loc_df.loc[(loc_df['Weapon'] == 'KNIFE/CUTTING INST'), 'Weapon'] = 'KNIFE/CUTTING INSTRUMENT'\n",
    "loc_df.loc[(loc_df['Weapon'] == 'KNIFE/CUT INSTR'), 'Weapon'] = 'KNIFE/CUTTING INSTRUMENT'\n",
    "loc_df.loc[(loc_df['Weapon'] == 'OTHER DANG WEAPON'), 'Weapon'] = 'OTHER DANGEROUS WEAPON'\n",
    "loc_df.loc[(loc_df['Weapon'] == 'OTHER DANG WEAP'), 'Weapon'] = 'OTHER DANGEROUS WEAPON'"
   ]
  },
  {
   "cell_type": "code",
   "execution_count": 294,
   "metadata": {},
   "outputs": [
    {
     "data": {
      "text/plain": [
       "NONE                               1214865\n",
       "HANDGUN                              59435\n",
       "OTHER DANGEROUS WEAPON               24591\n",
       "KNIFE/CUTTING INSTRUMENT             18162\n",
       "HANDS/FIST/FEET SERIOUS INJURY        2617\n",
       "OTHER                                 1998\n",
       "OTHER FIREARM                         1633\n",
       "FIREARM                               1498\n",
       "HANDS/FIST/FEET NO/MINOR INJURY        796\n",
       "AIR RIFLE                              208\n",
       "Name: Weapon, dtype: int64"
      ]
     },
     "execution_count": 294,
     "metadata": {},
     "output_type": "execute_result"
    }
   ],
   "source": [
    "loc_df['Weapon'].value_counts()"
   ]
  },
  {
   "cell_type": "code",
   "execution_count": null,
   "metadata": {},
   "outputs": [],
   "source": []
  },
  {
   "cell_type": "markdown",
   "metadata": {},
   "source": [
    "# Pull Out Features to Test\n",
    "* Pull in as many features as possible - up to 1 billion per tree\n",
    "* Use only lat,lon for KNN clustering\n",
    "* Test clusters with RandomForestClassifier to describe neighborhoods"
   ]
  },
  {
   "cell_type": "code",
   "execution_count": 301,
   "metadata": {},
   "outputs": [
    {
     "data": {
      "text/plain": [
       "Index(['ID', 'Case Number', 'Date', 'Block', 'IUCR', 'Primary Type',\n",
       "       'Description', 'Location Description', 'Arrest', 'Domestic', 'Beat',\n",
       "       'District', 'Ward', 'Community Area', 'FBI Code', 'X Coordinate',\n",
       "       'Y Coordinate', 'Year', 'Updated On', 'Latitude', 'Longitude',\n",
       "       'Location', 'Month', 'Day', 'Weekday', 'HourOfDay', 'Weapon'],\n",
       "      dtype='object')"
      ]
     },
     "execution_count": 301,
     "metadata": {},
     "output_type": "execute_result"
    }
   ],
   "source": [
    "loc_df.keys()"
   ]
  },
  {
   "cell_type": "code",
   "execution_count": 303,
   "metadata": {},
   "outputs": [
    {
     "data": {
      "text/plain": [
       "ID                      1325803\n",
       "Case Number             1325803\n",
       "Date                    1325803\n",
       "Block                   1325803\n",
       "IUCR                    1325803\n",
       "Primary Type            1325803\n",
       "Description             1325803\n",
       "Location Description    1325803\n",
       "Arrest                  1325803\n",
       "Domestic                1325803\n",
       "Beat                    1325803\n",
       "District                1325803\n",
       "Ward                    1325803\n",
       "Community Area          1325803\n",
       "FBI Code                1325803\n",
       "X Coordinate            1325803\n",
       "Y Coordinate            1325803\n",
       "Year                    1325803\n",
       "Updated On              1325803\n",
       "Latitude                1325803\n",
       "Longitude               1325803\n",
       "Location                1325803\n",
       "Month                   1325803\n",
       "Day                     1325803\n",
       "Weekday                 1325803\n",
       "HourOfDay               1325803\n",
       "Weapon                  1325803\n",
       "dtype: int64"
      ]
     },
     "execution_count": 303,
     "metadata": {},
     "output_type": "execute_result"
    }
   ],
   "source": [
    "loc_df.count()"
   ]
  },
  {
   "cell_type": "code",
   "execution_count": 304,
   "metadata": {},
   "outputs": [],
   "source": [
    "# Pulling in just the columns we want to test - ward\n",
    "mydf=loc_df[['Primary Type','Description', 'Location Description', 'Arrest', 'Domestic',\\\n",
    "              'Ward', 'X Coordinate','Y Coordinate', 'Year', 'Latitude', 'Longitude',\\\n",
    "              'Month', 'Day', 'Weekday', 'HourOfDay', 'Weapon']]"
   ]
  },
  {
   "cell_type": "code",
   "execution_count": 305,
   "metadata": {},
   "outputs": [
    {
     "data": {
      "text/plain": [
       "THEFT                               339903\n",
       "BATTERY                             247338\n",
       "CRIMINAL DAMAGE                     143951\n",
       "ASSAULT                              92192\n",
       "OTHER OFFENSE                        83566\n",
       "BURGLARY                             66648\n",
       "NARCOTICS POSSESION                  63965\n",
       "MOTOR VEHICLE THEFT                  53875\n",
       "ROBBERY                              52929\n",
       "DECEPTIVE PRACTICE                   45781\n",
       "CRIMINAL TRESPASS                    33901\n",
       "WEAPONS VIOLATION                    21818\n",
       "NARCOTICS MANU/DEL                   15314\n",
       "PUBLIC PEACE VIOLATION                9798\n",
       "OFFENSE INVOLVING CHILDREN            9292\n",
       "CRIM SEXUAL ASSAULT                   8817\n",
       "NARCOTICS                             8793\n",
       "INTERFERENCE WITH PUBLIC OFFICER      6025\n",
       "PROSTITUTION                          5393\n",
       "CRIM SEXUAL ABUSE                     4517\n",
       "HOMICIDE                              2886\n",
       "ARSON                                 2215\n",
       "SEX OFFENSE                           2083\n",
       "LIQUOR LAW VIOLATION                  1369\n",
       "GAMBLING                              1317\n",
       "STALKING                               845\n",
       "INTIMIDATION                           683\n",
       "KIDNAPPING                             589\n",
       "Name: Primary Type, dtype: int64"
      ]
     },
     "execution_count": 305,
     "metadata": {},
     "output_type": "execute_result"
    }
   ],
   "source": [
    "mydf['Primary Type'].value_counts()"
   ]
  },
  {
   "cell_type": "code",
   "execution_count": 306,
   "metadata": {},
   "outputs": [
    {
     "data": {
      "text/plain": [
       "Primary Type            1325803\n",
       "Description             1325803\n",
       "Location Description    1325803\n",
       "Arrest                  1325803\n",
       "Domestic                1325803\n",
       "Ward                    1325803\n",
       "X Coordinate            1325803\n",
       "Y Coordinate            1325803\n",
       "Year                    1325803\n",
       "Latitude                1325803\n",
       "Longitude               1325803\n",
       "Month                   1325803\n",
       "Day                     1325803\n",
       "Weekday                 1325803\n",
       "HourOfDay               1325803\n",
       "Weapon                  1325803\n",
       "dtype: int64"
      ]
     },
     "execution_count": 306,
     "metadata": {},
     "output_type": "execute_result"
    }
   ],
   "source": [
    "# Double check for null values\n",
    "mydf.count()"
   ]
  },
  {
   "cell_type": "code",
   "execution_count": 312,
   "metadata": {},
   "outputs": [],
   "source": [
    "# Export as csv\n",
    "mydf.to_csv('cleaned_crimes.csv')\n",
    "\n",
    "# File to large to export to github, but wanted to test anyway"
   ]
  },
  {
   "cell_type": "code",
   "execution_count": 307,
   "metadata": {
    "scrolled": true
   },
   "outputs": [
    {
     "data": {
      "text/html": [
       "<div>\n",
       "<style scoped>\n",
       "    .dataframe tbody tr th:only-of-type {\n",
       "        vertical-align: middle;\n",
       "    }\n",
       "\n",
       "    .dataframe tbody tr th {\n",
       "        vertical-align: top;\n",
       "    }\n",
       "\n",
       "    .dataframe thead th {\n",
       "        text-align: right;\n",
       "    }\n",
       "</style>\n",
       "<table border=\"1\" class=\"dataframe\">\n",
       "  <thead>\n",
       "    <tr style=\"text-align: right;\">\n",
       "      <th></th>\n",
       "      <th>Arrest</th>\n",
       "      <th>Domestic</th>\n",
       "      <th>Ward</th>\n",
       "      <th>X Coordinate</th>\n",
       "      <th>Y Coordinate</th>\n",
       "      <th>Year</th>\n",
       "      <th>Latitude</th>\n",
       "      <th>Longitude</th>\n",
       "      <th>Month</th>\n",
       "      <th>Day</th>\n",
       "      <th>Weekday</th>\n",
       "      <th>HourOfDay</th>\n",
       "    </tr>\n",
       "  </thead>\n",
       "  <tbody>\n",
       "    <tr>\n",
       "      <th>Arrest</th>\n",
       "      <td>1.000000</td>\n",
       "      <td>-0.042038</td>\n",
       "      <td>-0.018806</td>\n",
       "      <td>-0.032251</td>\n",
       "      <td>-0.034502</td>\n",
       "      <td>-0.082909</td>\n",
       "      <td>-0.034296</td>\n",
       "      <td>-0.033065</td>\n",
       "      <td>-0.033303</td>\n",
       "      <td>-0.001198</td>\n",
       "      <td>0.002881</td>\n",
       "      <td>0.069760</td>\n",
       "    </tr>\n",
       "    <tr>\n",
       "      <th>Domestic</th>\n",
       "      <td>-0.042038</td>\n",
       "      <td>1.000000</td>\n",
       "      <td>-0.076961</td>\n",
       "      <td>0.017535</td>\n",
       "      <td>-0.104110</td>\n",
       "      <td>0.014125</td>\n",
       "      <td>-0.103944</td>\n",
       "      <td>0.016062</td>\n",
       "      <td>-0.006167</td>\n",
       "      <td>-0.001635</td>\n",
       "      <td>0.029653</td>\n",
       "      <td>-0.041736</td>\n",
       "    </tr>\n",
       "    <tr>\n",
       "      <th>Ward</th>\n",
       "      <td>-0.018806</td>\n",
       "      <td>-0.076961</td>\n",
       "      <td>1.000000</td>\n",
       "      <td>-0.440303</td>\n",
       "      <td>0.653341</td>\n",
       "      <td>0.017501</td>\n",
       "      <td>0.653601</td>\n",
       "      <td>-0.434491</td>\n",
       "      <td>0.004603</td>\n",
       "      <td>-0.001317</td>\n",
       "      <td>0.012944</td>\n",
       "      <td>-0.001109</td>\n",
       "    </tr>\n",
       "    <tr>\n",
       "      <th>X Coordinate</th>\n",
       "      <td>-0.032251</td>\n",
       "      <td>0.017535</td>\n",
       "      <td>-0.440303</td>\n",
       "      <td>1.000000</td>\n",
       "      <td>-0.526403</td>\n",
       "      <td>0.015353</td>\n",
       "      <td>-0.528932</td>\n",
       "      <td>0.999895</td>\n",
       "      <td>0.006909</td>\n",
       "      <td>0.003470</td>\n",
       "      <td>-0.002883</td>\n",
       "      <td>-0.005368</td>\n",
       "    </tr>\n",
       "    <tr>\n",
       "      <th>Y Coordinate</th>\n",
       "      <td>-0.034502</td>\n",
       "      <td>-0.104110</td>\n",
       "      <td>0.653341</td>\n",
       "      <td>-0.526403</td>\n",
       "      <td>1.000000</td>\n",
       "      <td>0.015782</td>\n",
       "      <td>0.999994</td>\n",
       "      <td>-0.517357</td>\n",
       "      <td>0.005632</td>\n",
       "      <td>-0.000086</td>\n",
       "      <td>0.009871</td>\n",
       "      <td>-0.001347</td>\n",
       "    </tr>\n",
       "    <tr>\n",
       "      <th>Year</th>\n",
       "      <td>-0.082909</td>\n",
       "      <td>0.014125</td>\n",
       "      <td>0.017501</td>\n",
       "      <td>0.015353</td>\n",
       "      <td>0.015782</td>\n",
       "      <td>1.000000</td>\n",
       "      <td>0.015692</td>\n",
       "      <td>0.015726</td>\n",
       "      <td>-0.001783</td>\n",
       "      <td>0.001121</td>\n",
       "      <td>-0.002360</td>\n",
       "      <td>-0.010516</td>\n",
       "    </tr>\n",
       "    <tr>\n",
       "      <th>Latitude</th>\n",
       "      <td>-0.034296</td>\n",
       "      <td>-0.103944</td>\n",
       "      <td>0.653601</td>\n",
       "      <td>-0.528932</td>\n",
       "      <td>0.999994</td>\n",
       "      <td>0.015692</td>\n",
       "      <td>1.000000</td>\n",
       "      <td>-0.519917</td>\n",
       "      <td>0.005595</td>\n",
       "      <td>-0.000098</td>\n",
       "      <td>0.009861</td>\n",
       "      <td>-0.001322</td>\n",
       "    </tr>\n",
       "    <tr>\n",
       "      <th>Longitude</th>\n",
       "      <td>-0.033065</td>\n",
       "      <td>0.016062</td>\n",
       "      <td>-0.434491</td>\n",
       "      <td>0.999895</td>\n",
       "      <td>-0.517357</td>\n",
       "      <td>0.015726</td>\n",
       "      <td>-0.519917</td>\n",
       "      <td>1.000000</td>\n",
       "      <td>0.007054</td>\n",
       "      <td>0.003494</td>\n",
       "      <td>-0.002742</td>\n",
       "      <td>-0.005422</td>\n",
       "    </tr>\n",
       "    <tr>\n",
       "      <th>Month</th>\n",
       "      <td>-0.033303</td>\n",
       "      <td>-0.006167</td>\n",
       "      <td>0.004603</td>\n",
       "      <td>0.006909</td>\n",
       "      <td>0.005632</td>\n",
       "      <td>-0.001783</td>\n",
       "      <td>0.005595</td>\n",
       "      <td>0.007054</td>\n",
       "      <td>1.000000</td>\n",
       "      <td>-0.009696</td>\n",
       "      <td>0.001839</td>\n",
       "      <td>0.001724</td>\n",
       "    </tr>\n",
       "    <tr>\n",
       "      <th>Day</th>\n",
       "      <td>-0.001198</td>\n",
       "      <td>-0.001635</td>\n",
       "      <td>-0.001317</td>\n",
       "      <td>0.003470</td>\n",
       "      <td>-0.000086</td>\n",
       "      <td>0.001121</td>\n",
       "      <td>-0.000098</td>\n",
       "      <td>0.003494</td>\n",
       "      <td>-0.009696</td>\n",
       "      <td>1.000000</td>\n",
       "      <td>-0.001012</td>\n",
       "      <td>0.013508</td>\n",
       "    </tr>\n",
       "    <tr>\n",
       "      <th>Weekday</th>\n",
       "      <td>0.002881</td>\n",
       "      <td>0.029653</td>\n",
       "      <td>0.012944</td>\n",
       "      <td>-0.002883</td>\n",
       "      <td>0.009871</td>\n",
       "      <td>-0.002360</td>\n",
       "      <td>0.009861</td>\n",
       "      <td>-0.002742</td>\n",
       "      <td>0.001839</td>\n",
       "      <td>-0.001012</td>\n",
       "      <td>1.000000</td>\n",
       "      <td>-0.037863</td>\n",
       "    </tr>\n",
       "    <tr>\n",
       "      <th>HourOfDay</th>\n",
       "      <td>0.069760</td>\n",
       "      <td>-0.041736</td>\n",
       "      <td>-0.001109</td>\n",
       "      <td>-0.005368</td>\n",
       "      <td>-0.001347</td>\n",
       "      <td>-0.010516</td>\n",
       "      <td>-0.001322</td>\n",
       "      <td>-0.005422</td>\n",
       "      <td>0.001724</td>\n",
       "      <td>0.013508</td>\n",
       "      <td>-0.037863</td>\n",
       "      <td>1.000000</td>\n",
       "    </tr>\n",
       "  </tbody>\n",
       "</table>\n",
       "</div>"
      ],
      "text/plain": [
       "                Arrest  Domestic      Ward  X Coordinate  Y Coordinate  \\\n",
       "Arrest        1.000000 -0.042038 -0.018806     -0.032251     -0.034502   \n",
       "Domestic     -0.042038  1.000000 -0.076961      0.017535     -0.104110   \n",
       "Ward         -0.018806 -0.076961  1.000000     -0.440303      0.653341   \n",
       "X Coordinate -0.032251  0.017535 -0.440303      1.000000     -0.526403   \n",
       "Y Coordinate -0.034502 -0.104110  0.653341     -0.526403      1.000000   \n",
       "Year         -0.082909  0.014125  0.017501      0.015353      0.015782   \n",
       "Latitude     -0.034296 -0.103944  0.653601     -0.528932      0.999994   \n",
       "Longitude    -0.033065  0.016062 -0.434491      0.999895     -0.517357   \n",
       "Month        -0.033303 -0.006167  0.004603      0.006909      0.005632   \n",
       "Day          -0.001198 -0.001635 -0.001317      0.003470     -0.000086   \n",
       "Weekday       0.002881  0.029653  0.012944     -0.002883      0.009871   \n",
       "HourOfDay     0.069760 -0.041736 -0.001109     -0.005368     -0.001347   \n",
       "\n",
       "                  Year  Latitude  Longitude     Month       Day   Weekday  \\\n",
       "Arrest       -0.082909 -0.034296  -0.033065 -0.033303 -0.001198  0.002881   \n",
       "Domestic      0.014125 -0.103944   0.016062 -0.006167 -0.001635  0.029653   \n",
       "Ward          0.017501  0.653601  -0.434491  0.004603 -0.001317  0.012944   \n",
       "X Coordinate  0.015353 -0.528932   0.999895  0.006909  0.003470 -0.002883   \n",
       "Y Coordinate  0.015782  0.999994  -0.517357  0.005632 -0.000086  0.009871   \n",
       "Year          1.000000  0.015692   0.015726 -0.001783  0.001121 -0.002360   \n",
       "Latitude      0.015692  1.000000  -0.519917  0.005595 -0.000098  0.009861   \n",
       "Longitude     0.015726 -0.519917   1.000000  0.007054  0.003494 -0.002742   \n",
       "Month        -0.001783  0.005595   0.007054  1.000000 -0.009696  0.001839   \n",
       "Day           0.001121 -0.000098   0.003494 -0.009696  1.000000 -0.001012   \n",
       "Weekday      -0.002360  0.009861  -0.002742  0.001839 -0.001012  1.000000   \n",
       "HourOfDay    -0.010516 -0.001322  -0.005422  0.001724  0.013508 -0.037863   \n",
       "\n",
       "              HourOfDay  \n",
       "Arrest         0.069760  \n",
       "Domestic      -0.041736  \n",
       "Ward          -0.001109  \n",
       "X Coordinate  -0.005368  \n",
       "Y Coordinate  -0.001347  \n",
       "Year          -0.010516  \n",
       "Latitude      -0.001322  \n",
       "Longitude     -0.005422  \n",
       "Month          0.001724  \n",
       "Day            0.013508  \n",
       "Weekday       -0.037863  \n",
       "HourOfDay      1.000000  "
      ]
     },
     "execution_count": 307,
     "metadata": {},
     "output_type": "execute_result"
    }
   ],
   "source": [
    "# Pearsons Correlation\n",
    "mydf.corr(method='pearson')"
   ]
  },
  {
   "cell_type": "code",
   "execution_count": 308,
   "metadata": {},
   "outputs": [
    {
     "data": {
      "text/html": [
       "<div>\n",
       "<style scoped>\n",
       "    .dataframe tbody tr th:only-of-type {\n",
       "        vertical-align: middle;\n",
       "    }\n",
       "\n",
       "    .dataframe tbody tr th {\n",
       "        vertical-align: top;\n",
       "    }\n",
       "\n",
       "    .dataframe thead th {\n",
       "        text-align: right;\n",
       "    }\n",
       "</style>\n",
       "<table border=\"1\" class=\"dataframe\">\n",
       "  <thead>\n",
       "    <tr style=\"text-align: right;\">\n",
       "      <th></th>\n",
       "      <th>Primary Type</th>\n",
       "      <th>Description</th>\n",
       "      <th>Location Description</th>\n",
       "      <th>Arrest</th>\n",
       "      <th>Domestic</th>\n",
       "      <th>Ward</th>\n",
       "      <th>Year</th>\n",
       "      <th>Latitude</th>\n",
       "      <th>Longitude</th>\n",
       "      <th>Month</th>\n",
       "      <th>Day</th>\n",
       "      <th>Weekday</th>\n",
       "      <th>HourOfDay</th>\n",
       "      <th>Weapon</th>\n",
       "    </tr>\n",
       "  </thead>\n",
       "  <tbody>\n",
       "    <tr>\n",
       "      <th>1025187</th>\n",
       "      <td>THEFT</td>\n",
       "      <td>OVER $500</td>\n",
       "      <td>BAR OR TAVERN</td>\n",
       "      <td>False</td>\n",
       "      <td>False</td>\n",
       "      <td>43.0</td>\n",
       "      <td>2014</td>\n",
       "      <td>41.926954</td>\n",
       "      <td>-87.650869</td>\n",
       "      <td>1</td>\n",
       "      <td>1</td>\n",
       "      <td>2</td>\n",
       "      <td>0</td>\n",
       "      <td>NONE</td>\n",
       "    </tr>\n",
       "    <tr>\n",
       "      <th>1025332</th>\n",
       "      <td>CRIMINAL DAMAGE</td>\n",
       "      <td>TO VEHICLE</td>\n",
       "      <td>STREET</td>\n",
       "      <td>False</td>\n",
       "      <td>False</td>\n",
       "      <td>12.0</td>\n",
       "      <td>2014</td>\n",
       "      <td>41.842059</td>\n",
       "      <td>-87.701290</td>\n",
       "      <td>1</td>\n",
       "      <td>1</td>\n",
       "      <td>2</td>\n",
       "      <td>0</td>\n",
       "      <td>NONE</td>\n",
       "    </tr>\n",
       "    <tr>\n",
       "      <th>1218196</th>\n",
       "      <td>OTHER OFFENSE</td>\n",
       "      <td>HARASSMENT BY TELEPHONE</td>\n",
       "      <td>STREET</td>\n",
       "      <td>False</td>\n",
       "      <td>False</td>\n",
       "      <td>16.0</td>\n",
       "      <td>2014</td>\n",
       "      <td>41.776978</td>\n",
       "      <td>-87.649572</td>\n",
       "      <td>1</td>\n",
       "      <td>1</td>\n",
       "      <td>2</td>\n",
       "      <td>0</td>\n",
       "      <td>NONE</td>\n",
       "    </tr>\n",
       "    <tr>\n",
       "      <th>1218002</th>\n",
       "      <td>CRIM SEXUAL ABUSE</td>\n",
       "      <td>AGGRAVATED</td>\n",
       "      <td>RESIDENCE</td>\n",
       "      <td>False</td>\n",
       "      <td>True</td>\n",
       "      <td>3.0</td>\n",
       "      <td>2014</td>\n",
       "      <td>41.797663</td>\n",
       "      <td>-87.620919</td>\n",
       "      <td>1</td>\n",
       "      <td>1</td>\n",
       "      <td>2</td>\n",
       "      <td>0</td>\n",
       "      <td>NONE</td>\n",
       "    </tr>\n",
       "    <tr>\n",
       "      <th>1025316</th>\n",
       "      <td>THEFT</td>\n",
       "      <td>FROM BUILDING</td>\n",
       "      <td>APARTMENT</td>\n",
       "      <td>False</td>\n",
       "      <td>False</td>\n",
       "      <td>35.0</td>\n",
       "      <td>2014</td>\n",
       "      <td>41.927834</td>\n",
       "      <td>-87.707452</td>\n",
       "      <td>1</td>\n",
       "      <td>1</td>\n",
       "      <td>2</td>\n",
       "      <td>0</td>\n",
       "      <td>NONE</td>\n",
       "    </tr>\n",
       "  </tbody>\n",
       "</table>\n",
       "</div>"
      ],
      "text/plain": [
       "              Primary Type              Description Location Description  \\\n",
       "1025187              THEFT                OVER $500        BAR OR TAVERN   \n",
       "1025332    CRIMINAL DAMAGE               TO VEHICLE               STREET   \n",
       "1218196      OTHER OFFENSE  HARASSMENT BY TELEPHONE               STREET   \n",
       "1218002  CRIM SEXUAL ABUSE               AGGRAVATED            RESIDENCE   \n",
       "1025316              THEFT            FROM BUILDING            APARTMENT   \n",
       "\n",
       "         Arrest  Domestic  Ward  Year   Latitude  Longitude  Month  Day  \\\n",
       "1025187   False     False  43.0  2014  41.926954 -87.650869      1    1   \n",
       "1025332   False     False  12.0  2014  41.842059 -87.701290      1    1   \n",
       "1218196   False     False  16.0  2014  41.776978 -87.649572      1    1   \n",
       "1218002   False      True   3.0  2014  41.797663 -87.620919      1    1   \n",
       "1025316   False     False  35.0  2014  41.927834 -87.707452      1    1   \n",
       "\n",
       "         Weekday  HourOfDay Weapon  \n",
       "1025187        2          0   NONE  \n",
       "1025332        2          0   NONE  \n",
       "1218196        2          0   NONE  \n",
       "1218002        2          0   NONE  \n",
       "1025316        2          0   NONE  "
      ]
     },
     "execution_count": 308,
     "metadata": {},
     "output_type": "execute_result"
    }
   ],
   "source": [
    "# Drop X & Y coordinate - almost 100% correlated with latitude & longitude\n",
    "pearson_df = mydf.drop(['X Coordinate','Y Coordinate'], axis=1)\n",
    "pearson_df.head()"
   ]
  },
  {
   "cell_type": "code",
   "execution_count": 309,
   "metadata": {},
   "outputs": [
    {
     "data": {
      "text/html": [
       "<div>\n",
       "<style scoped>\n",
       "    .dataframe tbody tr th:only-of-type {\n",
       "        vertical-align: middle;\n",
       "    }\n",
       "\n",
       "    .dataframe tbody tr th {\n",
       "        vertical-align: top;\n",
       "    }\n",
       "\n",
       "    .dataframe thead th {\n",
       "        text-align: right;\n",
       "    }\n",
       "</style>\n",
       "<table border=\"1\" class=\"dataframe\">\n",
       "  <thead>\n",
       "    <tr style=\"text-align: right;\">\n",
       "      <th></th>\n",
       "      <th>Arrest</th>\n",
       "      <th>Domestic</th>\n",
       "      <th>Ward</th>\n",
       "      <th>Year</th>\n",
       "      <th>Latitude</th>\n",
       "      <th>Longitude</th>\n",
       "      <th>Month</th>\n",
       "      <th>Day</th>\n",
       "      <th>Weekday</th>\n",
       "      <th>HourOfDay</th>\n",
       "      <th>...</th>\n",
       "      <th>Weapon_AIR RIFLE</th>\n",
       "      <th>Weapon_FIREARM</th>\n",
       "      <th>Weapon_HANDGUN</th>\n",
       "      <th>Weapon_HANDS/FIST/FEET NO/MINOR INJURY</th>\n",
       "      <th>Weapon_HANDS/FIST/FEET SERIOUS INJURY</th>\n",
       "      <th>Weapon_KNIFE/CUTTING INSTRUMENT</th>\n",
       "      <th>Weapon_NONE</th>\n",
       "      <th>Weapon_OTHER</th>\n",
       "      <th>Weapon_OTHER DANGEROUS WEAPON</th>\n",
       "      <th>Weapon_OTHER FIREARM</th>\n",
       "    </tr>\n",
       "  </thead>\n",
       "  <tbody>\n",
       "    <tr>\n",
       "      <th>1025187</th>\n",
       "      <td>False</td>\n",
       "      <td>False</td>\n",
       "      <td>43.0</td>\n",
       "      <td>2014</td>\n",
       "      <td>41.926954</td>\n",
       "      <td>-87.650869</td>\n",
       "      <td>1</td>\n",
       "      <td>1</td>\n",
       "      <td>2</td>\n",
       "      <td>0</td>\n",
       "      <td>...</td>\n",
       "      <td>0</td>\n",
       "      <td>0</td>\n",
       "      <td>0</td>\n",
       "      <td>0</td>\n",
       "      <td>0</td>\n",
       "      <td>0</td>\n",
       "      <td>1</td>\n",
       "      <td>0</td>\n",
       "      <td>0</td>\n",
       "      <td>0</td>\n",
       "    </tr>\n",
       "    <tr>\n",
       "      <th>1025332</th>\n",
       "      <td>False</td>\n",
       "      <td>False</td>\n",
       "      <td>12.0</td>\n",
       "      <td>2014</td>\n",
       "      <td>41.842059</td>\n",
       "      <td>-87.701290</td>\n",
       "      <td>1</td>\n",
       "      <td>1</td>\n",
       "      <td>2</td>\n",
       "      <td>0</td>\n",
       "      <td>...</td>\n",
       "      <td>0</td>\n",
       "      <td>0</td>\n",
       "      <td>0</td>\n",
       "      <td>0</td>\n",
       "      <td>0</td>\n",
       "      <td>0</td>\n",
       "      <td>1</td>\n",
       "      <td>0</td>\n",
       "      <td>0</td>\n",
       "      <td>0</td>\n",
       "    </tr>\n",
       "    <tr>\n",
       "      <th>1218196</th>\n",
       "      <td>False</td>\n",
       "      <td>False</td>\n",
       "      <td>16.0</td>\n",
       "      <td>2014</td>\n",
       "      <td>41.776978</td>\n",
       "      <td>-87.649572</td>\n",
       "      <td>1</td>\n",
       "      <td>1</td>\n",
       "      <td>2</td>\n",
       "      <td>0</td>\n",
       "      <td>...</td>\n",
       "      <td>0</td>\n",
       "      <td>0</td>\n",
       "      <td>0</td>\n",
       "      <td>0</td>\n",
       "      <td>0</td>\n",
       "      <td>0</td>\n",
       "      <td>1</td>\n",
       "      <td>0</td>\n",
       "      <td>0</td>\n",
       "      <td>0</td>\n",
       "    </tr>\n",
       "    <tr>\n",
       "      <th>1218002</th>\n",
       "      <td>False</td>\n",
       "      <td>True</td>\n",
       "      <td>3.0</td>\n",
       "      <td>2014</td>\n",
       "      <td>41.797663</td>\n",
       "      <td>-87.620919</td>\n",
       "      <td>1</td>\n",
       "      <td>1</td>\n",
       "      <td>2</td>\n",
       "      <td>0</td>\n",
       "      <td>...</td>\n",
       "      <td>0</td>\n",
       "      <td>0</td>\n",
       "      <td>0</td>\n",
       "      <td>0</td>\n",
       "      <td>0</td>\n",
       "      <td>0</td>\n",
       "      <td>1</td>\n",
       "      <td>0</td>\n",
       "      <td>0</td>\n",
       "      <td>0</td>\n",
       "    </tr>\n",
       "    <tr>\n",
       "      <th>1025316</th>\n",
       "      <td>False</td>\n",
       "      <td>False</td>\n",
       "      <td>35.0</td>\n",
       "      <td>2014</td>\n",
       "      <td>41.927834</td>\n",
       "      <td>-87.707452</td>\n",
       "      <td>1</td>\n",
       "      <td>1</td>\n",
       "      <td>2</td>\n",
       "      <td>0</td>\n",
       "      <td>...</td>\n",
       "      <td>0</td>\n",
       "      <td>0</td>\n",
       "      <td>0</td>\n",
       "      <td>0</td>\n",
       "      <td>0</td>\n",
       "      <td>0</td>\n",
       "      <td>1</td>\n",
       "      <td>0</td>\n",
       "      <td>0</td>\n",
       "      <td>0</td>\n",
       "    </tr>\n",
       "  </tbody>\n",
       "</table>\n",
       "<p>5 rows × 359 columns</p>\n",
       "</div>"
      ],
      "text/plain": [
       "         Arrest  Domestic  Ward  Year   Latitude  Longitude  Month  Day  \\\n",
       "1025187   False     False  43.0  2014  41.926954 -87.650869      1    1   \n",
       "1025332   False     False  12.0  2014  41.842059 -87.701290      1    1   \n",
       "1218196   False     False  16.0  2014  41.776978 -87.649572      1    1   \n",
       "1218002   False      True   3.0  2014  41.797663 -87.620919      1    1   \n",
       "1025316   False     False  35.0  2014  41.927834 -87.707452      1    1   \n",
       "\n",
       "         Weekday  HourOfDay  ...  Weapon_AIR RIFLE  Weapon_FIREARM  \\\n",
       "1025187        2          0  ...                 0               0   \n",
       "1025332        2          0  ...                 0               0   \n",
       "1218196        2          0  ...                 0               0   \n",
       "1218002        2          0  ...                 0               0   \n",
       "1025316        2          0  ...                 0               0   \n",
       "\n",
       "         Weapon_HANDGUN  Weapon_HANDS/FIST/FEET NO/MINOR INJURY  \\\n",
       "1025187               0                                       0   \n",
       "1025332               0                                       0   \n",
       "1218196               0                                       0   \n",
       "1218002               0                                       0   \n",
       "1025316               0                                       0   \n",
       "\n",
       "         Weapon_HANDS/FIST/FEET SERIOUS INJURY  \\\n",
       "1025187                                      0   \n",
       "1025332                                      0   \n",
       "1218196                                      0   \n",
       "1218002                                      0   \n",
       "1025316                                      0   \n",
       "\n",
       "         Weapon_KNIFE/CUTTING INSTRUMENT  Weapon_NONE  Weapon_OTHER  \\\n",
       "1025187                                0            1             0   \n",
       "1025332                                0            1             0   \n",
       "1218196                                0            1             0   \n",
       "1218002                                0            1             0   \n",
       "1025316                                0            1             0   \n",
       "\n",
       "         Weapon_OTHER DANGEROUS WEAPON  Weapon_OTHER FIREARM  \n",
       "1025187                              0                     0  \n",
       "1025332                              0                     0  \n",
       "1218196                              0                     0  \n",
       "1218002                              0                     0  \n",
       "1025316                              0                     0  \n",
       "\n",
       "[5 rows x 359 columns]"
      ]
     },
     "execution_count": 309,
     "metadata": {},
     "output_type": "execute_result"
    }
   ],
   "source": [
    "# Convert all text cells to numeric using pandas get dummies\n",
    "dummy_df = pd.get_dummies(pearson_df)\n",
    "dummy_df.head()"
   ]
  },
  {
   "cell_type": "code",
   "execution_count": 310,
   "metadata": {},
   "outputs": [
    {
     "name": "stdout",
     "output_type": "stream",
     "text": [
      "1325803 rows, 359 columns = 475963277 cells\n"
     ]
    }
   ],
   "source": [
    "# Keep num features below 1000 - total cells less than 1 billion\n",
    "rows = dummy_df['Arrest'].count()\n",
    "columns = len(dummy_df.columns)\n",
    "print(f\"{rows} rows, {columns} columns = {rows*columns} cells\")"
   ]
  },
  {
   "cell_type": "markdown",
   "metadata": {},
   "source": [
    "## Fit data to locations using nearest neighbor"
   ]
  },
  {
   "cell_type": "code",
   "execution_count": 319,
   "metadata": {},
   "outputs": [
    {
     "data": {
      "text/plain": [
       "(1325803, 2)"
      ]
     },
     "execution_count": 319,
     "metadata": {},
     "output_type": "execute_result"
    }
   ],
   "source": [
    "from sklearn.neighbors import KNeighborsClassifier\n",
    "# Predict crimes by location\n",
    "y = pearson_df['Primary Type']\n",
    "X = pearson_df[['Latitude','Longitude']]\n",
    "\n",
    "X.shape"
   ]
  },
  {
   "cell_type": "code",
   "execution_count": 330,
   "metadata": {},
   "outputs": [
    {
     "data": {
      "text/plain": [
       "28"
      ]
     },
     "execution_count": 330,
     "metadata": {},
     "output_type": "execute_result"
    }
   ],
   "source": [
    "len(y.unique())"
   ]
  },
  {
   "cell_type": "code",
   "execution_count": 331,
   "metadata": {},
   "outputs": [],
   "source": [
    "# split data into training, testing\n",
    "from sklearn.model_selection import train_test_split\n",
    "X_train, X_test, y_train, y_test = train_test_split(X, y, random_state=36)"
   ]
  },
  {
   "cell_type": "code",
   "execution_count": 332,
   "metadata": {},
   "outputs": [
    {
     "name": "stdout",
     "output_type": "stream",
     "text": [
      "k: 1, Train/Test Score: 0.468/0.216\n",
      "k: 3, Train/Test Score: 0.398/0.235\n",
      "k: 5, Train/Test Score: 0.399/0.260\n",
      "k: 7, Train/Test Score: 0.391/0.272\n",
      "k: 9, Train/Test Score: 0.382/0.281\n",
      "k: 11, Train/Test Score: 0.376/0.286\n",
      "k: 13, Train/Test Score: 0.370/0.290\n",
      "k: 15, Train/Test Score: 0.365/0.293\n",
      "k: 17, Train/Test Score: 0.360/0.295\n",
      "k: 19, Train/Test Score: 0.357/0.298\n"
     ]
    },
    {
     "data": {
      "image/png": "[encoded data removed]",
      "text/plain": [
       "<Figure size 432x288 with 1 Axes>"
      ]
     },
     "metadata": {
      "needs_background": "light"
     },
     "output_type": "display_data"
    }
   ],
   "source": [
    "train_scores = []\n",
    "test_scores = []\n",
    "for k in range(1, 20, 2):\n",
    "    knn = KNeighborsClassifier(n_neighbors=k)\n",
    "    knn.fit(X_train, y_train)\n",
    "    train_score = knn.score(X_train, y_train)\n",
    "    test_score = knn.score(X_test, y_test)\n",
    "    train_scores.append(train_score)\n",
    "    test_scores.append(test_score)\n",
    "    print(f\"k: {k}, Train/Test Score: {train_score:.3f}/{test_score:.3f}\")\n",
    "    \n",
    "    \n",
    "plt.plot(range(1, 20, 2), train_scores, marker='o')\n",
    "plt.plot(range(1, 20, 2), test_scores, marker=\"x\")\n",
    "plt.xlabel(\"k neighbors\")\n",
    "plt.ylabel(\"Testing accuracy Score\")\n",
    "plt.show()"
   ]
  },
  {
   "cell_type": "code",
   "execution_count": 336,
   "metadata": {},
   "outputs": [],
   "source": [
    "# # random state 42\n",
    "# k: 3, Train/Test Score: 0.401/0.238\n",
    "# k: 5, Train/Test Score: 0.401/0.262\n",
    "\n",
    "# # random state 41\n",
    "# k: 3, Train/Test Score: 0.400/0.237\n",
    "# k: 5, Train/Test Score: 0.402/0.264\n",
    "\n",
    "# # random state 39\n",
    "# k: 3, Train/Test Score: 0.399/0.235\n",
    "# k: 5, Train/Test Score: 0.401/0.261\n",
    "\n",
    "# # random state 36\n",
    "# k: 3, Train/Test Score: 0.398/0.235\n",
    "# k: 5, Train/Test Score: 0.399/0.260"
   ]
  },
  {
   "cell_type": "code",
   "execution_count": null,
   "metadata": {},
   "outputs": [],
   "source": []
  }
 ],
 "metadata": {
  "kernelspec": {
   "display_name": "Python 3",
   "language": "python",
   "name": "python3"
  },
  "language_info": {
   "codemirror_mode": {
    "name": "ipython",
    "version": 3
   },
   "file_extension": ".py",
   "mimetype": "text/x-python",
   "name": "python",
   "nbconvert_exporter": "python",
   "pygments_lexer": "ipython3",
   "version": "3.6.8"
  }
 },
 "nbformat": 4,
 "nbformat_minor": 2
}
