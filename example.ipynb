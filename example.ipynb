{
 "cells": [
  {
   "cell_type": "code",
   "execution_count": null,
   "metadata": {},
   "outputs": [],
   "source": [
    "import dash\n",
    "import dash_core_components as dcc\n",
    "import dash_html_components as html\n",
    "import plotly.graph_objs as go\n",
    "import pandas as pd\n",
    "\n",
    "df=pd.read_csv('/Users/nathanmitch/Desktop/sundress/L5T5Crime.csv')\n",
    "df.columns = df.columns.str.replace(' ', '')\n",
    "LocationDescription = df[\"LocationDescription\"].unique()\n",
    "\n",
    "app = dash.Dash()\n",
    "\n",
    "app.layout = html.Div([\n",
    "    html.H2(\"Crime by Year\"),\n",
    "    html.Div(\n",
    "        [\n",
    "            dcc.Dropdown(\n",
    "                id=\"LocationDescription\",\n",
    "                options=[{\n",
    "                    'label': i,\n",
    "                    'value': i\n",
    "                } for i in LocationDescription],\n",
    "                value='LocationDescription'),\n",
    "        ],\n",
    "        style={'width': '25%',\n",
    "               'display': 'inline-block'}),\n",
    "    dcc.Graph(id='funnel-graph'),\n",
    "])\n",
    "@app.callback(\n",
    "    dash.dependencies.Output('funnel-graph', 'figure'),\n",
    "    [dash.dependencies.Input('LocationDescription', 'value')])\n",
    "def update_graph(LocationDescription):\n",
    "    if LocationDescription == \"LocationDescription\":\n",
    "        df_plot = df.copy()\n",
    "    else:\n",
    "        df_plot = df[df['LocationDescription'] == LocationDescription]\n",
    "\n",
    "    pv = pd.pivot_table(\n",
    "        df_plot,\n",
    "        index=['Year'],\n",
    "        columns=[\"PrimaryType\"],\n",
    "        values=['ID'],\n",
    "        aggfunc=len,\n",
    "        fill_value=0)\n",
    "\n",
    "    trace1 = go.Bar(x=pv.index, y=pv[('ID', 'ASSAULT')], name='ASSAULT')\n",
    "    trace2 = go.Bar(x=pv.index, y=pv[('ID', 'BATTERY')], name='BATTERY')\n",
    "    trace3 = go.Bar(x=pv.index, y=pv[('ID', 'CRIMINAL DAMAGE')], name='CRIMINAL DAMAGE')\n",
    "    trace4 = go.Bar(x=pv.index, y=pv[('ID', 'NARCOTICS')], name='NARCOTICS')\n",
    "    trace5 = go.Bar(x=pv.index, y=pv[('ID', 'THEFT')], name='THEFT')\n",
    "\n",
    "    return {\n",
    "        'data': [trace1, trace2, trace3, trace4, trace5],\n",
    "        'layout':\n",
    "        go.Layout(\n",
    "            title='Crime in this{}'.format(LocationDescription),\n",
    "            barmode='stack')\n",
    "    }\n",
    "if __name__ == '__main__':\n",
    "    app.run_server(debug=False)"
   ]
  },
  {
   "cell_type": "code",
   "execution_count": null,
   "metadata": {},
   "outputs": [],
   "source": []
  },
  {
   "cell_type": "code",
   "execution_count": null,
   "metadata": {},
   "outputs": [],
   "source": []
  }
 ],
 "metadata": {
  "kernelspec": {
   "display_name": "Python 3",
   "language": "python",
   "name": "python3"
  },
  "language_info": {
   "codemirror_mode": {
    "name": "ipython",
    "version": 3
   },
   "file_extension": ".py",
   "mimetype": "text/x-python",
   "name": "python",
   "nbconvert_exporter": "python",
   "pygments_lexer": "ipython3",
   "version": "3.7.3"
  }
 },
 "nbformat": 4,
 "nbformat_minor": 2
}
