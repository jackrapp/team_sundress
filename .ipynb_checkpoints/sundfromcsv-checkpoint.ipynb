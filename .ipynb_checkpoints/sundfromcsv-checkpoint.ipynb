{
 "cells": [
  {
   "cell_type": "code",
   "execution_count": 1,
   "metadata": {},
   "outputs": [],
   "source": [
    "import pandas as pd\n",
    "import geopandas as gpd\n",
    "import matplotlib as plt\n",
    "import numpy as np\n",
    "import datetime"
   ]
  },
  {
   "cell_type": "code",
   "execution_count": 2,
   "metadata": {},
   "outputs": [],
   "source": [
    "df=pd.read_csv(\"/Users/nathanmitch/Desktop/sundress/Crimes_-_2001_to_present.csv\")"
   ]
  },
  {
   "cell_type": "code",
   "execution_count": 3,
   "metadata": {},
   "outputs": [
    {
     "data": {
      "text/html": [
       "<div>\n",
       "<style scoped>\n",
       "    .dataframe tbody tr th:only-of-type {\n",
       "        vertical-align: middle;\n",
       "    }\n",
       "\n",
       "    .dataframe tbody tr th {\n",
       "        vertical-align: top;\n",
       "    }\n",
       "\n",
       "    .dataframe thead th {\n",
       "        text-align: right;\n",
       "    }\n",
       "</style>\n",
       "<table border=\"1\" class=\"dataframe\">\n",
       "  <thead>\n",
       "    <tr style=\"text-align: right;\">\n",
       "      <th></th>\n",
       "      <th>ID</th>\n",
       "      <th>Case Number</th>\n",
       "      <th>Date</th>\n",
       "      <th>Block</th>\n",
       "      <th>IUCR</th>\n",
       "      <th>Primary Type</th>\n",
       "      <th>Description</th>\n",
       "      <th>Location Description</th>\n",
       "      <th>Arrest</th>\n",
       "      <th>Domestic</th>\n",
       "      <th>...</th>\n",
       "      <th>Longitude</th>\n",
       "      <th>Location</th>\n",
       "      <th>Historical Wards 2003-2015</th>\n",
       "      <th>Zip Codes</th>\n",
       "      <th>Community Areas</th>\n",
       "      <th>Census Tracts</th>\n",
       "      <th>Wards</th>\n",
       "      <th>Boundaries - ZIP Codes</th>\n",
       "      <th>Police Districts</th>\n",
       "      <th>Police Beats</th>\n",
       "    </tr>\n",
       "  </thead>\n",
       "  <tbody>\n",
       "    <tr>\n",
       "      <th>0</th>\n",
       "      <td>11663630</td>\n",
       "      <td>JC234612</td>\n",
       "      <td>2019-04-22 23:35:00</td>\n",
       "      <td>041XX W 25TH ST</td>\n",
       "      <td>1310</td>\n",
       "      <td>CRIMINAL DAMAGE</td>\n",
       "      <td>TO PROPERTY</td>\n",
       "      <td>RESIDENCE</td>\n",
       "      <td>False</td>\n",
       "      <td>True</td>\n",
       "      <td>...</td>\n",
       "      <td>-87.727011</td>\n",
       "      <td>(41.846047463, -87.727011485)</td>\n",
       "      <td>14.0</td>\n",
       "      <td>21569.0</td>\n",
       "      <td>32.0</td>\n",
       "      <td>194.0</td>\n",
       "      <td>28.0</td>\n",
       "      <td>57.0</td>\n",
       "      <td>21.0</td>\n",
       "      <td>161.0</td>\n",
       "    </tr>\n",
       "    <tr>\n",
       "      <th>1</th>\n",
       "      <td>11663656</td>\n",
       "      <td>JC234605</td>\n",
       "      <td>2019-04-22 23:32:00</td>\n",
       "      <td>006XX N LARAMIE AVE</td>\n",
       "      <td>0460</td>\n",
       "      <td>BATTERY</td>\n",
       "      <td>SIMPLE</td>\n",
       "      <td>SIDEWALK</td>\n",
       "      <td>False</td>\n",
       "      <td>False</td>\n",
       "      <td>...</td>\n",
       "      <td>-87.755490</td>\n",
       "      <td>(41.891905336, -87.755490053)</td>\n",
       "      <td>11.0</td>\n",
       "      <td>22216.0</td>\n",
       "      <td>26.0</td>\n",
       "      <td>673.0</td>\n",
       "      <td>45.0</td>\n",
       "      <td>32.0</td>\n",
       "      <td>25.0</td>\n",
       "      <td>67.0</td>\n",
       "    </tr>\n",
       "    <tr>\n",
       "      <th>2</th>\n",
       "      <td>11663650</td>\n",
       "      <td>JC234610</td>\n",
       "      <td>2019-04-22 23:30:00</td>\n",
       "      <td>091XX S GREENWOOD AVE</td>\n",
       "      <td>0460</td>\n",
       "      <td>BATTERY</td>\n",
       "      <td>SIMPLE</td>\n",
       "      <td>PARK PROPERTY</td>\n",
       "      <td>False</td>\n",
       "      <td>False</td>\n",
       "      <td>...</td>\n",
       "      <td>-87.597361</td>\n",
       "      <td>(41.728594642, -87.597361383)</td>\n",
       "      <td>9.0</td>\n",
       "      <td>21546.0</td>\n",
       "      <td>43.0</td>\n",
       "      <td>472.0</td>\n",
       "      <td>35.0</td>\n",
       "      <td>61.0</td>\n",
       "      <td>19.0</td>\n",
       "      <td>246.0</td>\n",
       "    </tr>\n",
       "    <tr>\n",
       "      <th>3</th>\n",
       "      <td>11663815</td>\n",
       "      <td>JC234809</td>\n",
       "      <td>2019-04-22 23:30:00</td>\n",
       "      <td>067XX N MOZART ST</td>\n",
       "      <td>0820</td>\n",
       "      <td>THEFT</td>\n",
       "      <td>$500 AND UNDER</td>\n",
       "      <td>RESIDENCE</td>\n",
       "      <td>False</td>\n",
       "      <td>False</td>\n",
       "      <td>...</td>\n",
       "      <td>-87.701012</td>\n",
       "      <td>(42.003851203, -87.701012017)</td>\n",
       "      <td>42.0</td>\n",
       "      <td>22528.0</td>\n",
       "      <td>20.0</td>\n",
       "      <td>40.0</td>\n",
       "      <td>27.0</td>\n",
       "      <td>12.0</td>\n",
       "      <td>11.0</td>\n",
       "      <td>46.0</td>\n",
       "    </tr>\n",
       "    <tr>\n",
       "      <th>4</th>\n",
       "      <td>11663693</td>\n",
       "      <td>JC234650</td>\n",
       "      <td>2019-04-22 23:30:00</td>\n",
       "      <td>047XX S COTTAGE GROVE AVE</td>\n",
       "      <td>0610</td>\n",
       "      <td>BURGLARY</td>\n",
       "      <td>FORCIBLE ENTRY</td>\n",
       "      <td>DEPARTMENT STORE</td>\n",
       "      <td>False</td>\n",
       "      <td>False</td>\n",
       "      <td>...</td>\n",
       "      <td>-87.606558</td>\n",
       "      <td>(41.809305232, -87.606558389)</td>\n",
       "      <td>1.0</td>\n",
       "      <td>21192.0</td>\n",
       "      <td>5.0</td>\n",
       "      <td>461.0</td>\n",
       "      <td>10.0</td>\n",
       "      <td>10.0</td>\n",
       "      <td>24.0</td>\n",
       "      <td>116.0</td>\n",
       "    </tr>\n",
       "  </tbody>\n",
       "</table>\n",
       "<p>5 rows × 30 columns</p>\n",
       "</div>"
      ],
      "text/plain": [
       "         ID Case Number                Date                      Block  IUCR  \\\n",
       "0  11663630    JC234612 2019-04-22 23:35:00            041XX W 25TH ST  1310   \n",
       "1  11663656    JC234605 2019-04-22 23:32:00        006XX N LARAMIE AVE  0460   \n",
       "2  11663650    JC234610 2019-04-22 23:30:00      091XX S GREENWOOD AVE  0460   \n",
       "3  11663815    JC234809 2019-04-22 23:30:00          067XX N MOZART ST  0820   \n",
       "4  11663693    JC234650 2019-04-22 23:30:00  047XX S COTTAGE GROVE AVE  0610   \n",
       "\n",
       "      Primary Type     Description Location Description  Arrest  Domestic  \\\n",
       "0  CRIMINAL DAMAGE     TO PROPERTY            RESIDENCE   False      True   \n",
       "1          BATTERY          SIMPLE             SIDEWALK   False     False   \n",
       "2          BATTERY          SIMPLE        PARK PROPERTY   False     False   \n",
       "3            THEFT  $500 AND UNDER            RESIDENCE   False     False   \n",
       "4         BURGLARY  FORCIBLE ENTRY     DEPARTMENT STORE   False     False   \n",
       "\n",
       "   ...  Longitude                       Location  Historical Wards 2003-2015  \\\n",
       "0  ... -87.727011  (41.846047463, -87.727011485)                        14.0   \n",
       "1  ... -87.755490  (41.891905336, -87.755490053)                        11.0   \n",
       "2  ... -87.597361  (41.728594642, -87.597361383)                         9.0   \n",
       "3  ... -87.701012  (42.003851203, -87.701012017)                        42.0   \n",
       "4  ... -87.606558  (41.809305232, -87.606558389)                         1.0   \n",
       "\n",
       "   Zip Codes Community Areas  Census Tracts  Wards  Boundaries - ZIP Codes  \\\n",
       "0    21569.0            32.0          194.0   28.0                    57.0   \n",
       "1    22216.0            26.0          673.0   45.0                    32.0   \n",
       "2    21546.0            43.0          472.0   35.0                    61.0   \n",
       "3    22528.0            20.0           40.0   27.0                    12.0   \n",
       "4    21192.0             5.0          461.0   10.0                    10.0   \n",
       "\n",
       "  Police Districts  Police Beats  \n",
       "0             21.0         161.0  \n",
       "1             25.0          67.0  \n",
       "2             19.0         246.0  \n",
       "3             11.0          46.0  \n",
       "4             24.0         116.0  \n",
       "\n",
       "[5 rows x 30 columns]"
      ]
     },
     "execution_count": 3,
     "metadata": {},
     "output_type": "execute_result"
    }
   ],
   "source": [
    "df['Date'] = df['Date'].apply(lambda x: datetime.datetime.strptime(x,\"%m/%d/%Y %I:%M:%S %p\"))\n",
    "df.head()"
   ]
  },
  {
   "cell_type": "code",
   "execution_count": 4,
   "metadata": {},
   "outputs": [],
   "source": [
    "df['Year'] = df['Date'].dt.year\n",
    "df['Month'] = df['Date'].dt.month\n",
    "df['Day'] = df['Date'].dt.day\n",
    "df['Weekday'] = df['Date'].dt.dayofweek\n",
    "df['HourOfDay'] = df['Date'].dt.hour\n",
    "df = df.sort_values('Date')"
   ]
  },
  {
   "cell_type": "code",
   "execution_count": 5,
   "metadata": {},
   "outputs": [],
   "source": [
    "mydf=df[['ID','Date','Primary Type','Description','Location Description','Arrest',\\\n",
    "           'Domestic','District','Latitude','Longitude','X Coordinate','Y Coordinate','Year','Month','Day',\\\n",
    "        'Weekday','HourOfDay']]"
   ]
  },
  {
   "cell_type": "code",
   "execution_count": 6,
   "metadata": {},
   "outputs": [],
   "source": [
    "mydf=mydf.dropna()"
   ]
  },
  {
   "cell_type": "code",
   "execution_count": 7,
   "metadata": {},
   "outputs": [],
   "source": [
    "mydf.to_csv('/Users/nathanmitch/Desktop/sundress/CrimesCleaned.csv')"
   ]
  },
  {
   "cell_type": "code",
   "execution_count": 8,
   "metadata": {},
   "outputs": [],
   "source": [
    "samp=mydf.sample(frac=0.0001, replace=True, random_state=1)"
   ]
  },
  {
   "cell_type": "code",
   "execution_count": 9,
   "metadata": {},
   "outputs": [
    {
     "name": "stderr",
     "output_type": "stream",
     "text": [
      "/anaconda3/envs/sun2/lib/python3.7/site-packages/pysal/__init__.py:65: VisibleDeprecationWarning: PySAL's API will be changed on 2018-12-31. The last release made with this API is version 1.14.4. A preview of the next API version is provided in the `pysal` 2.0 prelease candidate. The API changes and a guide on how to change imports is provided at https://migrating.pysal.org\n",
      "  ), VisibleDeprecationWarning)\n"
     ]
    }
   ],
   "source": [
    "import pysal.esda.mapclassify as mapclassify\n",
    "import os\n",
    "from mapboxgl.utils import *\n",
    "from mapboxgl.viz import *"
   ]
  },
  {
   "cell_type": "code",
   "execution_count": 10,
   "metadata": {},
   "outputs": [],
   "source": [
    "token = os.getenv('pk.eyJ1IjoibmF0bWl0Y2giLCJhIjoiY2p0YXJwcGNoMGU0MjQ1bzM4cHlnZjBzMSJ9.IC_mcR4G2_d-gsOdspLPCQ')"
   ]
  },
  {
   "cell_type": "code",
   "execution_count": 11,
   "metadata": {},
   "outputs": [
    {
     "data": {
      "text/plain": [
       "{'type': 'file', 'filename': 'samp.geojson', 'feature_count': 679}"
      ]
     },
     "execution_count": 11,
     "metadata": {},
     "output_type": "execute_result"
    }
   ],
   "source": [
    "df_to_geojson(samp, filename='samp.geojson',\n",
    "              properties=['ID','Date','Primary Type','Description','Location Description','Arrest',\\\n",
    "                          'Domestic','District','X Coordinate','Y Coordinate','Year','Month',\\\n",
    "                          'Day','Weekday','HourOfDay'],\n",
    "              lat='Latitude', lon='Longitude')"
   ]
  },
  {
   "cell_type": "code",
   "execution_count": 12,
   "metadata": {},
   "outputs": [],
   "source": [
    "samp.to_csv('/Users/nathanmitch/Desktop/sundress/CrimesSamp.csv')"
   ]
  },
  {
   "cell_type": "code",
   "execution_count": 13,
   "metadata": {},
   "outputs": [
    {
     "data": {
      "text/plain": [
       "{'type': 'file', 'filename': 'full.geojson', 'feature_count': 6788802}"
      ]
     },
     "execution_count": 13,
     "metadata": {},
     "output_type": "execute_result"
    }
   ],
   "source": [
    "df_to_geojson(mydf, filename='full.geojson',\n",
    "              properties=['ID','Date','Primary Type','Description','Location Description','Arrest',\\\n",
    "                          'Domestic','District','X Coordinate','Y Coordinate','Year','Month',\\\n",
    "                          'Day','Weekday','HourOfDay'],\n",
    "              lat='Latitude', lon='Longitude')"
   ]
  },
  {
   "cell_type": "code",
   "execution_count": null,
   "metadata": {},
   "outputs": [],
   "source": []
  }
 ],
 "metadata": {
  "kernelspec": {
   "display_name": "Python 3",
   "language": "python",
   "name": "python3"
  },
  "language_info": {
   "codemirror_mode": {
    "name": "ipython",
    "version": 3
   },
   "file_extension": ".py",
   "mimetype": "text/x-python",
   "name": "python",
   "nbconvert_exporter": "python",
   "pygments_lexer": "ipython3",
   "version": "3.7.3"
  }
 },
 "nbformat": 4,
 "nbformat_minor": 2
}
