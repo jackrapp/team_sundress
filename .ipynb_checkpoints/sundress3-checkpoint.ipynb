{
 "cells": [
  {
   "cell_type": "code",
   "execution_count": null,
   "metadata": {},
   "outputs": [],
   "source": [
    "import numpy as np\n",
    "import pandas as pd\n",
    "from pandas import *\n",
    "import os\n",
    "import matplotlib.pyplot as plt\n",
    "import seaborn as sns\n",
    "%matplotlib inline\n",
    "import datetime\n",
    "from scipy import stats\n",
    "sns.set_style(\"darkgrid\")\n",
    "import matplotlib.image as mpimg\n",
    "from IPython.display import IFrame\n",
    "import folium\n",
    "from folium import plugins\n",
    "from folium.plugins import MarkerCluster, FastMarkerCluster, HeatMapWithTime"
   ]
  },
  {
   "cell_type": "code",
   "execution_count": null,
   "metadata": {},
   "outputs": [],
   "source": [
    "df=pd.read_csv(\"/Users/nathanmitch/Desktop/sundress/team_sundress/holdingout.csv\")"
   ]
  },
  {
   "cell_type": "code",
   "execution_count": null,
   "metadata": {},
   "outputs": [],
   "source": [
    "df = df.loc[(df['X Coordinate']!=0)]\n",
    "\n",
    "sns.lmplot('X Coordinate', \n",
    "           'Y Coordinate',\n",
    "           data=df[:],\n",
    "           fit_reg=False, \n",
    "           hue=\"District\",\n",
    "           palette='Dark2',\n",
    "           height=12,\n",
    "           ci=2,\n",
    "           scatter_kws={\"marker\": \"D\", \n",
    "                        \"s\": 10})\n",
    "ax = plt.gca()\n",
    "ax.set_title(\"Crime Dot Plot\")"
   ]
  },
  {
   "cell_type": "code",
   "execution_count": null,
   "metadata": {},
   "outputs": [],
   "source": [
    "df['Date'] = df['Date'].apply(lambda x: datetime.datetime.strptime(x,\"%m/%d/%Y %I:%M:%S %p\"))\n",
    "df.head()"
   ]
  },
  {
   "cell_type": "code",
   "execution_count": null,
   "metadata": {},
   "outputs": [],
   "source": [
    "df['Year'] = df['Date'].dt.year\n",
    "df['Month'] = df['Date'].dt.month\n",
    "df['Day'] = df['Date'].dt.day\n",
    "df['Weekday'] = df['Date'].dt.dayofweek\n",
    "df['HourOfDay'] = df['Date'].dt.hour\n",
    "df = df.sort_values('Date')"
   ]
  },
  {
   "cell_type": "code",
   "execution_count": null,
   "metadata": {},
   "outputs": [],
   "source": [
    "plt.figure(figsize=(12,6))\n",
    "sns.barplot(x='Year',\n",
    "#            y='HOMICIDE',\n",
    "            data=df.groupby(['Year'])['Primary Type'].value_counts().\\\n",
    "                 unstack().reset_index(),\n",
    "            color='steelblue').\\\n",
    "            set_title(\"Crime Over Time\")"
   ]
  },
  {
   "cell_type": "code",
   "execution_count": null,
   "metadata": {},
   "outputs": [],
   "source": [
    "fig, ax = plt.subplots(figsize=(14,6))\n",
    "month_nms = ['January','February','March','April','May','June','July','August'\\\n",
    "             ,'September','October','November','December']    \n",
    "fig = sns.barplot(x='Month',\n",
    "#                  y='HOMICIDE',\n",
    "                  data=df.groupby(['Year','Month'])['Primary Type'].\\\n",
    "                  value_counts().unstack().reset_index(),\n",
    "                  color='#808080')\n",
    "ax.set_xticklabels(month_nms)\n",
    "plt.title(\"Monthly Crime\")"
   ]
  },
  {
   "cell_type": "code",
   "execution_count": null,
   "metadata": {},
   "outputs": [],
   "source": [
    "fig, ax = plt.subplots(figsize=(14,6))\n",
    "week_days = ['Sunday','Monday','Tuesday','Wednesday','Thursday','Friday','Saturday']    \n",
    "fig = sns.barplot(x='Weekday',\n",
    "#                  y='HOMICIDE',\n",
    "                  data=df.groupby(['Year','Weekday'])['Primary Type'].\\\n",
    "                       value_counts().unstack().reset_index(),\n",
    "                  color='steelblue')\n",
    "ax.set_xticklabels(week_days)\n",
    "plt.title('Crime by Day of Week')"
   ]
  },
  {
   "cell_type": "code",
   "execution_count": null,
   "metadata": {},
   "outputs": [],
   "source": [
    "fig, ax = plt.subplots(figsize=(14,6))\n",
    "fig = sns.barplot(x='HourOfDay',\n",
    "#                  y='HOMICIDE',\n",
    "                  data=df.groupby(['Year','HourOfDay'])['Primary Type'].\\\n",
    "                       value_counts().unstack().reset_index(),\n",
    "                  color='steelblue',\n",
    "                  alpha=.75)\n",
    "plt.title('Crime by Time of Day')"
   ]
  },
  {
   "cell_type": "code",
   "execution_count": null,
   "metadata": {},
   "outputs": [],
   "source": [
    "crime_scene = df['Primary Type'].\\\n",
    "            groupby(df['Location Description']).\\\n",
    "            value_counts().\\\n",
    "            unstack().\\\n",
    "            sort_values('HOMICIDE',ascending=False).\\\n",
    "            reset_index()\n",
    "    \n",
    "# Top Homicide Crime Scene Locations\n",
    "crime_scene.head(10)"
   ]
  },
  {
   "cell_type": "code",
   "execution_count": null,
   "metadata": {},
   "outputs": [],
   "source": [
    "g = sns.catplot(x='Location Description',\n",
    "                   y='HOMICIDE',\n",
    "                   data=crime_scene,\n",
    "                   kind='bar',\n",
    "                   height=10,\n",
    "                   color='steelblue', \n",
    "                   saturation=10)\n",
    "g.fig.set_size_inches(15,5)\n",
    "g.set_xticklabels(rotation=90)\n",
    "plt.title('CRIME SCENE BY LOCATION FREQUENCY')"
   ]
  },
  {
   "cell_type": "code",
   "execution_count": null,
   "metadata": {},
   "outputs": [],
   "source": [
    "corr = df.groupby(['District','Year']).count().Date.unstack()\n",
    "fig, ax = plt.subplots(figsize=(15,13))\n",
    "sns.set(font_scale=1.0)\n",
    "sns.heatmap(corr.dropna(axis=1),\n",
    "            annot=True,\n",
    "           linewidths=0.2,\n",
    "           cmap='Blues',\n",
    "            robust=True,\n",
    "           cbar_kws={'label': 'HOMICIDES'})\n",
    "plt.title('HOMICIDE vs DISTRICT vs YEAR')"
   ]
  },
  {
   "cell_type": "code",
   "execution_count": null,
   "metadata": {},
   "outputs": [],
   "source": [
    "with sns.plotting_context('notebook',font_scale=1.5):\n",
    "    sorted_homicides = df[df['Year']>=2016].groupby(['District']).count()\\\n",
    "                    .Arrest.reset_index().sort_values('Arrest',ascending=False)\n",
    "    fig, ax = plt.subplots(figsize=(14,6))\n",
    "    sns.barplot(x='District',\n",
    "                y='Arrest',\n",
    "                data=sorted_homicides,\n",
    "                color='steelblue',\n",
    "                order = list(sorted_homicides['District']),\n",
    "                label='big')\n",
    "    plt.title('HOMICIDES PER DISTRICT (2016-2017) - Highest to Lowest')"
   ]
  },
  {
   "cell_type": "code",
   "execution_count": null,
   "metadata": {},
   "outputs": [],
   "source": [
    "fig, ax = plt.subplots(figsize=(14,6))\n",
    "df2 = df[['Year','Arrest']]\n",
    "ax = sns.countplot(x=\"Year\",\n",
    "                   hue='Arrest',\n",
    "                   data=df,\n",
    "                   palette=\"PuBuGn_d\")\n",
    "plt.title('HOMICIDE - ARRESTS STATS BY YEAR')"
   ]
  },
  {
   "cell_type": "code",
   "execution_count": null,
   "metadata": {},
   "outputs": [],
   "source": [
    "fig, ax = plt.subplots(figsize=(14,6))\n",
    "ax = sns.countplot(x=\"Month\",\n",
    "                   hue='Arrest',\n",
    "                   data=df[df['Year']>=2016][['Month','Arrest']],\n",
    "                   palette=\"PuBuGn_d\")\n",
    "month_nms = ['January','February','March','April','May','June','July',\\\n",
    "             'August','September','October','November','December']    \n",
    "ax.set_xticklabels(month_nms)\n",
    "plt.title('HOMICIDE - ARRESTS STATS BY MONTH -- (2016-2018)')"
   ]
  },
  {
   "cell_type": "code",
   "execution_count": null,
   "metadata": {},
   "outputs": [],
   "source": [
    "# plot chloropleth maps 2001 - 2017\n",
    "def toString(x):\n",
    "    return str(int(x))\n",
    "df_homicide_allyears = df_homicide.groupby(['District']).count().Arrest.reset_index()\n",
    "df_homicide_allyears['District'] = df_homicide_allyears['District'].apply(toString)\n",
    "# ______________________________________________________#\n",
    "chicago = location=[41.85, -87.68]\n",
    "m = folium.Map(chicago,\n",
    "               zoom_start=10)\n",
    "plugins.Fullscreen(\n",
    "    position='topright',\n",
    "    title='Expand me',\n",
    "    title_cancel='Exit me',\n",
    "    force_separate_button=True).add_to(m)\n",
    "m.choropleth(\n",
    "    geo_data='points1.geojson',\n",
    "    name='choropleth',\n",
    "    data=df_homicide_allyears,\n",
    "    columns=['District', 'Arrest'],\n",
    "    key_on='feature.properties.dist_num',\n",
    "    fill_color='YlOrRd', \n",
    "    fill_opacity=0.4, \n",
    "    line_opacity=0.2,\n",
    "    legend_name='Choropleth of Homicide per Police District : 2001-2017',\n",
    "    highlight=True\n",
    "    )\n",
    "folium.TileLayer('openstreetmap').add_to(m)\n",
    "folium.TileLayer('cartodbpositron').add_to(m)\n",
    "folium.LayerControl().add_to(m)\n",
    "m.save(\"map1.html\") \n",
    "IFrame('map1.html', width=990, height=700)"
   ]
  },
  {
   "cell_type": "code",
   "execution_count": null,
   "metadata": {},
   "outputs": [],
   "source": []
  }
 ],
 "metadata": {
  "kernelspec": {
   "display_name": "Python 3",
   "language": "python",
   "name": "python3"
  },
  "language_info": {
   "codemirror_mode": {
    "name": "ipython",
    "version": 3
   },
   "file_extension": ".py",
   "mimetype": "text/x-python",
   "name": "python",
   "nbconvert_exporter": "python",
   "pygments_lexer": "ipython3",
   "version": "3.7.3"
  }
 },
 "nbformat": 4,
 "nbformat_minor": 2
}
