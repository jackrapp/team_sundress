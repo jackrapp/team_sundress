{
 "cells": [
  {
   "cell_type": "code",
   "execution_count": null,
   "metadata": {},
   "outputs": [],
   "source": [
    "import dash\n",
    "import dash_core_components as dcc\n",
    "import dash_html_components as html\n",
    "from dash.dependencies import Input, Output\n",
    "app = dash.Dash()\n",
    "\n",
    "app.layout = html.Div([\n",
    "\n",
    "    dcc.Dropdown(id='dropdown', multi=True,\n",
    "                 options=[{'label': i, 'value': i} for i in range(10)], value=[1]),\n",
    "    dcc.Checklist(id='select-all',\n",
    "                  options=[{'label': 'Select All', 'value': 1}], values=[])\n",
    "])\n",
    "\n",
    "\n",
    "@app.callback(\n",
    "    Output('dropdown', 'value'),\n",
    "    [Input('select-all', 'values')])\n",
    "\n",
    "def test(selected, options, values):\n",
    "    print(selected)\n",
    "    if selected[0] == 1:\n",
    "        return [i['value'] for i in options]\n",
    "    else:\n",
    "        return values\n",
    "\n",
    "\n",
    "if __name__ == '__main__':\n",
    "    app.run_server(debug=False)"
   ]
  },
  {
   "cell_type": "code",
   "execution_count": null,
   "metadata": {},
   "outputs": [],
   "source": []
  }
 ],
 "metadata": {
  "kernelspec": {
   "display_name": "Python 3",
   "language": "python",
   "name": "python3"
  },
  "language_info": {
   "codemirror_mode": {
    "name": "ipython",
    "version": 3
   },
   "file_extension": ".py",
   "mimetype": "text/x-python",
   "name": "python",
   "nbconvert_exporter": "python",
   "pygments_lexer": "ipython3",
   "version": "3.7.3"
  }
 },
 "nbformat": 4,
 "nbformat_minor": 2
}
