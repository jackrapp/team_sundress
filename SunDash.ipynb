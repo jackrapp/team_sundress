{
 "cells": [
  {
   "cell_type": "code",
   "execution_count": null,
   "metadata": {},
   "outputs": [],
   "source": [
    "import dash\n",
    "import dash_core_components as dcc\n",
    "import dash_html_components as html\n",
    "import plotly.graph_objs as go\n",
    "import pandas as pd\n",
    "import numpy as np"
   ]
  },
  {
   "cell_type": "code",
   "execution_count": null,
   "metadata": {},
   "outputs": [],
   "source": [
    "external_stylesheets = ['https://codepen.io/chriddyp/pen/bWLwgP.css']\n",
    "app = dash.Dash(__name__, external_stylesheets=external_stylesheets)\n",
    "df=pd.read_csv('/Users/nathanmitch/Desktop/sundress/L5T5Crime.csv')\n",
    "df.columns = df.columns.str.replace(' ', '')\n",
    "df=df.sample(frac=0.8, replace=True, random_state=1)\n",
    "#df.head()\n",
    "LocationDescription_df=df['LocationDescription'].unique()"
   ]
  },
  {
   "cell_type": "code",
   "execution_count": null,
   "metadata": {},
   "outputs": [],
   "source": [
    "app = dash.Dash()\n",
    "\n",
    "app.layout = html.Div([\n",
    "    html.H2(\"Crime Location Report\"),\n",
    "    html.Div(\n",
    "        [\n",
    "            dcc.Dropdown(\n",
    "                id=\"Location\",\n",
    "                options=[{\n",
    "                    'label': i,\n",
    "                    'value': i\n",
    "                } for i in LocationDescription_df],\n",
    "                value='All Locations'),\n",
    "        ],\n",
    "        style={'width': '25%',\n",
    "               'display': 'inline-block'}),\n",
    "    dcc.Graph(id='funnel-graph'),\n",
    "\n",
    "])\n",
    "\n",
    "\n",
    "@app.callback(\n",
    "    dash.dependencies.Output('funnel-graph', 'figure'),\n",
    "    [dash.dependencies.Input('Location', 'value')])\n",
    "def update_graph(Location):\n",
    "    if Location == \"All Locations\":\n",
    "        df_plot = df.copy()\n",
    "    else:\n",
    "        df_plot = df[df['LocationDescription'] == Location]\n",
    "\n",
    "    pv = pd.pivot_table(\n",
    "        df_plot,\n",
    "        index=['Year'],\n",
    "        columns=[\"PrimaryType\"],\n",
    "        values=['ID'],\n",
    "        aggfunc=len,\n",
    "        fill_value=0)\n",
    "\n",
    "    trace1 = go.Bar(x=pv.index, y=pv[('ID', 'ASSAULT')], name='ASSAULT')\n",
    "    trace2 = go.Bar(x=pv.index, y=pv[('ID', 'BATTERY')], name='BATTERY')\n",
    "    trace3 = go.Bar(x=pv.index, y=pv[('ID', 'CRIMINAL DAMAGE')], name='CRIMINAL DAMAGE')\n",
    "    trace4 = go.Bar(x=pv.index, y=pv[('ID', 'NARCOTICS')], name='NARCOTICS')\n",
    "    trace5 = go.Bar(x=pv.index, y=pv[('ID', 'THEFT')], name='THEFT')\n",
    "    \n",
    "\n",
    "    return {\n",
    "        'data': [trace1, trace2, trace3, trace4, trace5],\n",
    "        'layout':\n",
    "        go.Layout(\n",
    "            title='Crim for {}'.format(Location),\n",
    "            barmode='stack')\n",
    "    }\n"
   ]
  },
  {
   "cell_type": "code",
   "execution_count": null,
   "metadata": {},
   "outputs": [],
   "source": [
    "if __name__ == '__main__':\n",
    "    app.run_server(debug=False)"
   ]
  },
  {
   "cell_type": "code",
   "execution_count": null,
   "metadata": {},
   "outputs": [],
   "source": []
  },
  {
   "cell_type": "code",
   "execution_count": null,
   "metadata": {},
   "outputs": [],
   "source": []
  },
  {
   "cell_type": "code",
   "execution_count": null,
   "metadata": {},
   "outputs": [],
   "source": []
  },
  {
   "cell_type": "code",
   "execution_count": null,
   "metadata": {},
   "outputs": [],
   "source": []
  },
  {
   "cell_type": "code",
   "execution_count": null,
   "metadata": {},
   "outputs": [],
   "source": []
  },
  {
   "cell_type": "code",
   "execution_count": null,
   "metadata": {},
   "outputs": [],
   "source": [
    "trace1=go.Bar(x=ptypv.index,y=ptypv[('ID','ASSAULT')],name='ASSAULT')\n",
    "trace2=go.Bar(x=ptypv.index,y=ptypv[('ID','BATTERY')],name='BATTERY')\n",
    "trace3=go.Bar(x=ptypv.index,y=ptypv[('ID','CRIMINAL DAMAGE')],name='CRIMINAL DAMAGE')\n",
    "trace4=go.Bar(x=ptypv.index,y=ptypv[('ID','NARCOTICS')],name='NARCOTICS')\n",
    "trace5=go.Bar(x=ptypv.index,y=ptypv[('ID','THEFT')],name='THEFT')\n",
    "\n",
    "return\n"
   ]
  },
  {
   "cell_type": "code",
   "execution_count": null,
   "metadata": {},
   "outputs": [],
   "source": []
  },
  {
   "cell_type": "code",
   "execution_count": null,
   "metadata": {},
   "outputs": [],
   "source": []
  },
  {
   "cell_type": "code",
   "execution_count": null,
   "metadata": {},
   "outputs": [],
   "source": []
  },
  {
   "cell_type": "code",
   "execution_count": null,
   "metadata": {},
   "outputs": [],
   "source": [
    "ptypv=pd.pivot_table(df,index=['Year'],columns=['PrimaryType'],values=['ID'],aggfunc=len)\n",
    "ptypv"
   ]
  },
  {
   "cell_type": "code",
   "execution_count": null,
   "metadata": {},
   "outputs": [],
   "source": [
    "app.layout=html.Div(children=[\n",
    "    html.H1(children='Crimes in Chicago'),\n",
    "    html.Div(children='''Crime Over Time Report'''),\n",
    "    dcc.Graph(\n",
    "    id='sbc',\n",
    "    figure={\n",
    "        'data':[trace1,trace2,trace3,trace4,trace5],\n",
    "        'layout':\n",
    "        go.Layout(title='Chicago Crime by Type and Year',barmode='stack')\n",
    "    })\n",
    "])"
   ]
  },
  {
   "cell_type": "code",
   "execution_count": null,
   "metadata": {},
   "outputs": [],
   "source": [
    "@app.callback(\n",
    "    dash.dependencies.Output('fung','figure'),\n",
    "    [dash.dependencies.Input('locdd','value')])\n",
    "def update_graph(fung):\n",
    "    if fung == 'Everywhere':\n",
    "        df_plot=df.copy()\n",
    "    else:\n",
    "        df_plot=df[df['LocationDescription']==fung]\n",
    "        \n",
    "    ptypv=pd.pivot_table(df,index=['Year'],columns=['PrimaryType'],values=['ID'],aggfunc=len)"
   ]
  }
 ],
 "metadata": {
  "kernelspec": {
   "display_name": "Python 3",
   "language": "python",
   "name": "python3"
  },
  "language_info": {
   "codemirror_mode": {
    "name": "ipython",
    "version": 3
   },
   "file_extension": ".py",
   "mimetype": "text/x-python",
   "name": "python",
   "nbconvert_exporter": "python",
   "pygments_lexer": "ipython3",
   "version": "3.7.3"
  }
 },
 "nbformat": 4,
 "nbformat_minor": 2
}
